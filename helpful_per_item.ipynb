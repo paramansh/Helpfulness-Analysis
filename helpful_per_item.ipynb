{
 "cells": [
  {
   "cell_type": "code",
   "execution_count": 1,
   "metadata": {},
   "outputs": [],
   "source": [
    "import pandas as pd\n",
    "import numpy as np\n",
    "import matplotlib.pyplot as plt"
   ]
  },
  {
   "cell_type": "code",
   "execution_count": 12,
   "metadata": {},
   "outputs": [],
   "source": [
    "# df = pd.read_json('data/review.json', lines=True)"
   ]
  },
  {
   "cell_type": "code",
   "execution_count": 2,
   "metadata": {},
   "outputs": [],
   "source": [
    "df2 = pd.read_pickle('data/data_frames/Cell_Phones_and_Accessories_5.pkl')"
   ]
  },
  {
   "cell_type": "code",
   "execution_count": 22,
   "metadata": {},
   "outputs": [
    {
     "name": "stdout",
     "output_type": "stream",
     "text": [
      "['B007P5NHJO']\n"
     ]
    }
   ],
   "source": [
    "item_df = (df2['asin']).value_counts()\n",
    "many_reviews = item_df[item_df > 20].index.values\n",
    "print (many_reviews)"
   ]
  },
  {
   "cell_type": "markdown",
   "metadata": {},
   "source": [
    "Plot helpfulness vs deviation plots for individual items. Considering only items with ore than 100 reviews."
   ]
  },
  {
   "cell_type": "code",
   "execution_count": 23,
   "metadata": {
    "scrolled": false
   },
   "outputs": [
    {
     "name": "stdout",
     "output_type": "stream",
     "text": [
      "B007P5NHJO\n",
      "105\n",
      "Average Rating = 4.523809523809524\n",
      "Standard Deviation = 0.9571310115353231\n"
     ]
    },
    {
     "data": {
      "image/png": "[encoded data removed]",
      "text/plain": [
       "<Figure size 432x288 with 1 Axes>"
      ]
     },
     "metadata": {},
     "output_type": "display_data"
    }
   ],
   "source": [
    "for i in many_reviews:\n",
    "    X = []\n",
    "    y = []\n",
    "    item = df2.loc[df2['asin'] == i]\n",
    "    print (i)\n",
    "    print (item.size)\n",
    "    average_rating = np.mean(item['overall'])\n",
    "    print (\"Average Rating =\", average_rating)\n",
    "    print (\"Standard Deviation =\", np.std(item['overall']))\n",
    "    for index, row in item.iterrows():\n",
    "        y.append(row['helpful'][0] / row['helpful'][1]) #float division\n",
    "        #python 3 required, otherwise import division from future\n",
    "        X.append(row['overall'] - average_rating)\n",
    "    df_temp = pd.DataFrame({'y': y, 'X': X})\n",
    "    uni_x = df_temp['X'].unique()\n",
    "    y2 = []\n",
    "    e = []\n",
    "    e_lower = []\n",
    "    for uni in uni_x:\n",
    "        y2.append(df_temp.loc[df_temp['X'] == uni]['y'].median())\n",
    "        e.append(df_temp.loc[df_temp['X'] == uni]['y'].quantile(0.66) - df_temp.loc[df_temp['X'] == uni]['y'].median())\n",
    "        e_lower.append(df_temp.loc[df_temp['X'] == uni]['y'].median() - df_temp.loc[df_temp['X'] == uni]['y'].quantile(0.33))\n",
    "    y3 = [x for _,x in sorted(zip(uni_x, y2))] # e2 sorted according to y\n",
    "    e2 = [x for _,x in sorted(zip(uni_x, e))]\n",
    "    e_lower2 = [x for _,x in sorted(zip(uni_x, e_lower))]\n",
    "    x2 = sorted(uni_x)\n",
    "    plt.xlim(-5, 5)\n",
    "    plot3 = plt.errorbar(x2, y3, (e_lower2, e2), fmt='-o')\n",
    "    plt.show(plot3)"
   ]
  },
  {
   "cell_type": "code",
   "execution_count": 24,
   "metadata": {},
   "outputs": [
    {
     "name": "stdout",
     "output_type": "stream",
     "text": [
      "Standard Deviation = 0.9571310115353231\n"
     ]
    }
   ],
   "source": [
    "many_reviews2 = item_df[item_df > 20].index.values\n",
    "low_sd_items = []\n",
    "for i in many_reviews2:\n",
    "    item = df2.loc[df2['asin'] == i]\n",
    "    sd = np.std(item['overall'])\n",
    "    if (sd < 1):\n",
    "        low_sd_items.append(i)\n",
    "        print (\"Standard Deviation =\", sd)\n",
    "    "
   ]
  },
  {
   "cell_type": "code",
   "execution_count": 25,
   "metadata": {},
   "outputs": [
    {
     "data": {
      "text/plain": [
       "['B007P5NHJO']"
      ]
     },
     "execution_count": 25,
     "metadata": {},
     "output_type": "execute_result"
    }
   ],
   "source": [
    "low_sd_items"
   ]
  },
  {
   "cell_type": "code",
   "execution_count": 26,
   "metadata": {
    "scrolled": false
   },
   "outputs": [
    {
     "name": "stdout",
     "output_type": "stream",
     "text": [
      "B007P5NHJO\n",
      "21\n",
      "Average Rating = 4.523809523809524\n",
      "Standard Deviation = 0.9571310115353231\n"
     ]
    },
    {
     "data": {
      "image/png": "[encoded data removed]",
      "text/plain": [
       "<Figure size 432x288 with 1 Axes>"
      ]
     },
     "metadata": {},
     "output_type": "display_data"
    }
   ],
   "source": [
    "for i in low_sd_items:\n",
    "    X = []\n",
    "    y = []\n",
    "    item = df2.loc[df2['asin'] == i]\n",
    "    print (i)\n",
    "    print (item.size//5)\n",
    "    average_rating = np.mean(item['overall'])\n",
    "    print (\"Average Rating =\", average_rating)\n",
    "    print (\"Standard Deviation =\", np.std(item['overall']))\n",
    "    for index, row in item.iterrows():\n",
    "        y.append(row['helpful'][0] / row['helpful'][1]) #float division\n",
    "        #python 3 required, otherwise import division from future\n",
    "        X.append(row['overall'] - average_rating)\n",
    "    df_temp = pd.DataFrame({'y': y, 'X': X})\n",
    "    uni_x = df_temp['X'].unique()\n",
    "    y2 = []\n",
    "    e = []\n",
    "    e_lower = []\n",
    "    for uni in uni_x:\n",
    "        y2.append(df_temp.loc[df_temp['X'] == uni]['y'].median())\n",
    "        e.append(df_temp.loc[df_temp['X'] == uni]['y'].quantile(0.66) - df_temp.loc[df_temp['X'] == uni]['y'].median())\n",
    "        e_lower.append(df_temp.loc[df_temp['X'] == uni]['y'].median() - df_temp.loc[df_temp['X'] == uni]['y'].quantile(0.33))\n",
    "\n",
    "    y3 = [x for _,x in sorted(zip(uni_x, y2))] # e2 sorted according to y\n",
    "    e2 = [x for _,x in sorted(zip(uni_x, e))]\n",
    "    e_lower2 = [x for _,x in sorted(zip(uni_x, e_lower))]\n",
    "    x2 = sorted(uni_x)\n",
    "    plt.xlim(-5, 5)\n",
    "    plot3 = plt.errorbar(x2, y3, (e_lower2, e2), fmt='-o')\n",
    "    plt.show(plot3)"
   ]
  },
  {
   "cell_type": "code",
   "execution_count": null,
   "metadata": {},
   "outputs": [],
   "source": [
    "# how can computed star average be equal to ineger every time."
   ]
  }
 ],
 "metadata": {
  "kernelspec": {
   "display_name": "Python 3",
   "language": "python",
   "name": "python3"
  },
  "language_info": {
   "codemirror_mode": {
    "name": "ipython",
    "version": 3
   },
   "file_extension": ".py",
   "mimetype": "text/x-python",
   "name": "python",
   "nbconvert_exporter": "python",
   "pygments_lexer": "ipython3",
   "version": "3.5.2"
  }
 },
 "nbformat": 4,
 "nbformat_minor": 2
}
