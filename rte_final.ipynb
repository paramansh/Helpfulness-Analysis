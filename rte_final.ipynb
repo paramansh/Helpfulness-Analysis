{
 "cells": [
  {
   "cell_type": "code",
   "execution_count": 1,
   "metadata": {},
   "outputs": [],
   "source": [
    "import pandas as pd\n",
    "import numpy as np\n",
    "import matplotlib.pyplot as plt"
   ]
  },
  {
   "cell_type": "code",
   "execution_count": 70,
   "metadata": {},
   "outputs": [],
   "source": [
    "df = pd.read_pickle('data/data_frames/Books_5.pkl')"
   ]
  },
  {
   "cell_type": "code",
   "execution_count": 71,
   "metadata": {},
   "outputs": [],
   "source": [
    "df = df.drop(['index'], axis = 1)\n",
    "num_reviews = df.shape[0]\n",
    "min_helpfull_review = 10"
   ]
  },
  {
   "cell_type": "code",
   "execution_count": 72,
   "metadata": {},
   "outputs": [
    {
     "data": {
      "text/html": [
       "<div>\n",
       "<style scoped>\n",
       "    .dataframe tbody tr th:only-of-type {\n",
       "        vertical-align: middle;\n",
       "    }\n",
       "\n",
       "    .dataframe tbody tr th {\n",
       "        vertical-align: top;\n",
       "    }\n",
       "\n",
       "    .dataframe thead th {\n",
       "        text-align: right;\n",
       "    }\n",
       "</style>\n",
       "<table border=\"1\" class=\"dataframe\">\n",
       "  <thead>\n",
       "    <tr style=\"text-align: right;\">\n",
       "      <th></th>\n",
       "      <th>asin</th>\n",
       "      <th>helpful</th>\n",
       "      <th>overall</th>\n",
       "      <th>reviewerID</th>\n",
       "    </tr>\n",
       "  </thead>\n",
       "  <tbody>\n",
       "    <tr>\n",
       "      <th>0</th>\n",
       "      <td>000100039X</td>\n",
       "      <td>[7, 9]</td>\n",
       "      <td>5</td>\n",
       "      <td>A2XQ5LZHTD4AFT</td>\n",
       "    </tr>\n",
       "    <tr>\n",
       "      <th>1</th>\n",
       "      <td>000100039X</td>\n",
       "      <td>[2, 9]</td>\n",
       "      <td>2</td>\n",
       "      <td>A1KQ80Y692CDOI</td>\n",
       "    </tr>\n",
       "    <tr>\n",
       "      <th>2</th>\n",
       "      <td>000100039X</td>\n",
       "      <td>[5, 6]</td>\n",
       "      <td>5</td>\n",
       "      <td>AF7CSSGV93RXN</td>\n",
       "    </tr>\n",
       "    <tr>\n",
       "      <th>3</th>\n",
       "      <td>000100039X</td>\n",
       "      <td>[81, 92]</td>\n",
       "      <td>5</td>\n",
       "      <td>A1NPNGWBVD9AK3</td>\n",
       "    </tr>\n",
       "    <tr>\n",
       "      <th>4</th>\n",
       "      <td>000100039X</td>\n",
       "      <td>[8, 10]</td>\n",
       "      <td>5</td>\n",
       "      <td>A3IS4WGMFR4X65</td>\n",
       "    </tr>\n",
       "  </tbody>\n",
       "</table>\n",
       "</div>"
      ],
      "text/plain": [
       "         asin   helpful  overall      reviewerID\n",
       "0  000100039X    [7, 9]        5  A2XQ5LZHTD4AFT\n",
       "1  000100039X    [2, 9]        2  A1KQ80Y692CDOI\n",
       "2  000100039X    [5, 6]        5   AF7CSSGV93RXN\n",
       "3  000100039X  [81, 92]        5  A1NPNGWBVD9AK3\n",
       "4  000100039X   [8, 10]        5  A3IS4WGMFR4X65"
      ]
     },
     "execution_count": 72,
     "metadata": {},
     "output_type": "execute_result"
    }
   ],
   "source": [
    "df.head()"
   ]
  },
  {
   "cell_type": "code",
   "execution_count": 73,
   "metadata": {},
   "outputs": [],
   "source": [
    "helpfulness = df['helpful']"
   ]
  },
  {
   "cell_type": "code",
   "execution_count": 74,
   "metadata": {},
   "outputs": [],
   "source": [
    "temp = [i for i in range(num_reviews)  if helpfulness[i][1] > min_helpfull_review]\n",
    "df_temp = df.iloc[temp].reset_index()\n",
    "df = df_temp"
   ]
  },
  {
   "cell_type": "code",
   "execution_count": 136,
   "metadata": {},
   "outputs": [
    {
     "data": {
      "text/html": [
       "<div>\n",
       "<style scoped>\n",
       "    .dataframe tbody tr th:only-of-type {\n",
       "        vertical-align: middle;\n",
       "    }\n",
       "\n",
       "    .dataframe tbody tr th {\n",
       "        vertical-align: top;\n",
       "    }\n",
       "\n",
       "    .dataframe thead th {\n",
       "        text-align: right;\n",
       "    }\n",
       "</style>\n",
       "<table border=\"1\" class=\"dataframe\">\n",
       "  <thead>\n",
       "    <tr style=\"text-align: right;\">\n",
       "      <th></th>\n",
       "      <th>index</th>\n",
       "      <th>asin</th>\n",
       "      <th>helpful</th>\n",
       "      <th>overall</th>\n",
       "      <th>reviewerID</th>\n",
       "    </tr>\n",
       "  </thead>\n",
       "  <tbody>\n",
       "    <tr>\n",
       "      <th>0</th>\n",
       "      <td>3</td>\n",
       "      <td>000100039X</td>\n",
       "      <td>[81, 92]</td>\n",
       "      <td>5</td>\n",
       "      <td>A1NPNGWBVD9AK3</td>\n",
       "    </tr>\n",
       "    <tr>\n",
       "      <th>1</th>\n",
       "      <td>8</td>\n",
       "      <td>000100039X</td>\n",
       "      <td>[10, 12]</td>\n",
       "      <td>5</td>\n",
       "      <td>A1SP45I55GQIIE</td>\n",
       "    </tr>\n",
       "    <tr>\n",
       "      <th>2</th>\n",
       "      <td>9</td>\n",
       "      <td>000100039X</td>\n",
       "      <td>[0, 13]</td>\n",
       "      <td>2</td>\n",
       "      <td>A2ZB1G1KUE6OS6</td>\n",
       "    </tr>\n",
       "    <tr>\n",
       "      <th>3</th>\n",
       "      <td>13</td>\n",
       "      <td>000100039X</td>\n",
       "      <td>[3, 15]</td>\n",
       "      <td>3</td>\n",
       "      <td>ATAPOART4QGVO</td>\n",
       "    </tr>\n",
       "    <tr>\n",
       "      <th>4</th>\n",
       "      <td>14</td>\n",
       "      <td>000100039X</td>\n",
       "      <td>[97, 103]</td>\n",
       "      <td>5</td>\n",
       "      <td>A2052JNVUPRTMT</td>\n",
       "    </tr>\n",
       "  </tbody>\n",
       "</table>\n",
       "</div>"
      ],
      "text/plain": [
       "   index        asin    helpful  overall      reviewerID\n",
       "0      3  000100039X   [81, 92]        5  A1NPNGWBVD9AK3\n",
       "1      8  000100039X   [10, 12]        5  A1SP45I55GQIIE\n",
       "2      9  000100039X    [0, 13]        2  A2ZB1G1KUE6OS6\n",
       "3     13  000100039X    [3, 15]        3   ATAPOART4QGVO\n",
       "4     14  000100039X  [97, 103]        5  A2052JNVUPRTMT"
      ]
     },
     "execution_count": 136,
     "metadata": {},
     "output_type": "execute_result"
    }
   ],
   "source": [
    "df.head()"
   ]
  },
  {
   "cell_type": "code",
   "execution_count": 75,
   "metadata": {},
   "outputs": [],
   "source": [
    "item_count_df = (df['asin']).value_counts()\n",
    "many_reviews = item_count_df[item_count_df > 100].index.values"
   ]
  },
  {
   "cell_type": "code",
   "execution_count": 81,
   "metadata": {},
   "outputs": [
    {
     "name": "stdout",
     "output_type": "stream",
     "text": [
      "(181189,)\n"
     ]
    },
    {
     "data": {
      "text/plain": [
       "191"
      ]
     },
     "execution_count": 81,
     "metadata": {},
     "output_type": "execute_result"
    }
   ],
   "source": [
    "print (df['asin'].unique().shape)\n",
    "many_reviews.shape[0]"
   ]
  },
  {
   "cell_type": "code",
   "execution_count": 100,
   "metadata": {},
   "outputs": [],
   "source": [
    "array = df.values"
   ]
  },
  {
   "cell_type": "code",
   "execution_count": 148,
   "metadata": {},
   "outputs": [
    {
     "data": {
      "text/plain": [
       "713836"
      ]
     },
     "execution_count": 148,
     "metadata": {},
     "output_type": "execute_result"
    }
   ],
   "source": [
    "num_reviews = array.shape[0]\n",
    "num_reviews"
   ]
  },
  {
   "cell_type": "code",
   "execution_count": 116,
   "metadata": {},
   "outputs": [
    {
     "data": {
      "text/plain": [
       "92"
      ]
     },
     "execution_count": 116,
     "metadata": {},
     "output_type": "execute_result"
    }
   ],
   "source": [
    "sum += array[0][3]\n",
    "x=array[0]\n",
    "x[2][1]"
   ]
  },
  {
   "cell_type": "code",
   "execution_count": 118,
   "metadata": {},
   "outputs": [],
   "source": [
    "item = array[0][1]\n",
    "prev_item = 'null'"
   ]
  },
  {
   "cell_type": "code",
   "execution_count": 135,
   "metadata": {
    "scrolled": true
   },
   "outputs": [
    {
     "data": {
      "text/plain": [
       "array([[3, '000100039X', list([81, 92]), 5, 'A1NPNGWBVD9AK3'],\n",
       "       [8, '000100039X', list([10, 12]), 5, 'A1SP45I55GQIIE'],\n",
       "       [9, '000100039X', list([0, 13]), 2, 'A2ZB1G1KUE6OS6'],\n",
       "       [13, '000100039X', list([3, 15]), 3, 'ATAPOART4QGVO'],\n",
       "       [14, '000100039X', list([97, 103]), 5, 'A2052JNVUPRTMT'],\n",
       "       [15, '000100039X', list([17, 20]), 5, 'AGKPTMTR3UX1R'],\n",
       "       [17, '000100039X', list([207, 215]), 5, 'A2ZZHMT58ZMVCZ'],\n",
       "       [18, '000100039X', list([156, 167]), 4, 'A3W43PSHRIG8KV'],\n",
       "       [19, '000100039X', list([0, 56]), 1, 'A3HLNFF21USD1K'],\n",
       "       [20, '000100039X', list([10, 28]), 2, 'AACNFH28C1ZHB'],\n",
       "       [21, '000100039X', list([19, 25]), 5, 'A1TR1LU2JSZLUL'],\n",
       "       [22, '000100039X', list([4, 15]), 3, 'ANTGGAQYPSWHF'],\n",
       "       [23, '000100039X', list([11, 14]), 5, 'ADIDQRLLR4KBQ'],\n",
       "       [24, '000100039X', list([10, 12]), 5, 'A3AW2ZG0GP4SKN'],\n",
       "       [25, '000100039X', list([10, 12]), 5, 'A2MMON52VMO7NT'],\n",
       "       [26, '000100039X', list([12, 15]), 3, 'AR72Z89LACZ8Q'],\n",
       "       [27, '000100039X', list([0, 27]), 1, 'A14A2VLURI8DGP'],\n",
       "       [31, '000100039X', list([28, 32]), 5, 'A281NPSIMI1C2R'],\n",
       "       [34, '000100039X', list([53, 130]), 1, 'ALD1CRUBY1365'],\n",
       "       [35, '000100039X', list([9, 13]), 4, 'AHD101501WCN1'],\n",
       "       [38, '000100039X', list([14, 18]), 5, 'A3D7L0R1281COX'],\n",
       "       [39, '000100039X', list([11, 40]), 1, 'A27XUU2DXILHYZ'],\n",
       "       [40, '000100039X', list([14, 17]), 5, 'A2INDDW3XYFFV1'],\n",
       "       [44, '0001055178', list([15, 15]), 4, 'A1Z1YNKLZHNCJ1'],\n",
       "       [46, '0001473123', list([9, 11]), 1, 'A1W5C4LPCVTPXE'],\n",
       "       [47, '0001712772', list([1, 19]), 1, 'AFEPQIPZP6EDF'],\n",
       "       [48, '0001712772', list([15, 16]), 5, 'A2VU7WW0V4X83G'],\n",
       "       [50, '0002005395', list([11, 11]), 5, 'A2ODBHT4URXVXQ'],\n",
       "       [53, '0002006715', list([0, 11]), 3, 'A3LHBV5MGDANHR'],\n",
       "       [57, '0002007649', list([12, 17]), 2, 'A359IT81FBX64Y'],\n",
       "       [58, '0002007649', list([8, 21]), 2, 'A1EX319KWE81UL'],\n",
       "       [59, '0002007770', list([36, 49]), 1, 'APBA7Y4SINS0H'],\n",
       "       [62, '0002007770', list([10, 11]), 5, 'A3DL1LB18GQG8A'],\n",
       "       [64, '0002007770', list([8, 12]), 1, 'A2YFZ0UYCG2EO3'],\n",
       "       [65, '0002007770', list([3, 11]), 4, 'A746VAFAIAKBF'],\n",
       "       [66, '0002007770', list([9, 12]), 3, 'A3MEOTUD2I43YB'],\n",
       "       [68, '0002007770', list([17, 20]), 5, 'A3BIWTN2DA0YY2'],\n",
       "       [69, '0002007770', list([8, 23]), 1, 'A2BSA07QK45WNG'],\n",
       "       [70, '0002007770', list([15, 22]), 3, 'A10EL3BG0TVQFJ'],\n",
       "       [73, '0002007770', list([7, 18]), 3, 'AO5LAL45NOINX'],\n",
       "       [74, '0002007770', list([10, 20]), 1, 'AWC67YBKLTIQ4'],\n",
       "       [75, '0002007770', list([16, 18]), 5, 'A75W6T9I2S8BA'],\n",
       "       [76, '0002007770', list([19, 26]), 1, 'A291UBOYOPZNIX'],\n",
       "       [81, '0002007770', list([35, 43]), 5, 'A2F6N60Z96CAJI'],\n",
       "       [83, '0002007770', list([34, 40]), 3, 'A3OPB9JECFJEHK'],\n",
       "       [85, '0002007770', list([6, 13]), 5, 'AX724J32HPG1J'],\n",
       "       [86, '0002007770', list([10, 12]), 5, 'A17AT3BUV8AB13'],\n",
       "       [92, '0002007770', list([12, 13]), 4, 'A27WF3UUEA8Y7Z'],\n",
       "       [93, '0002007770', list([13, 16]), 5, 'A3SUD7WHS9KI57'],\n",
       "       [99, '0002007770', list([6, 12]), 3, 'AWKDL64GP5ZA9'],\n",
       "       [100, '0002007770', list([11, 14]), 5, 'ALRWBOUX8IKNX'],\n",
       "       [101, '0002007770', list([14, 19]), 2, 'A3JSFFVV7ENSBK'],\n",
       "       [103, '0002007770', list([8, 11]), 5, 'AHUNXPVGFY2SB'],\n",
       "       [105, '0002007770', list([362, 394]), 5, 'A39ABKRS1MKFTW'],\n",
       "       [106, '0002007770', list([7, 14]), 1, 'AW72RAU8GIIRY'],\n",
       "       [107, '0002007770', list([20, 26]), 3, 'A359U0JFFZ0Q04'],\n",
       "       [108, '0002007770', list([22, 23]), 5, 'A2MQQI4UYT9C11'],\n",
       "       [110, '0002007770', list([33, 46]), 1, 'A3KZQT3SZA07IL'],\n",
       "       [113, '0002007770', list([7, 12]), 5, 'A2CBEEX67P1IP2'],\n",
       "       [114, '0002007770', list([7, 13]), 2, 'A2SD9D2PGK4WXN'],\n",
       "       [116, '0002007770', list([34, 40]), 2, 'ACTP06BIWR8GX'],\n",
       "       [117, '0002007770', list([6, 14]), 1, 'A62P4QOSII5XE'],\n",
       "       [118, '0002007770', list([40, 69]), 1, 'A15TNUM2PBS6F0'],\n",
       "       [119, '0002007770', list([22, 27]), 5, 'AFQKHYJ62TTZ8'],\n",
       "       [120, '0002007770', list([106, 136]), 1, 'AFZZBEGNTO894'],\n",
       "       [124, '0002007770', list([4, 13]), 1, 'A2OYM30IVAX8FI'],\n",
       "       [125, '0002007770', list([38, 53]), 1, 'A3S3HHEBZ1HW75'],\n",
       "       [126, '0002007770', list([18, 23]), 5, 'A3M174IC0VXOS2'],\n",
       "       [129, '0002007770', list([201, 258]), 2, 'A2PR6NXG0PA3KY'],\n",
       "       [130, '0002007770', list([3, 12]), 1, 'A1D80UAMY4E4WS'],\n",
       "       [132, '0002007770', list([14, 19]), 1, 'A3BUF810174ERM'],\n",
       "       [136, '0002007770', list([6, 13]), 1, 'A1NV36SWK23GOR'],\n",
       "       [137, '0002007770', list([17, 21]), 2, 'A1ZOHZH1PTP94I'],\n",
       "       [140, '0002007770', list([4, 16]), 1, 'A2JYW8G745LOCN'],\n",
       "       [141, '0002007770', list([9, 12]), 3, 'AI5R0ESMQROBA'],\n",
       "       [142, '0002007770', list([17, 25]), 3, 'A1VF5UZFUQOVY0'],\n",
       "       [144, '0002007770', list([12, 14]), 4, 'A3RP1I0SL7091Q'],\n",
       "       [145, '0002007770', list([7, 11]), 3, 'A18PXEL4QSAOVH'],\n",
       "       [147, '0002007770', list([6, 15]), 1, 'A1IY563CRSH6ML'],\n",
       "       [149, '0002007770', list([4, 11]), 1, 'A19JVHQIXO4Z4J'],\n",
       "       [153, '0002007770', list([6, 17]), 2, 'A1LDZC7QS6G1X0'],\n",
       "       [154, '0002007770', list([52, 79]), 1, 'A1T8VDOFXITEI8'],\n",
       "       [156, '0002007770', list([5, 11]), 2, 'A16JKCJYYMFA61'],\n",
       "       [157, '0002007770', list([16, 38]), 2, 'AO1MVR7WR0Y3S'],\n",
       "       [158, '0002007770', list([9, 13]), 1, 'A308W4PJWXM20U'],\n",
       "       [159, '0002007770', list([3, 11]), 5, 'AFRJCGS4HM1NH'],\n",
       "       [161, '0002007770', list([216, 258]), 3, 'ALLJT7S5QOFFZ'],\n",
       "       [162, '0002007770', list([6, 15]), 2, 'A26DXSLOQWC7KH'],\n",
       "       [163, '0002007770', list([8, 12]), 2, 'A2CFSAYVC70IKS'],\n",
       "       [164, '0002007770', list([7, 12]), 4, 'A1IOJE0W1NXOSE'],\n",
       "       [170, '0002007770', list([3, 13]), 1, 'A2IW5H7K71S3HU'],\n",
       "       [171, '0002007770', list([26, 35]), 3, 'A2TWBMSMBXFJKE'],\n",
       "       [173, '0002007770', list([238, 285]), 3, 'A22ABFEL815EY7'],\n",
       "       [175, '0002007770', list([4, 14]), 1, 'A2P1BC63GY40EC'],\n",
       "       [178, '0002007770', list([5, 13]), 3, 'AS6EPVW1IRRP5'],\n",
       "       [181, '0002007770', list([18, 25]), 2, 'A17FLA8HQOFVIG'],\n",
       "       [182, '0002007770', list([1515, 1581]), 5, 'A2R1U45ZCDX2CN'],\n",
       "       [184, '0002007770', list([8, 12]), 1, 'A1ARJ1DEQS41FF'],\n",
       "       [188, '0002007770', list([1071, 1150]), 5, 'A2MF2QVSCUI27G'],\n",
       "       [190, '0002007770', list([91, 116]), 1, 'A2USEM56SFGYWN']],\n",
       "      dtype=object)"
      ]
     },
     "execution_count": 135,
     "metadata": {},
     "output_type": "execute_result"
    }
   ],
   "source": [
    "array[0:100]"
   ]
  },
  {
   "cell_type": "code",
   "execution_count": 149,
   "metadata": {},
   "outputs": [
    {
     "name": "stdout",
     "output_type": "stream",
     "text": [
      "10000\n",
      "20000\n",
      "30000\n",
      "40000\n",
      "50000\n",
      "60000\n",
      "70000\n",
      "80000\n",
      "90000\n",
      "100000\n",
      "110000\n",
      "120000\n",
      "130000\n",
      "140000\n",
      "150000\n",
      "160000\n",
      "170000\n",
      "180000\n",
      "190000\n",
      "200000\n",
      "210000\n",
      "220000\n",
      "230000\n",
      "240000\n"
     ]
    },
    {
     "ename": "KeyboardInterrupt",
     "evalue": "",
     "output_type": "error",
     "traceback": [
      "\u001b[0;31m---------------------------------------------------------------------------\u001b[0m",
      "\u001b[0;31mKeyboardInterrupt\u001b[0m                         Traceback (most recent call last)",
      "\u001b[0;32m<ipython-input-149-31938e1d8d83>\u001b[0m in \u001b[0;36m<module>\u001b[0;34m()\u001b[0m\n\u001b[1;32m     20\u001b[0m             \u001b[0mmean\u001b[0m \u001b[0;34m=\u001b[0m \u001b[0mnp\u001b[0m\u001b[0;34m.\u001b[0m\u001b[0mmean\u001b[0m\u001b[0;34m(\u001b[0m\u001b[0mitem_array\u001b[0m\u001b[0;34m)\u001b[0m\u001b[0;34m\u001b[0m\u001b[0m\n\u001b[1;32m     21\u001b[0m             \u001b[0mitem_array\u001b[0m \u001b[0;34m=\u001b[0m \u001b[0mitem_array\u001b[0m \u001b[0;34m-\u001b[0m \u001b[0mmean\u001b[0m\u001b[0;34m\u001b[0m\u001b[0m\n\u001b[0;32m---> 22\u001b[0;31m             \u001b[0mX_all\u001b[0m \u001b[0;34m=\u001b[0m \u001b[0mX_all\u001b[0m \u001b[0;34m+\u001b[0m \u001b[0mitem_array\u001b[0m\u001b[0;34m.\u001b[0m\u001b[0mtolist\u001b[0m\u001b[0;34m(\u001b[0m\u001b[0;34m)\u001b[0m\u001b[0;34m\u001b[0m\u001b[0m\n\u001b[0m\u001b[1;32m     23\u001b[0m             \u001b[0my_all\u001b[0m \u001b[0;34m=\u001b[0m \u001b[0my_all\u001b[0m \u001b[0;34m+\u001b[0m \u001b[0my\u001b[0m\u001b[0;34m\u001b[0m\u001b[0m\n\u001b[1;32m     24\u001b[0m \u001b[0;31m#             print(mean)\u001b[0m\u001b[0;34m\u001b[0m\u001b[0;34m\u001b[0m\u001b[0m\n",
      "\u001b[0;31mKeyboardInterrupt\u001b[0m: "
     ]
    }
   ],
   "source": [
    "count = 0\n",
    "X_all = []\n",
    "y_all = []\n",
    "num_items = 0\n",
    "y = []\n",
    "sum = 0\n",
    "item_array = np.array([])\n",
    "for i in range(num_reviews):\n",
    "    count = count + 1\n",
    "    if (count % 10000 == 0):\n",
    "        print (count)\n",
    "    curr_item = array[i]\n",
    "    item = curr_item[1]\n",
    "    if (prev_item == item):\n",
    "        item_array = np.append(item_array, curr_item[3])\n",
    "        sum += curr_item[3]\n",
    "        y.append(curr_item[2][0] / curr_item[2][1])\n",
    "    else:\n",
    "        if (num_items):\n",
    "            mean = np.mean(item_array)\n",
    "            item_array = item_array - mean\n",
    "            X_all = X_all + item_array.tolist()\n",
    "            y_all = y_all + y\n",
    "#             print(mean)\n",
    "        num_items += 1\n",
    "        sum = 0\n",
    "        y = []\n",
    "        item_array = np.array([])\n",
    "        prev_item = item\n",
    "        item_array = np.append(item_array, curr_item[3])\n",
    "        sum += curr_item[0]\n",
    "        y.append(curr_item[2][0] / curr_item[2][1])\n",
    "        \n",
    "print (count)\n",
    "print (num_items)"
   ]
  },
  {
   "cell_type": "code",
   "execution_count": 162,
   "metadata": {},
   "outputs": [
    {
     "data": {
      "text/plain": [
       "16"
      ]
     },
     "execution_count": 162,
     "metadata": {},
     "output_type": "execute_result"
    }
   ],
   "source": [
    "np.size(item_array)\n"
   ]
  },
  {
   "cell_type": "code",
   "execution_count": 156,
   "metadata": {},
   "outputs": [],
   "source": [
    "X_all = [round(i) for i in X_all]"
   ]
  },
  {
   "cell_type": "code",
   "execution_count": 158,
   "metadata": {},
   "outputs": [
    {
     "name": "stdout",
     "output_type": "stream",
     "text": [
      "[ 1 -2 -1  0 -3  2  3 -4  4]\n"
     ]
    },
    {
     "data": {
      "image/png": "[encoded data removed]",
      "text/plain": [
       "<Figure size 432x288 with 1 Axes>"
      ]
     },
     "metadata": {},
     "output_type": "display_data"
    }
   ],
   "source": [
    "df_temp = pd.DataFrame({'y': y_all, 'X': X_all})\n",
    "uni_x = df_temp['X'].unique()\n",
    "print(uni_x)\n",
    "y2 = []\n",
    "e = []\n",
    "e_lower = []\n",
    "for uni in uni_x:\n",
    "    y2.append(df_temp.loc[df_temp['X'] == uni]['y'].median())\n",
    "    e.append(df_temp.loc[df_temp['X'] == uni]['y'].quantile(0.66) - df_temp.loc[df_temp['X'] == uni]['y'].median())\n",
    "    e_lower.append(df_temp.loc[df_temp['X'] == uni]['y'].median() - df_temp.loc[df_temp['X'] == uni]['y'].quantile(0.33))\n",
    "y3 = [x for _,x in sorted(zip(uni_x, y2))] # e2 sorted according to y\n",
    "e2 = [x for _,x in sorted(zip(uni_x, e))]\n",
    "e_lower2 = [x for _,x in sorted(zip(uni_x, e_lower))]\n",
    "x2 = sorted(uni_x)\n",
    "plt.xlim(-5, 5)\n",
    "plt.ylim(0, 1)\n",
    "plt.xlabel(\"Signed deviation\")\n",
    "plt.ylabel(\"Helpfulness ratio\")\n",
    "plt.title(\"Plot for all items. Total: \" + str(count))\n",
    "\n",
    "plot3 = plt.errorbar(x2, y3, (e_lower2, e2), fmt='-o')\n",
    "#     plt.savefig(\"plots/min_500_reviews/signed/\" + str(count) + \".png\")\n",
    "#     plt.close()\n",
    "plt.show(plot3)"
   ]
  },
  {
   "cell_type": "code",
   "execution_count": 41,
   "metadata": {
    "scrolled": true
   },
   "outputs": [
    {
     "ename": "KeyboardInterrupt",
     "evalue": "",
     "output_type": "error",
     "traceback": [
      "\u001b[0;31m---------------------------------------------------------------------------\u001b[0m",
      "\u001b[0;31mKeyboardInterrupt\u001b[0m                         Traceback (most recent call last)",
      "\u001b[0;32m<ipython-input-41-dd6bfc655588>\u001b[0m in \u001b[0;36m<module>\u001b[0;34m()\u001b[0m\n\u001b[1;32m      9\u001b[0m     \u001b[0mX\u001b[0m \u001b[0;34m=\u001b[0m \u001b[0;34m[\u001b[0m\u001b[0;34m]\u001b[0m\u001b[0;34m\u001b[0m\u001b[0m\n\u001b[1;32m     10\u001b[0m     \u001b[0my\u001b[0m \u001b[0;34m=\u001b[0m \u001b[0;34m[\u001b[0m\u001b[0;34m]\u001b[0m\u001b[0;34m\u001b[0m\u001b[0m\n\u001b[0;32m---> 11\u001b[0;31m     \u001b[0mitem\u001b[0m \u001b[0;34m=\u001b[0m \u001b[0mdf\u001b[0m\u001b[0;34m.\u001b[0m\u001b[0mloc\u001b[0m\u001b[0;34m[\u001b[0m\u001b[0mdf\u001b[0m\u001b[0;34m[\u001b[0m\u001b[0;34m'asin'\u001b[0m\u001b[0;34m]\u001b[0m \u001b[0;34m==\u001b[0m \u001b[0mi\u001b[0m\u001b[0;34m]\u001b[0m\u001b[0;34m\u001b[0m\u001b[0m\n\u001b[0m\u001b[1;32m     12\u001b[0m \u001b[0;31m#     print (i)\u001b[0m\u001b[0;34m\u001b[0m\u001b[0;34m\u001b[0m\u001b[0m\n\u001b[1;32m     13\u001b[0m \u001b[0;31m#     print (item.size)\u001b[0m\u001b[0;34m\u001b[0m\u001b[0;34m\u001b[0m\u001b[0m\n",
      "\u001b[0;32m~/.local/lib/python3.5/site-packages/pandas/core/ops.py\u001b[0m in \u001b[0;36mwrapper\u001b[0;34m(self, other, axis)\u001b[0m\n\u001b[1;32m    877\u001b[0m \u001b[0;34m\u001b[0m\u001b[0m\n\u001b[1;32m    878\u001b[0m             \u001b[0;32mwith\u001b[0m \u001b[0mnp\u001b[0m\u001b[0;34m.\u001b[0m\u001b[0merrstate\u001b[0m\u001b[0;34m(\u001b[0m\u001b[0mall\u001b[0m\u001b[0;34m=\u001b[0m\u001b[0;34m'ignore'\u001b[0m\u001b[0;34m)\u001b[0m\u001b[0;34m:\u001b[0m\u001b[0;34m\u001b[0m\u001b[0m\n\u001b[0;32m--> 879\u001b[0;31m                 \u001b[0mres\u001b[0m \u001b[0;34m=\u001b[0m \u001b[0mna_op\u001b[0m\u001b[0;34m(\u001b[0m\u001b[0mvalues\u001b[0m\u001b[0;34m,\u001b[0m \u001b[0mother\u001b[0m\u001b[0;34m)\u001b[0m\u001b[0;34m\u001b[0m\u001b[0m\n\u001b[0m\u001b[1;32m    880\u001b[0m             \u001b[0;32mif\u001b[0m \u001b[0mis_scalar\u001b[0m\u001b[0;34m(\u001b[0m\u001b[0mres\u001b[0m\u001b[0;34m)\u001b[0m\u001b[0;34m:\u001b[0m\u001b[0;34m\u001b[0m\u001b[0m\n\u001b[1;32m    881\u001b[0m                 raise TypeError('Could not compare {typ} type with Series'\n",
      "\u001b[0;32m~/.local/lib/python3.5/site-packages/pandas/core/ops.py\u001b[0m in \u001b[0;36mna_op\u001b[0;34m(x, y)\u001b[0m\n\u001b[1;32m    781\u001b[0m \u001b[0;34m\u001b[0m\u001b[0m\n\u001b[1;32m    782\u001b[0m         \u001b[0;32mif\u001b[0m \u001b[0mis_object_dtype\u001b[0m\u001b[0;34m(\u001b[0m\u001b[0mx\u001b[0m\u001b[0;34m.\u001b[0m\u001b[0mdtype\u001b[0m\u001b[0;34m)\u001b[0m\u001b[0;34m:\u001b[0m\u001b[0;34m\u001b[0m\u001b[0m\n\u001b[0;32m--> 783\u001b[0;31m             \u001b[0mresult\u001b[0m \u001b[0;34m=\u001b[0m \u001b[0m_comp_method_OBJECT_ARRAY\u001b[0m\u001b[0;34m(\u001b[0m\u001b[0mop\u001b[0m\u001b[0;34m,\u001b[0m \u001b[0mx\u001b[0m\u001b[0;34m,\u001b[0m \u001b[0my\u001b[0m\u001b[0;34m)\u001b[0m\u001b[0;34m\u001b[0m\u001b[0m\n\u001b[0m\u001b[1;32m    784\u001b[0m         \u001b[0;32melse\u001b[0m\u001b[0;34m:\u001b[0m\u001b[0;34m\u001b[0m\u001b[0m\n\u001b[1;32m    785\u001b[0m \u001b[0;34m\u001b[0m\u001b[0m\n",
      "\u001b[0;32m~/.local/lib/python3.5/site-packages/pandas/core/ops.py\u001b[0m in \u001b[0;36m_comp_method_OBJECT_ARRAY\u001b[0;34m(op, x, y)\u001b[0m\n\u001b[1;32m    761\u001b[0m         \u001b[0mresult\u001b[0m \u001b[0;34m=\u001b[0m \u001b[0mlib\u001b[0m\u001b[0;34m.\u001b[0m\u001b[0mvec_compare\u001b[0m\u001b[0;34m(\u001b[0m\u001b[0mx\u001b[0m\u001b[0;34m,\u001b[0m \u001b[0my\u001b[0m\u001b[0;34m,\u001b[0m \u001b[0mop\u001b[0m\u001b[0;34m)\u001b[0m\u001b[0;34m\u001b[0m\u001b[0m\n\u001b[1;32m    762\u001b[0m     \u001b[0;32melse\u001b[0m\u001b[0;34m:\u001b[0m\u001b[0;34m\u001b[0m\u001b[0m\n\u001b[0;32m--> 763\u001b[0;31m         \u001b[0mresult\u001b[0m \u001b[0;34m=\u001b[0m \u001b[0mlib\u001b[0m\u001b[0;34m.\u001b[0m\u001b[0mscalar_compare\u001b[0m\u001b[0;34m(\u001b[0m\u001b[0mx\u001b[0m\u001b[0;34m,\u001b[0m \u001b[0my\u001b[0m\u001b[0;34m,\u001b[0m \u001b[0mop\u001b[0m\u001b[0;34m)\u001b[0m\u001b[0;34m\u001b[0m\u001b[0m\n\u001b[0m\u001b[1;32m    764\u001b[0m     \u001b[0;32mreturn\u001b[0m \u001b[0mresult\u001b[0m\u001b[0;34m\u001b[0m\u001b[0m\n\u001b[1;32m    765\u001b[0m \u001b[0;34m\u001b[0m\u001b[0m\n",
      "\u001b[0;31mKeyboardInterrupt\u001b[0m: "
     ]
    }
   ],
   "source": [
    "count = 1\n",
    "# X_all = np.array([])\n",
    "X_all = []\n",
    "y_all = []\n",
    "for i in many_reviews:\n",
    "    if (count % 5000 == 0):\n",
    "        print (count)\n",
    "    count = count + 1\n",
    "    X = []\n",
    "    y = []\n",
    "    item = df.loc[df['asin'] == i]\n",
    "#     print (i)\n",
    "#     print (item.size)\n",
    "    average_rating = np.mean(item['overall'])\n",
    "#     print (\"Average Rating =\", average_rating)\n",
    "#     print (\"Standard Deviation =\", np.std(item['overall']))\n",
    "    for index, row in item.iterrows():\n",
    "        y_all.append(row['helpful'][0] / row['helpful'][1]) #float division\n",
    "        #python 3 required, otherwise import division from future\n",
    "        X_all.append(round(row['overall'] - average_rating))\n",
    "df_temp = pd.DataFrame({'y': y_all, 'X': X_all})\n",
    "uni_x = df_temp['X'].unique()\n",
    "print(uni_x)\n",
    "y2 = []\n",
    "e = []\n",
    "e_lower = []\n",
    "for uni in uni_x:\n",
    "    y2.append(df_temp.loc[df_temp['X'] == uni]['y'].median())\n",
    "    e.append(df_temp.loc[df_temp['X'] == uni]['y'].quantile(0.66) - df_temp.loc[df_temp['X'] == uni]['y'].median())\n",
    "    e_lower.append(df_temp.loc[df_temp['X'] == uni]['y'].median() - df_temp.loc[df_temp['X'] == uni]['y'].quantile(0.33))\n",
    "y3 = [x for _,x in sorted(zip(uni_x, y2))] # e2 sorted according to y\n",
    "e2 = [x for _,x in sorted(zip(uni_x, e))]\n",
    "e_lower2 = [x for _,x in sorted(zip(uni_x, e_lower))]\n",
    "x2 = sorted(uni_x)\n",
    "# x2 = np.asarray(x2)\n",
    "# x2 = np.rint(x2)\n",
    "# X_all = np.concatenate((X_all, x2))\n",
    "# y_all = y_all + y3\n",
    "plt.xlim(-5, 5)\n",
    "plt.ylim(0, 1)\n",
    "plt.xlabel(\"Signed deviation\")\n",
    "plt.ylabel(\"Helpfulness ratio\")\n",
    "plt.title(\"Plot for item: \" + str(count))\n",
    "\n",
    "plot3 = plt.errorbar(x2, y3, (e_lower2, e2), fmt='-o')\n",
    "#     plt.savefig(\"plots/min_500_reviews/signed/\" + str(count) + \".png\")\n",
    "#     plt.close()\n",
    "plt.show(plot3)"
   ]
  },
  {
   "cell_type": "code",
   "execution_count": null,
   "metadata": {},
   "outputs": [],
   "source": [
    "X_all = []\n",
    "y_all = []\n",
    "for i in many_reviews:\n",
    "    X = []\n",
    "    y = []\n",
    "    item = df.loc[df['asin'] == i]\n",
    "    average_rating = np.mean(item['overall'])\n",
    "    for index, row in item.iterrows():\n",
    "        y_all.append(row['helpful'][0] / row['helpful'][1]) #float division\n",
    "        #python 3 required, otherwise import division from future\n",
    "        X_all.append(round(abs(row['overall'] - average_rating)))\n",
    "df_temp = pd.DataFrame({'y': y_all, 'X': X_all})\n",
    "uni_x = df_temp['X'].unique()\n",
    "print(uni_x)\n",
    "y2 = []\n",
    "e = []\n",
    "e_lower = []\n",
    "for uni in uni_x:\n",
    "    y2.append(df_temp.loc[df_temp['X'] == uni]['y'].median())\n",
    "    e.append(df_temp.loc[df_temp['X'] == uni]['y'].quantile(0.66) - df_temp.loc[df_temp['X'] == uni]['y'].median())\n",
    "    e_lower.append(df_temp.loc[df_temp['X'] == uni]['y'].median() - df_temp.loc[df_temp['X'] == uni]['y'].quantile(0.33))\n",
    "y3 = [x for _,x in sorted(zip(uni_x, y2))] # e2 sorted according to y\n",
    "e2 = [x for _,x in sorted(zip(uni_x, e))]\n",
    "e_lower2 = [x for _,x in sorted(zip(uni_x, e_lower))]\n",
    "x2 = sorted(uni_x)\n",
    "plt.xlim(-1, 5)\n",
    "plt.ylim(0, 1)\n",
    "plt.xlabel(\"Signed deviation\")\n",
    "plt.ylabel(\"Helpfulness ratio\")\n",
    "plt.title(\"Plot for item: \" + str(count))\n",
    "\n",
    "plot3 = plt.errorbar(x2, y3, (e_lower2, e2), fmt='-o')\n",
    "#     plt.savefig(\"plots/min_500_reviews/signed/\" + str(count) + \".png\")\n",
    "#     plt.close()\n",
    "plt.show(plot3)"
   ]
  },
  {
   "cell_type": "code",
   "execution_count": 11,
   "metadata": {
    "scrolled": true
   },
   "outputs": [
    {
     "name": "stdout",
     "output_type": "stream",
     "text": [
      "0425269205\n",
      "7660\n",
      "Average Rating = 3.239556135770235\n",
      "Standard Deviation = 1.5344356465411608\n"
     ]
    },
    {
     "data": {
      "image/png": "[encoded data removed]",
      "text/plain": [
       "<Figure size 432x288 with 1 Axes>"
      ]
     },
     "metadata": {},
     "output_type": "display_data"
    },
    {
     "name": "stdout",
     "output_type": "stream",
     "text": [
      "0345803485\n",
      "7170\n",
      "Average Rating = 2.113668061366806\n",
      "Standard Deviation = 1.5632798429908643\n"
     ]
    },
    {
     "data": {
      "image/png": "[encoded data removed]",
      "text/plain": [
       "<Figure size 432x288 with 1 Axes>"
      ]
     },
     "metadata": {},
     "output_type": "display_data"
    },
    {
     "name": "stdout",
     "output_type": "stream",
     "text": [
      "031604461X\n",
      "6235\n",
      "Average Rating = 3.4603047313552526\n",
      "Standard Deviation = 1.6217707619549888\n"
     ]
    },
    {
     "data": {
      "image/png": "[encoded data removed]",
      "text/plain": [
       "<Figure size 432x288 with 1 Axes>"
      ]
     },
     "metadata": {},
     "output_type": "display_data"
    },
    {
     "name": "stdout",
     "output_type": "stream",
     "text": [
      "0002247399\n",
      "5260\n",
      "Average Rating = 3.2690114068441063\n",
      "Standard Deviation = 1.4999587357642075\n"
     ]
    },
    {
     "data": {
      "image/png": "[encoded data removed]",
      "text/plain": [
       "<Figure size 432x288 with 1 Axes>"
      ]
     },
     "metadata": {},
     "output_type": "display_data"
    },
    {
     "name": "stdout",
     "output_type": "stream",
     "text": [
      "0007444117\n",
      "5035\n",
      "Average Rating = 3.2234359483614696\n",
      "Standard Deviation = 1.7671635022579777\n"
     ]
    },
    {
     "data": {
      "image/png": "[encoded data removed]",
      "text/plain": [
       "<Figure size 432x288 with 1 Axes>"
      ]
     },
     "metadata": {},
     "output_type": "display_data"
    },
    {
     "name": "stdout",
     "output_type": "stream",
     "text": [
      "0618680004\n",
      "3965\n",
      "Average Rating = 3.591424968474149\n",
      "Standard Deviation = 1.5420224227665382\n"
     ]
    },
    {
     "data": {
      "image/png": "[encoded data removed]",
      "text/plain": [
       "<Figure size 432x288 with 1 Axes>"
      ]
     },
     "metadata": {},
     "output_type": "display_data"
    },
    {
     "name": "stdout",
     "output_type": "stream",
     "text": [
      "0141188936\n",
      "3830\n",
      "Average Rating = 3.656657963446475\n",
      "Standard Deviation = 1.580189467267357\n"
     ]
    },
    {
     "data": {
      "image/png": "[encoded data removed]",
      "text/plain": [
       "<Figure size 432x288 with 1 Axes>"
      ]
     },
     "metadata": {},
     "output_type": "display_data"
    },
    {
     "name": "stdout",
     "output_type": "stream",
     "text": [
      "1455134767\n",
      "3560\n",
      "Average Rating = 4.341292134831461\n",
      "Standard Deviation = 1.1792125129137228\n"
     ]
    },
    {
     "data": {
      "image/png": "[encoded data removed]",
      "text/plain": [
       "<Figure size 432x288 with 1 Axes>"
      ]
     },
     "metadata": {},
     "output_type": "display_data"
    },
    {
     "name": "stdout",
     "output_type": "stream",
     "text": [
      "0452285216\n",
      "2645\n",
      "Average Rating = 3.9187145557655954\n",
      "Standard Deviation = 1.4919473362854927\n"
     ]
    },
    {
     "data": {
      "image/png": "[encoded data removed]",
      "text/plain": [
       "<Figure size 432x288 with 1 Axes>"
      ]
     },
     "metadata": {},
     "output_type": "display_data"
    },
    {
     "name": "stdout",
     "output_type": "stream",
     "text": [
      "1892112000\n",
      "2625\n",
      "Average Rating = 1.9733333333333334\n",
      "Standard Deviation = 1.686713720405207\n"
     ]
    },
    {
     "data": {
      "image/png": "[encoded data removed]",
      "text/plain": [
       "<Figure size 432x288 with 1 Axes>"
      ]
     },
     "metadata": {},
     "output_type": "display_data"
    },
    {
     "name": "stdout",
     "output_type": "stream",
     "text": [
      "074356619X\n",
      "2615\n",
      "Average Rating = 2.9120458891013383\n",
      "Standard Deviation = 1.7610368224585202\n"
     ]
    },
    {
     "data": {
      "image/png": "[encoded data removed]",
      "text/plain": [
       "<Figure size 432x288 with 1 Axes>"
      ]
     },
     "metadata": {},
     "output_type": "display_data"
    },
    {
     "name": "stdout",
     "output_type": "stream",
     "text": [
      "0786183616\n",
      "2605\n",
      "Average Rating = 3.132437619961612\n",
      "Standard Deviation = 1.8883732573219243\n"
     ]
    },
    {
     "data": {
      "image/png": "[encoded data removed]",
      "text/plain": [
       "<Figure size 432x288 with 1 Axes>"
      ]
     },
     "metadata": {},
     "output_type": "display_data"
    },
    {
     "name": "stdout",
     "output_type": "stream",
     "text": [
      "0307277674\n",
      "2560\n",
      "Average Rating = 3.09765625\n",
      "Standard Deviation = 1.4611620398969916\n"
     ]
    },
    {
     "data": {
      "image/png": "[encoded data removed]",
      "text/plain": [
       "<Figure size 432x288 with 1 Axes>"
      ]
     },
     "metadata": {},
     "output_type": "display_data"
    },
    {
     "name": "stdout",
     "output_type": "stream",
     "text": [
      "0805093079\n",
      "2535\n",
      "Average Rating = 3.329388560157791\n",
      "Standard Deviation = 1.7653201543751476\n"
     ]
    },
    {
     "data": {
      "image/png": "[encoded data removed]",
      "text/plain": [
       "<Figure size 432x288 with 1 Axes>"
      ]
     },
     "metadata": {},
     "output_type": "display_data"
    }
   ],
   "source": [
    "count = 1\n",
    "for i in many_reviews:\n",
    "    X = []\n",
    "    y = []\n",
    "    item = df.loc[df['asin'] == i]\n",
    "    print (i)\n",
    "    print (item.size)\n",
    "    average_rating = np.mean(item['overall'])\n",
    "    print (\"Average Rating =\", average_rating)\n",
    "    print (\"Standard Deviation =\", np.std(item['overall']))\n",
    "    for index, row in item.iterrows():\n",
    "        y.append(row['helpful'][0] / row['helpful'][1]) #float division\n",
    "        #python 3 required, otherwise import division from future\n",
    "        X.append(row['overall'] - average_rating)\n",
    "    df_temp = pd.DataFrame({'y': y, 'X': X})\n",
    "    uni_x = df_temp['X'].unique()\n",
    "    y2 = []\n",
    "    e = []\n",
    "    e_lower = []\n",
    "    for uni in uni_x:\n",
    "        y2.append(df_temp.loc[df_temp['X'] == uni]['y'].median())\n",
    "        e.append(df_temp.loc[df_temp['X'] == uni]['y'].quantile(0.66) - df_temp.loc[df_temp['X'] == uni]['y'].median())\n",
    "        e_lower.append(df_temp.loc[df_temp['X'] == uni]['y'].median() - df_temp.loc[df_temp['X'] == uni]['y'].quantile(0.33))\n",
    "    y3 = [x for _,x in sorted(zip(uni_x, y2))] # e2 sorted according to y\n",
    "    e2 = [x for _,x in sorted(zip(uni_x, e))]\n",
    "    e_lower2 = [x for _,x in sorted(zip(uni_x, e_lower))]\n",
    "    x2 = sorted(uni_x)\n",
    "#     x2 = np.asarray(x2)\n",
    "#     x2 = np.rint(x2)\n",
    "    plt.xlim(-5, 5)\n",
    "    plt.ylim(0, 1)\n",
    "    plt.xlabel(\"Signed deviation\")\n",
    "    plt.ylabel(\"Helpfulness ratio\")\n",
    "    plt.title(\"Plot for item: \" + str(count))\n",
    "    \n",
    "    plot3 = plt.errorbar(x2, y3, (e_lower2, e2), fmt='-o')\n",
    "#     plt.savefig(\"plots/min_500_reviews/signed/\" + str(count) + \".png\")\n",
    "#     plt.close()\n",
    "    count = count + 1\n",
    "    plt.show(plot3)"
   ]
  },
  {
   "cell_type": "code",
   "execution_count": 37,
   "metadata": {
    "scrolled": true
   },
   "outputs": [
    {
     "name": "stdout",
     "output_type": "stream",
     "text": [
      "0425269205\n",
      "7660\n",
      "Average Rating = 3.239556135770235\n",
      "Standard Deviation = 1.5344356465411608\n",
      "0345803485\n",
      "7170\n",
      "Average Rating = 2.113668061366806\n",
      "Standard Deviation = 1.5632798429908643\n",
      "031604461X\n",
      "6235\n",
      "Average Rating = 3.4603047313552526\n",
      "Standard Deviation = 1.6217707619549888\n",
      "0002247399\n",
      "5260\n",
      "Average Rating = 3.2690114068441063\n",
      "Standard Deviation = 1.4999587357642075\n",
      "0007444117\n",
      "5035\n",
      "Average Rating = 3.2234359483614696\n",
      "Standard Deviation = 1.7671635022579777\n",
      "0618680004\n",
      "3965\n",
      "Average Rating = 3.591424968474149\n",
      "Standard Deviation = 1.5420224227665382\n",
      "0141188936\n",
      "3830\n",
      "Average Rating = 3.656657963446475\n",
      "Standard Deviation = 1.580189467267357\n",
      "1455134767\n",
      "3560\n",
      "Average Rating = 4.341292134831461\n",
      "Standard Deviation = 1.1792125129137228\n",
      "0452285216\n",
      "2645\n",
      "Average Rating = 3.9187145557655954\n",
      "Standard Deviation = 1.4919473362854927\n",
      "1892112000\n",
      "2625\n",
      "Average Rating = 1.9733333333333334\n",
      "Standard Deviation = 1.686713720405207\n",
      "074356619X\n",
      "2615\n",
      "Average Rating = 2.9120458891013383\n",
      "Standard Deviation = 1.7610368224585202\n",
      "0786183616\n",
      "2605\n",
      "Average Rating = 3.132437619961612\n",
      "Standard Deviation = 1.8883732573219243\n",
      "0307277674\n",
      "2560\n",
      "Average Rating = 3.09765625\n",
      "Standard Deviation = 1.4611620398969916\n",
      "0805093079\n",
      "2535\n",
      "Average Rating = 3.329388560157791\n",
      "Standard Deviation = 1.7653201543751476\n"
     ]
    }
   ],
   "source": [
    "count = 1\n",
    "for i in many_reviews:\n",
    "    X = []\n",
    "    y = []\n",
    "    item = df.loc[df['asin'] == i]\n",
    "    print (i)\n",
    "    print (item.size)\n",
    "    average_rating = np.mean(item['overall'])\n",
    "    print (\"Average Rating =\", average_rating)\n",
    "    print (\"Standard Deviation =\", np.std(item['overall']))\n",
    "    for index, row in item.iterrows():\n",
    "        y.append(row['helpful'][0] / row['helpful'][1]) #float division\n",
    "        #python 3 required, otherwise import division from future\n",
    "        X.append(abs(row['overall'] - average_rating))\n",
    "    df_temp = pd.DataFrame({'y': y, 'X': X})\n",
    "    uni_x = df_temp['X'].unique()\n",
    "    y2 = []\n",
    "    e = []\n",
    "    e_lower = []\n",
    "    for uni in uni_x:\n",
    "        y2.append(df_temp.loc[df_temp['X'] == uni]['y'].median())\n",
    "        e.append(df_temp.loc[df_temp['X'] == uni]['y'].quantile(0.66) - df_temp.loc[df_temp['X'] == uni]['y'].median())\n",
    "        e_lower.append(df_temp.loc[df_temp['X'] == uni]['y'].median() - df_temp.loc[df_temp['X'] == uni]['y'].quantile(0.33))\n",
    "    y3 = [x for _,x in sorted(zip(uni_x, y2))] # e2 sorted according to y\n",
    "    e2 = [x for _,x in sorted(zip(uni_x, e))]\n",
    "    e_lower2 = [x for _,x in sorted(zip(uni_x, e_lower))]\n",
    "    x2 = sorted(uni_x)\n",
    "    plt.xlim(0, 5)\n",
    "    plt.ylim(0, 1)\n",
    "    plt.xlabel(\"Unsigned deviation\")\n",
    "    plt.ylabel(\"Helpfulness ratio\")\n",
    "    plt.title(\"Plot for item: \" + str(count))\n",
    "    \n",
    "    plot3 = plt.errorbar(x2, y3, (e_lower2, e2), fmt='-o')\n",
    "    plt.savefig(\"plots/min_500_reviews/unsigned/\" + str(count) + \".png\")\n",
    "    plt.close()\n",
    "    count = count + 1\n",
    "#     plt.show(plot3)"
   ]
  },
  {
   "cell_type": "code",
   "execution_count": 38,
   "metadata": {},
   "outputs": [
    {
     "name": "stdout",
     "output_type": "stream",
     "text": [
      "Standard Deviation = 0.8625258717472545\n",
      "Standard Deviation = 0.8172788341012921\n",
      "Standard Deviation = 0.8942092888944354\n",
      "Standard Deviation = 0.7888787217576404\n",
      "Standard Deviation = 0.6398241946034864\n",
      "Standard Deviation = 0.9282014988121832\n",
      "Standard Deviation = 0.8419716882004635\n",
      "Standard Deviation = 0.9489687551024775\n",
      "Standard Deviation = 0.8001360405696247\n",
      "Standard Deviation = 0.9817917181132706\n",
      "Standard Deviation = 0.0\n",
      "Standard Deviation = 0.3983284047761735\n",
      "Standard Deviation = 0.4790895783894893\n",
      "Standard Deviation = 0.3382879883877223\n",
      "Standard Deviation = 0.9605439230452575\n",
      "Standard Deviation = 0.8523720843550042\n"
     ]
    }
   ],
   "source": [
    "many_reviews2 = item_count_df[item_count_df > 100].index.values\n",
    "low_sd_items = []\n",
    "for i in many_reviews2:\n",
    "    item = df.loc[df['asin'] == i]\n",
    "    sd = np.std(item['overall'])\n",
    "    if (sd < 1):\n",
    "        low_sd_items.append(i)\n",
    "        print (\"Standard Deviation =\", sd)"
   ]
  },
  {
   "cell_type": "code",
   "execution_count": 39,
   "metadata": {},
   "outputs": [
    {
     "name": "stdout",
     "output_type": "stream",
     "text": [
      "1495472418\n",
      "1835\n",
      "Average Rating = 4.700272479564033\n",
      "Standard Deviation = 0.8625258717472545\n",
      "B00EYMXM2I\n",
      "910\n",
      "Average Rating = 4.708791208791209\n",
      "Standard Deviation = 0.8172788341012921\n",
      "B00IPI546E\n",
      "870\n",
      "Average Rating = 4.545977011494253\n",
      "Standard Deviation = 0.8942092888944354\n",
      "1941450008\n",
      "860\n",
      "Average Rating = 4.715116279069767\n",
      "Standard Deviation = 0.7888787217576404\n",
      "1484994566\n",
      "800\n",
      "Average Rating = 4.875\n",
      "Standard Deviation = 0.6398241946034864\n",
      "1630350184\n",
      "715\n",
      "Average Rating = 4.678321678321678\n",
      "Standard Deviation = 0.9282014988121832\n",
      "1482767775\n",
      "675\n",
      "Average Rating = 4.518518518518518\n",
      "Standard Deviation = 0.8419716882004635\n",
      "0312358377\n",
      "630\n",
      "Average Rating = 4.626984126984127\n",
      "Standard Deviation = 0.9489687551024775\n",
      "1630350222\n",
      "610\n",
      "Average Rating = 4.762295081967213\n",
      "Standard Deviation = 0.8001360405696247\n",
      "0761919945\n",
      "595\n",
      "Average Rating = 1.2941176470588236\n",
      "Standard Deviation = 0.9817917181132706\n",
      "B00IA6QWP8\n",
      "570\n",
      "Average Rating = 5.0\n",
      "Standard Deviation = 0.0\n",
      "1477805850\n",
      "565\n",
      "Average Rating = 4.902654867256637\n",
      "Standard Deviation = 0.3983284047761735\n",
      "B00KCE1ISM\n",
      "555\n",
      "Average Rating = 4.882882882882883\n",
      "Standard Deviation = 0.4790895783894893\n",
      "1495498530\n",
      "555\n",
      "Average Rating = 4.891891891891892\n",
      "Standard Deviation = 0.3382879883877223\n",
      "0345531566\n",
      "550\n",
      "Average Rating = 4.490909090909091\n",
      "Standard Deviation = 0.9605439230452575\n",
      "1491095555\n",
      "545\n",
      "Average Rating = 4.477064220183486\n",
      "Standard Deviation = 0.8523720843550042\n"
     ]
    }
   ],
   "source": [
    "count = 1\n",
    "for i in low_sd_items:\n",
    "    X = []\n",
    "    y = []\n",
    "    item = df.loc[df['asin'] == i]\n",
    "    print (i)\n",
    "    print (item.size)\n",
    "    average_rating = np.mean(item['overall'])\n",
    "    print (\"Average Rating =\", average_rating)\n",
    "    print (\"Standard Deviation =\", np.std(item['overall']))\n",
    "    for index, row in item.iterrows():\n",
    "        y.append(row['helpful'][0] / row['helpful'][1]) #float division\n",
    "        #python 3 required, otherwise import division from future\n",
    "        X.append(row['overall'] - average_rating)\n",
    "    df_temp = pd.DataFrame({'y': y, 'X': X})\n",
    "    uni_x = df_temp['X'].unique()\n",
    "    y2 = []\n",
    "    e = []\n",
    "    e_lower = []\n",
    "    for uni in uni_x:\n",
    "        y2.append(df_temp.loc[df_temp['X'] == uni]['y'].median())\n",
    "        e.append(df_temp.loc[df_temp['X'] == uni]['y'].quantile(0.66) - df_temp.loc[df_temp['X'] == uni]['y'].median())\n",
    "        e_lower.append(df_temp.loc[df_temp['X'] == uni]['y'].median() - df_temp.loc[df_temp['X'] == uni]['y'].quantile(0.33))\n",
    "    y3 = [x for _,x in sorted(zip(uni_x, y2))] # e2 sorted according to y\n",
    "    e2 = [x for _,x in sorted(zip(uni_x, e))]\n",
    "    e_lower2 = [x for _,x in sorted(zip(uni_x, e_lower))]\n",
    "    x2 = sorted(uni_x)\n",
    "    plt.xlim(-5, 5)\n",
    "    plt.ylim(0, 1)\n",
    "    plt.xlabel(\"Signed deviation\")\n",
    "    plt.ylabel(\"Helpfulness ratio\")\n",
    "    plt.title(\"Plot for item: \" + str(count))\n",
    "    \n",
    "    plot3 = plt.errorbar(x2, y3, (e_lower2, e2), fmt='-o')\n",
    "    plt.savefig(\"plots/max_sd_1/signed/\" + str(count) + \".png\")\n",
    "    plt.close()\n",
    "    count = count + 1\n",
    "#     plt.show(plot3)"
   ]
  },
  {
   "cell_type": "code",
   "execution_count": 40,
   "metadata": {},
   "outputs": [
    {
     "name": "stdout",
     "output_type": "stream",
     "text": [
      "1495472418\n",
      "1835\n",
      "Average Rating = 4.700272479564033\n",
      "Standard Deviation = 0.8625258717472545\n",
      "B00EYMXM2I\n",
      "910\n",
      "Average Rating = 4.708791208791209\n",
      "Standard Deviation = 0.8172788341012921\n",
      "B00IPI546E\n",
      "870\n",
      "Average Rating = 4.545977011494253\n",
      "Standard Deviation = 0.8942092888944354\n",
      "1941450008\n",
      "860\n",
      "Average Rating = 4.715116279069767\n",
      "Standard Deviation = 0.7888787217576404\n",
      "1484994566\n",
      "800\n",
      "Average Rating = 4.875\n",
      "Standard Deviation = 0.6398241946034864\n",
      "1630350184\n",
      "715\n",
      "Average Rating = 4.678321678321678\n",
      "Standard Deviation = 0.9282014988121832\n",
      "1482767775\n",
      "675\n",
      "Average Rating = 4.518518518518518\n",
      "Standard Deviation = 0.8419716882004635\n",
      "0312358377\n",
      "630\n",
      "Average Rating = 4.626984126984127\n",
      "Standard Deviation = 0.9489687551024775\n",
      "1630350222\n",
      "610\n",
      "Average Rating = 4.762295081967213\n",
      "Standard Deviation = 0.8001360405696247\n",
      "0761919945\n",
      "595\n",
      "Average Rating = 1.2941176470588236\n",
      "Standard Deviation = 0.9817917181132706\n",
      "B00IA6QWP8\n",
      "570\n",
      "Average Rating = 5.0\n",
      "Standard Deviation = 0.0\n",
      "1477805850\n",
      "565\n",
      "Average Rating = 4.902654867256637\n",
      "Standard Deviation = 0.3983284047761735\n",
      "B00KCE1ISM\n",
      "555\n",
      "Average Rating = 4.882882882882883\n",
      "Standard Deviation = 0.4790895783894893\n",
      "1495498530\n",
      "555\n",
      "Average Rating = 4.891891891891892\n",
      "Standard Deviation = 0.3382879883877223\n",
      "0345531566\n",
      "550\n",
      "Average Rating = 4.490909090909091\n",
      "Standard Deviation = 0.9605439230452575\n",
      "1491095555\n",
      "545\n",
      "Average Rating = 4.477064220183486\n",
      "Standard Deviation = 0.8523720843550042\n"
     ]
    }
   ],
   "source": [
    "count = 1\n",
    "for i in low_sd_items:\n",
    "    X = []\n",
    "    y = []\n",
    "    item = df.loc[df['asin'] == i]\n",
    "    print (i)\n",
    "    print (item.size)\n",
    "    average_rating = np.mean(item['overall'])\n",
    "    print (\"Average Rating =\", average_rating)\n",
    "    print (\"Standard Deviation =\", np.std(item['overall']))\n",
    "    for index, row in item.iterrows():\n",
    "        y.append(row['helpful'][0] / row['helpful'][1]) #float division\n",
    "        #python 3 required, otherwise import division from future\n",
    "        X.append(abs(row['overall'] - average_rating))\n",
    "    df_temp = pd.DataFrame({'y': y, 'X': X})\n",
    "    uni_x = df_temp['X'].unique()\n",
    "    y2 = []\n",
    "    e = []\n",
    "    e_lower = []\n",
    "    for uni in uni_x:\n",
    "        y2.append(df_temp.loc[df_temp['X'] == uni]['y'].median())\n",
    "        e.append(df_temp.loc[df_temp['X'] == uni]['y'].quantile(0.66) - df_temp.loc[df_temp['X'] == uni]['y'].median())\n",
    "        e_lower.append(df_temp.loc[df_temp['X'] == uni]['y'].median() - df_temp.loc[df_temp['X'] == uni]['y'].quantile(0.33))\n",
    "    y3 = [x for _,x in sorted(zip(uni_x, y2))] # e2 sorted according to y\n",
    "    e2 = [x for _,x in sorted(zip(uni_x, e))]\n",
    "    e_lower2 = [x for _,x in sorted(zip(uni_x, e_lower))]\n",
    "    x2 = sorted(uni_x)\n",
    "    plt.xlim(0, 5)\n",
    "    plt.ylim(0, 1)\n",
    "    plt.xlabel(\"Unsigned deviation\")\n",
    "    plt.ylabel(\"Helpfulness ratio\")\n",
    "    plt.title(\"Plot for item: \" + str(count))\n",
    "    \n",
    "    plot3 = plt.errorbar(x2, y3, (e_lower2, e2), fmt='-o')\n",
    "    plt.savefig(\"plots/max_sd_1/unsigned/\" + str(count) + \".png\")\n",
    "    count = count + 1\n",
    "    plt.close()\n",
    "#     plt.show(plot3)"
   ]
  },
  {
   "cell_type": "code",
   "execution_count": null,
   "metadata": {},
   "outputs": [],
   "source": []
  }
 ],
 "metadata": {
  "kernelspec": {
   "display_name": "Python 3",
   "language": "python",
   "name": "python3"
  },
  "language_info": {
   "codemirror_mode": {
    "name": "ipython",
    "version": 3
   },
   "file_extension": ".py",
   "mimetype": "text/x-python",
   "name": "python",
   "nbconvert_exporter": "python",
   "pygments_lexer": "ipython3",
   "version": "3.5.2"
  }
 },
 "nbformat": 4,
 "nbformat_minor": 2
}
