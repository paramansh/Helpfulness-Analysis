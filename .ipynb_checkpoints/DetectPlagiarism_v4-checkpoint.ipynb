{
 "cells": [
  {
   "cell_type": "code",
   "execution_count": 1,
   "metadata": {},
   "outputs": [],
   "source": [
    "import pandas as pd\n",
    "import nltk\n",
    "import hashlib\n",
    "import json"
   ]
  },
  {
   "cell_type": "code",
   "execution_count": 2,
   "metadata": {},
   "outputs": [],
   "source": [
    "# thefile = open('plg/fingerprints/Books_5.txt', 'r')\n",
    "fingerprints = open('plg/fingerprints/Books_5.txt', 'r').readlines()"
   ]
  },
  {
   "cell_type": "code",
   "execution_count": 59,
   "metadata": {},
   "outputs": [],
   "source": [
    "thefile = open('plg/fingerprints/len_fp.txt', 'w')\n",
    "for item in fplen1:\n",
    "    if (i % 100000 == 0):\n",
    "        print (i)\n",
    "    thefile.write(\"%s\\n\" % item)"
   ]
  },
  {
   "cell_type": "code",
   "execution_count": 60,
   "metadata": {},
   "outputs": [],
   "source": [
    "fplen = open('plg/fingerprints/len_fp.txt', 'r').read().splitlines()\n"
   ]
  },
  {
   "cell_type": "code",
   "execution_count": 61,
   "metadata": {},
   "outputs": [
    {
     "data": {
      "text/plain": [
       "713836"
      ]
     },
     "execution_count": 61,
     "metadata": {},
     "output_type": "execute_result"
    }
   ],
   "source": [
    "len(fplen)"
   ]
  },
  {
   "cell_type": "code",
   "execution_count": 3,
   "metadata": {},
   "outputs": [],
   "source": [
    "num_reviews_batch = 10000"
   ]
  },
  {
   "cell_type": "code",
   "execution_count": 4,
   "metadata": {
    "scrolled": false
   },
   "outputs": [
    {
     "name": "stdout",
     "output_type": "stream",
     "text": [
      "Reviews Parsed:  0\n",
      "Reviews Parsed:  1000\n",
      "Reviews Parsed:  2000\n",
      "Reviews Parsed:  3000\n",
      "Reviews Parsed:  4000\n",
      "Reviews Parsed:  5000\n",
      "Reviews Parsed:  6000\n",
      "Reviews Parsed:  7000\n",
      "Reviews Parsed:  8000\n",
      "Reviews Parsed:  9000\n"
     ]
    }
   ],
   "source": [
    "# eval for direct reading from file case\n",
    "plg_dic = {}\n",
    "for i in range(num_reviews):\n",
    "    if (i % 1000 == 0):\n",
    "        print (\"Reviews Parsed: \", i)\n",
    "    for fp in eval(fingerprints[i]):\n",
    "        if fp in plg_dic:\n",
    "            indices = plg_dic[fp]\n",
    "            indices.append(i)\n",
    "            plg_dic[fp] = indices\n",
    "        else:\n",
    "            plg_dic[fp] = [i]"
   ]
  },
  {
   "cell_type": "code",
   "execution_count": 16,
   "metadata": {
    "scrolled": true
   },
   "outputs": [
    {
     "name": "stdout",
     "output_type": "stream",
     "text": [
      "0\n",
      "Reviews Parsed:  0\n",
      "Reviews Parsed:  1000\n",
      "Reviews Parsed:  2000\n",
      "Reviews Parsed:  3000\n",
      "Reviews Parsed:  4000\n",
      "Reviews Parsed:  5000\n",
      "Reviews Parsed:  6000\n",
      "Reviews Parsed:  7000\n",
      "Reviews Parsed:  8000\n",
      "Reviews Parsed:  9000\n",
      "1\n",
      "Reviews Parsed:  1000\n",
      "Reviews Parsed:  2000\n",
      "Reviews Parsed:  3000\n",
      "Reviews Parsed:  4000\n",
      "Reviews Parsed:  5000\n",
      "Reviews Parsed:  6000\n",
      "Reviews Parsed:  7000\n",
      "Reviews Parsed:  8000\n",
      "Reviews Parsed:  9000\n",
      "Reviews Parsed:  10000\n",
      "2\n",
      "Reviews Parsed:  2000\n",
      "Reviews Parsed:  3000\n",
      "Reviews Parsed:  4000\n",
      "Reviews Parsed:  5000\n",
      "Reviews Parsed:  6000\n",
      "Reviews Parsed:  7000\n",
      "Reviews Parsed:  8000\n",
      "Reviews Parsed:  9000\n",
      "Reviews Parsed:  10000\n",
      "Reviews Parsed:  11000\n",
      "3\n",
      "Reviews Parsed:  3000\n",
      "Reviews Parsed:  4000\n",
      "Reviews Parsed:  5000\n",
      "Reviews Parsed:  6000\n",
      "Reviews Parsed:  7000\n",
      "Reviews Parsed:  8000\n",
      "Reviews Parsed:  9000\n",
      "Reviews Parsed:  10000\n",
      "Reviews Parsed:  11000\n",
      "Reviews Parsed:  12000\n",
      "4\n",
      "Reviews Parsed:  4000\n",
      "Reviews Parsed:  5000\n",
      "Reviews Parsed:  6000\n",
      "Reviews Parsed:  7000\n",
      "Reviews Parsed:  8000\n",
      "Reviews Parsed:  9000\n",
      "Reviews Parsed:  10000\n",
      "Reviews Parsed:  11000\n",
      "Reviews Parsed:  12000\n",
      "Reviews Parsed:  13000\n",
      "5\n",
      "Reviews Parsed:  5000\n",
      "Reviews Parsed:  6000\n",
      "Reviews Parsed:  7000\n",
      "Reviews Parsed:  8000\n",
      "Reviews Parsed:  9000\n",
      "Reviews Parsed:  10000\n",
      "Reviews Parsed:  11000\n",
      "Reviews Parsed:  12000\n",
      "Reviews Parsed:  13000\n",
      "Reviews Parsed:  14000\n",
      "6\n",
      "Reviews Parsed:  6000\n",
      "Reviews Parsed:  7000\n"
     ]
    },
    {
     "ename": "KeyboardInterrupt",
     "evalue": "",
     "output_type": "error",
     "traceback": [
      "\u001b[0;31m---------------------------------------------------------------------------\u001b[0m",
      "\u001b[0;31mKeyboardInterrupt\u001b[0m                         Traceback (most recent call last)",
      "\u001b[0;32m<ipython-input-16-baeca280e609>\u001b[0m in \u001b[0;36m<module>\u001b[0;34m()\u001b[0m\n\u001b[1;32m     13\u001b[0m                 \u001b[0mplg_dic\u001b[0m\u001b[0;34m[\u001b[0m\u001b[0mfp\u001b[0m\u001b[0;34m]\u001b[0m \u001b[0;34m=\u001b[0m \u001b[0mindices\u001b[0m\u001b[0;34m\u001b[0m\u001b[0m\n\u001b[1;32m     14\u001b[0m             \u001b[0;32melse\u001b[0m\u001b[0;34m:\u001b[0m\u001b[0;34m\u001b[0m\u001b[0m\n\u001b[0;32m---> 15\u001b[0;31m                 \u001b[0mplg_dic\u001b[0m\u001b[0;34m[\u001b[0m\u001b[0mfp\u001b[0m\u001b[0;34m]\u001b[0m \u001b[0;34m=\u001b[0m \u001b[0;34m[\u001b[0m\u001b[0mi\u001b[0m\u001b[0;34m]\u001b[0m\u001b[0;34m\u001b[0m\u001b[0m\n\u001b[0m\u001b[1;32m     16\u001b[0m \u001b[0;34m\u001b[0m\u001b[0m\n\u001b[1;32m     17\u001b[0m     \u001b[0;32mwith\u001b[0m \u001b[0mopen\u001b[0m\u001b[0;34m(\u001b[0m\u001b[0;34m'plg/fingerprints/plg_dic.json'\u001b[0m\u001b[0;34m,\u001b[0m \u001b[0;34m'w'\u001b[0m\u001b[0;34m)\u001b[0m \u001b[0;32mas\u001b[0m \u001b[0mfp\u001b[0m\u001b[0;34m:\u001b[0m\u001b[0;34m\u001b[0m\u001b[0m\n",
      "\u001b[0;31mKeyboardInterrupt\u001b[0m: "
     ]
    }
   ],
   "source": [
    "import json\n",
    "for batch in range(10):\n",
    "    plg_dic = {}\n",
    "    print (batch)\n",
    "    for index in range(num_reviews_batch):\n",
    "        i = batch * num_reviews_batch + index\n",
    "        if (i % 1000 == 0):\n",
    "            print (\"Reviews Parsed: \", i)\n",
    "        for fp in eval(fingerprints[i]):\n",
    "            if fp in plg_dic:\n",
    "                indices = plg_dic[fp]\n",
    "                indices.append(i)\n",
    "                plg_dic[fp] = indices\n",
    "            else:\n",
    "                plg_dic[fp] = [i] \n",
    "    \n",
    "    with open('plg/fingerprints/plg_dic.json', 'w') as fp:\n",
    "        json.dump(plg_dic, fp)"
   ]
  },
  {
   "cell_type": "code",
   "execution_count": 11,
   "metadata": {},
   "outputs": [],
   "source": []
  },
  {
   "cell_type": "code",
   "execution_count": 2,
   "metadata": {},
   "outputs": [],
   "source": [
    "with open('plg/fingerprints/plg_dic.json', 'r') as fp:\n",
    "    plg_dic = json.load(fp)"
   ]
  },
  {
   "cell_type": "code",
   "execution_count": 4,
   "metadata": {},
   "outputs": [
    {
     "data": {
      "text/plain": [
       "846384"
      ]
     },
     "execution_count": 4,
     "metadata": {},
     "output_type": "execute_result"
    }
   ],
   "source": [
    "len(plg_dic)"
   ]
  },
  {
   "cell_type": "code",
   "execution_count": 5,
   "metadata": {},
   "outputs": [],
   "source": [
    "plg_indices = []\n",
    "for items in plg_dic:\n",
    "    if (len(plg_dic[items]) > 1):\n",
    "        temp = plg_dic[items]\n",
    "        sz = len(temp)\n",
    "        for i in range(sz):\n",
    "            for j in range(i + 1, sz):\n",
    "                plg_indices.append((temp[i], temp[j]))\n",
    "            "
   ]
  },
  {
   "cell_type": "code",
   "execution_count": 6,
   "metadata": {},
   "outputs": [],
   "source": [
    "plg_indices = set(plg_indices)"
   ]
  },
  {
   "cell_type": "code",
   "execution_count": 62,
   "metadata": {},
   "outputs": [
    {
     "data": {
      "text/plain": [
       "50691"
      ]
     },
     "execution_count": 62,
     "metadata": {},
     "output_type": "execute_result"
    }
   ],
   "source": [
    "len(plg_indices)"
   ]
  },
  {
   "cell_type": "code",
   "execution_count": 64,
   "metadata": {
    "scrolled": false
   },
   "outputs": [
    {
     "name": "stdout",
     "output_type": "stream",
     "text": [
      "0\n",
      "10000\n",
      "20000\n",
      "30000\n",
      "40000\n",
      "50000\n"
     ]
    }
   ],
   "source": [
    "scores = []\n",
    "sentence_threshold = 2 #minimum number of windows\n",
    "for index, items in enumerate(plg_indices):\n",
    "    if (index % 10000 == 0):\n",
    "        print (index)\n",
    "    i = items[0]\n",
    "    j = items[1]\n",
    "    common = eval(fingerprints[i]) & eval(fingerprints[j])\n",
    "    temp = min(len(eval(fingerprints[i])), len(eval(fingerprints[j])))\n",
    "    score = len(common)/temp\n",
    "    if score > 0.7 and temp >= sentence_threshold:\n",
    "        scores.append((i, j, score))"
   ]
  },
  {
   "cell_type": "code",
   "execution_count": 65,
   "metadata": {
    "scrolled": true
   },
   "outputs": [
    {
     "data": {
      "text/plain": [
       "18"
      ]
     },
     "execution_count": 65,
     "metadata": {},
     "output_type": "execute_result"
    }
   ],
   "source": [
    "len(scores)"
   ]
  },
  {
   "cell_type": "code",
   "execution_count": 66,
   "metadata": {},
   "outputs": [],
   "source": [
    "scores = set(scores)"
   ]
  },
  {
   "cell_type": "code",
   "execution_count": 67,
   "metadata": {},
   "outputs": [
    {
     "ename": "NameError",
     "evalue": "name 'df' is not defined",
     "output_type": "error",
     "traceback": [
      "\u001b[0;31m---------------------------------------------------------------------------\u001b[0m",
      "\u001b[0;31mNameError\u001b[0m                                 Traceback (most recent call last)",
      "\u001b[0;32m<ipython-input-67-fea51a8c38a3>\u001b[0m in \u001b[0;36m<module>\u001b[0;34m()\u001b[0m\n\u001b[1;32m      3\u001b[0m     \u001b[0mi\u001b[0m \u001b[0;34m=\u001b[0m \u001b[0mitem\u001b[0m\u001b[0;34m[\u001b[0m\u001b[0;36m0\u001b[0m\u001b[0;34m]\u001b[0m\u001b[0;34m\u001b[0m\u001b[0m\n\u001b[1;32m      4\u001b[0m     \u001b[0mj\u001b[0m \u001b[0;34m=\u001b[0m \u001b[0mitem\u001b[0m\u001b[0;34m[\u001b[0m\u001b[0;36m1\u001b[0m\u001b[0;34m]\u001b[0m\u001b[0;34m\u001b[0m\u001b[0m\n\u001b[0;32m----> 5\u001b[0;31m     \u001b[0mreview1\u001b[0m \u001b[0;34m=\u001b[0m \u001b[0mdf\u001b[0m\u001b[0;34m.\u001b[0m\u001b[0miloc\u001b[0m\u001b[0;34m[\u001b[0m\u001b[0mi\u001b[0m\u001b[0;34m]\u001b[0m\u001b[0;34m\u001b[0m\u001b[0m\n\u001b[0m\u001b[1;32m      6\u001b[0m     \u001b[0mreview2\u001b[0m \u001b[0;34m=\u001b[0m \u001b[0mdf\u001b[0m\u001b[0;34m.\u001b[0m\u001b[0miloc\u001b[0m\u001b[0;34m[\u001b[0m\u001b[0mj\u001b[0m\u001b[0;34m]\u001b[0m\u001b[0;34m\u001b[0m\u001b[0m\n\u001b[1;32m      7\u001b[0m     \u001b[0;32mif\u001b[0m \u001b[0mreview1\u001b[0m\u001b[0;34m[\u001b[0m\u001b[0;34m'reviewerID'\u001b[0m\u001b[0;34m]\u001b[0m \u001b[0;34m!=\u001b[0m \u001b[0mreview2\u001b[0m\u001b[0;34m[\u001b[0m\u001b[0;34m'reviewerID'\u001b[0m\u001b[0;34m]\u001b[0m \u001b[0;32mand\u001b[0m \u001b[0mreview1\u001b[0m\u001b[0;34m[\u001b[0m\u001b[0;34m'asin'\u001b[0m\u001b[0;34m]\u001b[0m \u001b[0;34m!=\u001b[0m \u001b[0mreview2\u001b[0m\u001b[0;34m[\u001b[0m\u001b[0;34m'asin'\u001b[0m\u001b[0;34m]\u001b[0m\u001b[0;34m:\u001b[0m\u001b[0;34m\u001b[0m\u001b[0m\n",
      "\u001b[0;31mNameError\u001b[0m: name 'df' is not defined"
     ]
    }
   ],
   "source": [
    "unique_reviews = set()\n",
    "for item in scores:\n",
    "    i = item[0]\n",
    "    j = item[1]\n",
    "    review1 = df.iloc[i]\n",
    "    review2 = df.iloc[j]\n",
    "    if review1['reviewerID'] != review2['reviewerID'] and review1['asin'] != review2['asin']:\n",
    "        unique_reviews.add((i, j, item[2]))"
   ]
  },
  {
   "cell_type": "code",
   "execution_count": 24,
   "metadata": {
    "scrolled": true
   },
   "outputs": [
    {
     "data": {
      "text/plain": [
       "set()"
      ]
     },
     "execution_count": 24,
     "metadata": {},
     "output_type": "execute_result"
    }
   ],
   "source": [
    "unique_reviews"
   ]
  },
  {
   "cell_type": "code",
   "execution_count": 34,
   "metadata": {},
   "outputs": [
    {
     "data": {
      "text/plain": [
       "\"You won't find one this tiny for this price with this qualityBy Hector L TorresI've bought 2 cameras of this type for use at work.  But this one knocks it out of the park. The case is built like a tank, it's very easy to use. The voice activated function is great. I'm using an 8gb chip in mine, so I can't talk about the quality problems I've heard about when using the 2gig chip that ships. I've used it the past couple days testing it by using the clip mount to clip it under my rear view mirror facing forward and I can tell you there are no police dashboard cameras that can beat the video. The camera focuses perfectly through the windshield and the angle of view is wide enough to capture a perfect scene. Low light is great. I plugged the camera in another computer without installing the drivers and it worked fine. Audio is a weak point and wind noise will wipe the audio. If your going to use this as a cruiser cam not sure how you would get external audio, but it will pick up the video well. I highly recommend it.\""
      ]
     },
     "execution_count": 34,
     "metadata": {},
     "output_type": "execute_result"
    }
   ],
   "source": [
    "reviews[75735]"
   ]
  },
  {
   "cell_type": "code",
   "execution_count": 35,
   "metadata": {},
   "outputs": [
    {
     "data": {
      "text/plain": [
       "\"I've bought 3 or 4 cameras of this type for use at work.  I've bought 2 different helmet cameras that worked kind of okay, but this one knocks it out of the park. The case is built like a tank, it's very easy to use. The voice activated function is great. I'm using an 8gb chip in mine, so I can't talk about the quality problems I've heard about when using the 2gig chip that ships. I've used it the past couple days testing it by using the clip mount to clip it under my rear view mirror facing forward and I can tell you there are no police dashboard cameras that can beat the video. The camera focuses perfectly through the windshield and the angle of view is wide enough to capture a perfect scene. Low light is great, used it at a shooting range yesterday and once I figured out the proper placement the videos were great even in reduced lighting.  If you need a tiny camera with great quality this is the one. My one complaint was when I installed the driver disk I began getting com errors and had to do a lot of googling before I could shut them off. I plugged the camera in another computer without installing the drivers and it worked fine. I suppose you will need the drivers if you are going to use this as a web camera, but thats a waste of a great piece of equipment. Audio is a weak point and wind noise will wipe the audio. If your going to use this as a cruiser cam not sure how you would get external audio, but it will pick up the video well. I highly recommend it.  [...]\""
      ]
     },
     "execution_count": 35,
     "metadata": {},
     "output_type": "execute_result"
    }
   ],
   "source": [
    "reviews[45204]"
   ]
  },
  {
   "cell_type": "code",
   "execution_count": 37,
   "metadata": {},
   "outputs": [
    {
     "data": {
      "text/plain": [
       "level_0                                                       45204\n",
       "index                                                         74170\n",
       "asin                                                     B0029631VI\n",
       "helpful                                                  [212, 236]\n",
       "overall                                                           5\n",
       "reviewText        I've bought 3 or 4 cameras of this type for us...\n",
       "reviewTime                                              12 16, 2009\n",
       "reviewerID                                           A11D3W4CFYZNHM\n",
       "reviewerName                                                 Bill T\n",
       "summary           You won't find one this tiny for this price wi...\n",
       "unixReviewTime                                           1260921600\n",
       "Name: 45204, dtype: object"
      ]
     },
     "execution_count": 37,
     "metadata": {},
     "output_type": "execute_result"
    }
   ],
   "source": [
    "df.iloc[45204]"
   ]
  },
  {
   "cell_type": "code",
   "execution_count": 36,
   "metadata": {},
   "outputs": [
    {
     "data": {
      "text/plain": [
       "level_0                                                       75735\n",
       "index                                                         48036\n",
       "asin                                                     B006UNI21A\n",
       "helpful                                                    [23, 25]\n",
       "overall                                                           5\n",
       "reviewText        You won't find one this tiny for this price wi...\n",
       "reviewTime                                              05 20, 2012\n",
       "reviewerID                                           A21T1XU15MPJX2\n",
       "reviewerName                              H. L. T. Ramirez \"Hector\"\n",
       "summary                             Great spy camera for the price.\n",
       "unixReviewTime                                           1337472000\n",
       "Name: 75735, dtype: object"
      ]
     },
     "execution_count": 36,
     "metadata": {},
     "output_type": "execute_result"
    }
   ],
   "source": [
    "df.iloc[75735]"
   ]
  },
  {
   "cell_type": "code",
   "execution_count": 111,
   "metadata": {},
   "outputs": [
    {
     "name": "stdout",
     "output_type": "stream",
     "text": [
      "8\n",
      "1.0\n",
      "{'1c9600afd7f0be0b2764ae6f656ebf50', '14527a452f3805cad37de300d00ff8e9', '06fb380975fb830826b97053f0af802e', '1a94aa68d8f5182dcb2dd55c37dedeeb', '1a1e2a2dbfa8cb0ee4a29279e2af120e', '2b9640d27d0b2ea79e9f10c36f515a67', '11ac9f192c0daa2473bcd234ee42acf5', '864ab63ec5e2f8742bc86fb48ab944aa'}\n",
      "{'1c9600afd7f0be0b2764ae6f656ebf50', '14527a452f3805cad37de300d00ff8e9', '06fb380975fb830826b97053f0af802e', '1a94aa68d8f5182dcb2dd55c37dedeeb', '1a1e2a2dbfa8cb0ee4a29279e2af120e', '2b9640d27d0b2ea79e9f10c36f515a67', '11ac9f192c0daa2473bcd234ee42acf5', '864ab63ec5e2f8742bc86fb48ab944aa'}\n"
     ]
    }
   ],
   "source": [
    "i = 7966\n",
    "j = 7967\n",
    "common = fingerprints[i] & fingerprints[j]\n",
    "temp = min(len(fingerprints[i]), len(fingerprints[j]))\n",
    "print (len(common))\n",
    "score = len(common)/temp\n",
    "print (score)\n",
    "print (fingerprints[i])\n",
    "print (fingerprints[j])"
   ]
  },
  {
   "cell_type": "code",
   "execution_count": null,
   "metadata": {},
   "outputs": [],
   "source": []
  }
 ],
 "metadata": {
  "kernelspec": {
   "display_name": "Python 3",
   "language": "python",
   "name": "python3"
  },
  "language_info": {
   "codemirror_mode": {
    "name": "ipython",
    "version": 3
   },
   "file_extension": ".py",
   "mimetype": "text/x-python",
   "name": "python",
   "nbconvert_exporter": "python",
   "pygments_lexer": "ipython3",
   "version": "3.5.2"
  }
 },
 "nbformat": 4,
 "nbformat_minor": 2
}
