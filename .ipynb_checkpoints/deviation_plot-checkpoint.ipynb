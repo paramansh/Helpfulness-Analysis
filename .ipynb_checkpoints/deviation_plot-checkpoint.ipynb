{
 "cells": [
  {
   "cell_type": "markdown",
   "metadata": {},
   "source": [
    "# Rating vs Helpful plots"
   ]
  },
  {
   "cell_type": "code",
   "execution_count": 1,
   "metadata": {},
   "outputs": [],
   "source": [
    "import pandas as pd\n",
    "import numpy as np\n",
    "import matplotlib.pyplot as plt"
   ]
  },
  {
   "cell_type": "markdown",
   "metadata": {},
   "source": [
    "Read pickle data with 4 columns: index, "
   ]
  },
  {
   "cell_type": "code",
   "execution_count": 5,
   "metadata": {},
   "outputs": [],
   "source": [
    "df = pd.read_pickle('data/data_frames/Cell_Phones_and_Accessories_5.pkl')"
   ]
  },
  {
   "cell_type": "code",
   "execution_count": 6,
   "metadata": {},
   "outputs": [],
   "source": [
    "df = df.drop(['index'], axis = 1)\n",
    "num_reviews = df.shape[0]\n",
    "min_helpfull_review = 10"
   ]
  },
  {
   "cell_type": "code",
   "execution_count": 7,
   "metadata": {},
   "outputs": [
    {
     "data": {
      "text/plain": [
       "(8775, 4)"
      ]
     },
     "execution_count": 7,
     "metadata": {},
     "output_type": "execute_result"
    }
   ],
   "source": [
    "df.shape"
   ]
  },
  {
   "cell_type": "code",
   "execution_count": 8,
   "metadata": {},
   "outputs": [],
   "source": [
    "helpfulness = df['helpful']\n",
    "temp = [i for i in range(num_reviews)  if helpfulness[i][1] > min_helpfull_review]\n",
    "df_temp = df.iloc[temp].reset_index()\n",
    "df = df_temp"
   ]
  },
  {
   "cell_type": "code",
   "execution_count": 9,
   "metadata": {},
   "outputs": [
    {
     "data": {
      "text/plain": [
       "(4766, 5)"
      ]
     },
     "execution_count": 9,
     "metadata": {},
     "output_type": "execute_result"
    }
   ],
   "source": [
    "df.shape"
   ]
  },
  {
   "cell_type": "code",
   "execution_count": 40,
   "metadata": {},
   "outputs": [],
   "source": [
    "array = df.values"
   ]
  },
  {
   "cell_type": "code",
   "execution_count": 41,
   "metadata": {},
   "outputs": [
    {
     "data": {
      "text/plain": [
       "713836"
      ]
     },
     "execution_count": 41,
     "metadata": {},
     "output_type": "execute_result"
    }
   ],
   "source": [
    "num_reviews = array.shape[0]\n",
    "num_reviews"
   ]
  },
  {
   "cell_type": "code",
   "execution_count": 49,
   "metadata": {},
   "outputs": [],
   "source": [
    "def plot_items(X_all, y_all, is_absolute = False, title = -1):\n",
    "    df_temp = pd.DataFrame({'y': y_all, 'X': X_all})\n",
    "    uni_x = df_temp['X'].unique()\n",
    "    print(uni_x)\n",
    "    y2 = []\n",
    "    e = []\n",
    "    e_lower = []\n",
    "    frac_of_total_data = 0.001 * df_temp.shape[0]\n",
    "    less_item_xvals = []\n",
    "    less_item_yvals = []\n",
    "    for uni in uni_x:\n",
    "        df_temp_y = df_temp.loc[df_temp['X'] == uni]['y']\n",
    "        y2.append(df_temp_y.median())\n",
    "        e.append(df_temp_y.quantile(0.66) - df_temp_y.median())\n",
    "        e_lower.append(df_temp_y.median() - df_temp_y.quantile(0.33))\n",
    "        if df_temp_y.shape[0] < frac_of_total_data:\n",
    "            less_item_xvals.append(uni)\n",
    "            less_item_yvals.append(df_temp_y.median())\n",
    "    y3 = [x for _,x in sorted(zip(uni_x, y2))] # e2 sorted according to y\n",
    "    e2 = [x for _,x in sorted(zip(uni_x, e))]\n",
    "    e_lower2 = [x for _,x in sorted(zip(uni_x, e_lower))]\n",
    "    x2 = sorted(uni_x)\n",
    "    if is_absolute:\n",
    "        plt.xlim(-1, 5)\n",
    "    else:\n",
    "        plt.xlim(-5, 5)\n",
    "    plt.ylim(0, 1)\n",
    "    plt.xlabel(\"Signed Deviation\")\n",
    "    if (is_absolute):\n",
    "        plt.xlabel(\"Absolute deviation\")\n",
    "    plt.ylabel(\"Helpfulness ratio\")\n",
    "    print (uni)\n",
    "    if title is not -1:\n",
    "        plt.title(\"Plot for variance = \" + str(title))\n",
    "    ecolor = ['black'] * 9\n",
    "#     ecolor += ['black'] * 3\n",
    "    plt.errorbar(x2, y3, (e_lower2, e2), fmt='-+', capsize=5, ecolor='black')\n",
    "    plt.scatter(less_item_xvals, less_item_yvals, color='red')\n",
    "    print (less_item_xvals, less_item_yvals)\n",
    "    if title is -1:\n",
    "        if is_absolute:\n",
    "            plt.savefig(\"plots/unsigned.png\")\n",
    "        else:\n",
    "            plt.savefig(\"plots/signed.png\")\n",
    "    else:\n",
    "        if is_absolute:\n",
    "            plt.savefig(\"plots/unsigned_\" + str(title) + \".png\")\n",
    "        else:\n",
    "            plt.savefig(\"plots/signed_\" + str(title) + \".png\")\n",
    "    plt.close()\n",
    "#     plt.show()"
   ]
  },
  {
   "cell_type": "code",
   "execution_count": 43,
   "metadata": {},
   "outputs": [],
   "source": [
    "def gen_data_points(array, num_reviews_evaluate, is_absolute=False, max_no_of_items = 100):\n",
    "    item = array[0][1]\n",
    "    prev_item = 'null'\n",
    "    count = 0\n",
    "    X_all = []\n",
    "    y_all = []\n",
    "    X_var = [[], [], [], [], [], [], [], [], []]\n",
    "    y_var = [[], [], [], [], [], [], [], [], []]\n",
    "#     X_var = []\n",
    "#     y_var = []\n",
    "    num_items = 0\n",
    "#     num_var_item = 0\n",
    "    num_var_item = [0] * 9\n",
    "    y = []\n",
    "    sum = 0\n",
    "    item_array = np.array([])\n",
    "    num_accept_items = 0\n",
    "    num_modified_items = 0\n",
    "    for i in range(num_reviews_evaluate):\n",
    "        count = count + 1\n",
    "        if (count % 10000 == 0):\n",
    "            print (count)\n",
    "        curr_item = array[i]\n",
    "        item = curr_item[1]\n",
    "        if (prev_item == item):\n",
    "            item_array = np.append(item_array, curr_item[3])\n",
    "            sum += curr_item[3]\n",
    "            y.append(curr_item[2][0] / curr_item[2][1])\n",
    "            if (count == num_reviews_evaluate):\n",
    "                if (item_array.size < max_no_of_items):\n",
    "                    mean = np.mean(item_array)\n",
    "#                     variance = round(np.var(item_array))\n",
    "                    variance = (round(np.var(item_array) * 2)) / 2\n",
    "                    if (is_absolute):\n",
    "                        item_array = np.abs(np.rint((item_array - mean) * 2)) / 2\n",
    "                    else:    \n",
    "                        item_array = np.rint((item_array - mean) * 2) / 2\n",
    "#                     if (variance == 0):\n",
    "#                         X_var = X_var + item_array.tolist()\n",
    "#                         y_var = y_var + y\n",
    "#                         num_var_item += 1\n",
    "                    if (variance <= 4):\n",
    "                        index = int(2 * variance)\n",
    "                        X_var[index] += item_array.tolist()\n",
    "                        y_var[index] += y\n",
    "                        num_var_item[index] += 1\n",
    "                    X_all = X_all + item_array.tolist()\n",
    "                    y_all = y_all + y\n",
    "                    num_accept_items += 1\n",
    "                else:\n",
    "                    item_array = item_array[0:max_no_of_items]\n",
    "                    y = y[max_no_of_items]\n",
    "                    mean = np.mean(item_array)\n",
    "                    variance = (round(np.var(item_array) * 2)) / 2 #round to nearest haf integer\n",
    "#                     variance = round(np.var(item_array))\n",
    "                    if (is_absolute):\n",
    "                        item_array = np.abs(np.rint((item_array - mean) * 2)) / 2\n",
    "                    else:    \n",
    "                        item_array = np.rint((item_array - mean) * 2) / 2\n",
    "#                     if (variance == 0):\n",
    "#                         X_var = X_var + item_array.tolist()\n",
    "#                         y_var = y_var + y\n",
    "#                         num_var_item += 1\n",
    "                    if (variance <= 4):\n",
    "                        index = int(2 * variance)\n",
    "                        X_var[index] += item_array.tolist()\n",
    "                        y_var[index] += y\n",
    "                        num_var_item[index] += 1\n",
    "                    \n",
    "                    X_all = X_all + item_array.tolist()\n",
    "                    y_all = y_all + y\n",
    "                    num_modified_items += 1\n",
    "        else:\n",
    "            if (num_items):\n",
    "                if (item_array.size < max_no_of_items):\n",
    "                    mean = np.mean(item_array)\n",
    "                    variance = (round(np.var(item_array) * 2)) / 2 #round to nearest haf integer\n",
    "#                     variance = round(np.var(item_array))\n",
    "                    if (is_absolute):\n",
    "                        item_array = np.abs(np.rint((item_array - mean) * 2)) / 2\n",
    "                    else:    \n",
    "                        item_array = np.rint((item_array - mean) * 2) / 2\n",
    "#                     if (variance == 0):\n",
    "#                         X_var = X_var + item_array.tolist()\n",
    "#                         y_var = y_var + y\n",
    "#                         num_var_item += 1\n",
    "                    if (variance <= 4):\n",
    "                        index = int(2 * variance)\n",
    "                        X_var[index] += item_array.tolist()\n",
    "                        y_var[index] += y\n",
    "                        num_var_item[index] += 1\n",
    "                    \n",
    "                    X_all = X_all + item_array.tolist()\n",
    "                    y_all = y_all + y\n",
    "                    num_accept_items += 1\n",
    "                else:\n",
    "                    item_array = item_array[0:max_no_of_items]\n",
    "                    y = y[0:max_no_of_items]\n",
    "                    mean = np.mean(item_array)\n",
    "                    variance = (round(np.var(item_array) * 2)) / 2 #round to nearest haf integer\n",
    "#                     variance = round(np.var(item_array))\n",
    "                    if (is_absolute):\n",
    "                        item_array = np.abs(np.rint((item_array - mean) * 2)) / 2\n",
    "                    else:    \n",
    "                        item_array = np.rint((item_array - mean) * 2) / 2\n",
    "#                     if (variance == 0):\n",
    "#                         X_var = X_var + item_array.tolist()\n",
    "#                         y_var = y_var + y\n",
    "#                         num_var_item += 1\n",
    "                    if (variance <= 4):\n",
    "                        index = int(2 * variance)\n",
    "                        X_var[index] += item_array.tolist()\n",
    "                        y_var[index] += y\n",
    "                        num_var_item[index] += 1\n",
    "                    \n",
    "                    X_all = X_all + item_array.tolist()\n",
    "                    y_all = y_all + y\n",
    "                    num_modified_items += 1\n",
    "            num_items += 1\n",
    "            sum = 0\n",
    "            y = []\n",
    "            item_array = np.array([])\n",
    "            prev_item = item\n",
    "            item_array = np.append(item_array, curr_item[3])\n",
    "            sum += curr_item[0]\n",
    "            y.append(curr_item[2][0] / curr_item[2][1])\n",
    "\n",
    "    print (\"Total reviews: \", count)\n",
    "    print (\"Total items: \", num_items)\n",
    "    print (\"Accepted Items: \", num_accept_items)\n",
    "    print (\"Modified Items: \", num_modified_items)\n",
    "    print (\"Number of items with given vairance: \", num_var_item)\n",
    "    return X_all, y_all, X_var, y_var"
   ]
  },
  {
   "cell_type": "code",
   "execution_count": 44,
   "metadata": {
    "scrolled": true
   },
   "outputs": [
    {
     "name": "stdout",
     "output_type": "stream",
     "text": [
      "10000\n",
      "20000\n",
      "30000\n",
      "40000\n",
      "50000\n",
      "60000\n",
      "70000\n",
      "80000\n",
      "90000\n",
      "100000\n",
      "110000\n",
      "120000\n",
      "130000\n",
      "140000\n",
      "150000\n",
      "160000\n",
      "170000\n",
      "180000\n",
      "190000\n",
      "200000\n",
      "210000\n",
      "220000\n",
      "230000\n",
      "240000\n",
      "250000\n",
      "260000\n",
      "270000\n",
      "280000\n",
      "290000\n",
      "300000\n",
      "310000\n",
      "320000\n",
      "330000\n",
      "340000\n",
      "350000\n",
      "360000\n",
      "370000\n",
      "380000\n",
      "390000\n",
      "400000\n",
      "410000\n",
      "420000\n",
      "430000\n",
      "440000\n",
      "450000\n",
      "460000\n",
      "470000\n",
      "480000\n",
      "490000\n",
      "500000\n",
      "510000\n",
      "520000\n",
      "530000\n",
      "540000\n",
      "550000\n",
      "560000\n",
      "570000\n",
      "580000\n",
      "590000\n",
      "600000\n",
      "610000\n",
      "620000\n",
      "630000\n",
      "640000\n",
      "650000\n",
      "660000\n",
      "670000\n",
      "680000\n",
      "690000\n",
      "700000\n",
      "710000\n",
      "Total reviews:  713836\n",
      "Total items:  181189\n",
      "Accepted Items:  180990\n",
      "Modified Items:  198\n",
      "Number of items with given vairance:  [102866, 7445, 17513, 11151, 17540, 8572, 8209, 3708, 4184]\n"
     ]
    }
   ],
   "source": [
    "X_all, y_all, X_var, y_var = gen_data_points(array, num_reviews)\n",
    "\n",
    "# plot_items(X_var, y_var)"
   ]
  },
  {
   "cell_type": "code",
   "execution_count": 45,
   "metadata": {},
   "outputs": [
    {
     "name": "stdout",
     "output_type": "stream",
     "text": [
      "[ 1.5 -1.5 -0.5  0.5 -2.5  0.  -2.   2.   2.5 -1.   1.  -3.   3.   3.5\n",
      " -3.5  4.  -4. ]\n",
      "-4.0\n",
      "[3.5, 4.0, -4.0] [0.6571428571428571, 0.2894736842105263, 0.3333333333333333]\n"
     ]
    }
   ],
   "source": [
    "plot_items(X_all, y_all)"
   ]
  },
  {
   "cell_type": "code",
   "execution_count": 46,
   "metadata": {},
   "outputs": [],
   "source": [
    "X_abs = [abs(i) for i in X_all]"
   ]
  },
  {
   "cell_type": "code",
   "execution_count": 47,
   "metadata": {},
   "outputs": [
    {
     "name": "stdout",
     "output_type": "stream",
     "text": [
      "[1.5 0.5 2.5 0.  2.  1.  3.  3.5 4. ]\n",
      "4.0\n",
      "[4.0] [0.2894736842105263]\n"
     ]
    }
   ],
   "source": [
    "plot_items(X_abs, y_all, is_absolute=True)"
   ]
  },
  {
   "cell_type": "code",
   "execution_count": 48,
   "metadata": {},
   "outputs": [
    {
     "name": "stdout",
     "output_type": "stream",
     "text": [
      "[ 0.   0.5 -0.5 -1.   1.  -2.  -3. ]\n",
      "-3.0\n",
      "[-2.0, -3.0] [0.39522058823529416, 0.3]\n",
      "[ 1.  -0.  -1.  -2.   0.5 -1.5 -0.5  1.5  2.  -2.5  2.5 -3.5  3.   4.\n",
      " -3.  -4. ]\n",
      "-4.0\n",
      "[2.0, 2.5, -3.5, 3.0, 4.0, -3.0, -4.0] [0.7803030303030303, 0.75, 0.35344827586206895, 0.90625, 0.9117647058823529, 0.3333333333333333, 0.16666666666666666]\n",
      "[-1.5  0.5 -1.   1.   0.  -2.   1.5 -0.5 -2.5  2.  -3.5 -3.   3.   2.5\n",
      "  3.5  4.  -4. ]\n",
      "-4.0\n",
      "[-3.0, 3.0, 3.5, 4.0, -4.0] [0.27450980392156865, 0.8333333333333334, 0.19113170382308176, 0.2028763769889841, 0.7045454545454546]\n",
      "[-0.   1.  -3.   1.5 -1.5  0.5 -2.  -0.5  2.5  2.  -1.  -2.5  3.5 -3.5\n",
      "  3. ]\n",
      "3.0\n",
      "[3.5] [0.7525510204081632]\n",
      "[-2.  -1.   2.   0.   1.  -3.  -1.5  1.5  0.5  3.  -2.5 -0.5  2.5  3.5\n",
      " -3.5]\n",
      "-3.5\n",
      "[3.5] [0.6551724137931034]\n",
      "[ 1.5 -1.5 -0.5  0.5 -2.5  2.5  1.  -1.   3.   2.  -2.  -0.  -3.  -3.5\n",
      "  3.5]\n",
      "3.5\n",
      "[-3.5, 3.5] [0.6493055555555556, 0.4908963585434174]\n",
      "[ 0.5 -2.5  1.5  2.  -2.   0.   1.  -1.  -3.  -0.5 -1.5  2.5  3. ]\n",
      "3.0\n",
      "[] []\n",
      "[ 1.5 -2.5  2.  -2.  -1.  -0.  -0.5 -1.5  2.5  0.5  1.  -3.   3. ]\n",
      "3.0\n",
      "[] []\n",
      "[-2.   2.   1.5 -2.5 -1.5  2.5  1.  -1.   0.   0.5]\n",
      "0.5\n",
      "[1.0, -1.0, 0.0, 0.5] [0.8588957055214724, 0.4238095238095238, 0.3870967741935484, 0.7142857142857143]\n"
     ]
    }
   ],
   "source": [
    "for i in range (9):\n",
    "    plot_items(X_var[i], y_var[i], title = i/2)"
   ]
  },
  {
   "cell_type": "code",
   "execution_count": 50,
   "metadata": {},
   "outputs": [],
   "source": [
    "with open('plots/xall.txt', 'w') as thefile:\n",
    "    for item in X_all:\n",
    "        thefile.write('%s\\n' % item)"
   ]
  },
  {
   "cell_type": "code",
   "execution_count": 51,
   "metadata": {},
   "outputs": [],
   "source": [
    "with open('plots/yall.txt', 'w') as thefile:\n",
    "    for item in y_all:\n",
    "        thefile.write('%s\\n' % item)"
   ]
  },
  {
   "cell_type": "code",
   "execution_count": null,
   "metadata": {},
   "outputs": [],
   "source": []
  }
 ],
 "metadata": {
  "kernelspec": {
   "display_name": "Python 3",
   "language": "python",
   "name": "python3"
  },
  "language_info": {
   "codemirror_mode": {
    "name": "ipython",
    "version": 3
   },
   "file_extension": ".py",
   "mimetype": "text/x-python",
   "name": "python",
   "nbconvert_exporter": "python",
   "pygments_lexer": "ipython3",
   "version": "3.5.2"
  }
 },
 "nbformat": 4,
 "nbformat_minor": 2
}
