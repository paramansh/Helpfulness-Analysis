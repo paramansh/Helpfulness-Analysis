{
 "cells": [
  {
   "cell_type": "code",
   "execution_count": 1,
   "metadata": {},
   "outputs": [],
   "source": [
    "import nltk\n",
    "import pandas as pd\n",
    "import numpy as np\n",
    "import itertools\n",
    "import matplotlib.pyplot as plt"
   ]
  },
  {
   "cell_type": "code",
   "execution_count": 2,
   "metadata": {},
   "outputs": [],
   "source": [
    "df = pd.read_pickle('plg/data_frames/Electronics_5.pkl')"
   ]
  },
  {
   "cell_type": "code",
   "execution_count": 3,
   "metadata": {
    "scrolled": true
   },
   "outputs": [
    {
     "data": {
      "text/html": [
       "<div>\n",
       "<style scoped>\n",
       "    .dataframe tbody tr th:only-of-type {\n",
       "        vertical-align: middle;\n",
       "    }\n",
       "\n",
       "    .dataframe tbody tr th {\n",
       "        vertical-align: top;\n",
       "    }\n",
       "\n",
       "    .dataframe thead th {\n",
       "        text-align: right;\n",
       "    }\n",
       "</style>\n",
       "<table border=\"1\" class=\"dataframe\">\n",
       "  <thead>\n",
       "    <tr style=\"text-align: right;\">\n",
       "      <th></th>\n",
       "      <th>index</th>\n",
       "      <th>asin</th>\n",
       "      <th>helpful</th>\n",
       "      <th>overall</th>\n",
       "      <th>reviewText</th>\n",
       "      <th>reviewTime</th>\n",
       "      <th>reviewerID</th>\n",
       "      <th>reviewerName</th>\n",
       "      <th>summary</th>\n",
       "      <th>unixReviewTime</th>\n",
       "    </tr>\n",
       "  </thead>\n",
       "  <tbody>\n",
       "    <tr>\n",
       "      <th>0</th>\n",
       "      <td>1</td>\n",
       "      <td>0528881469</td>\n",
       "      <td>[12, 15]</td>\n",
       "      <td>1</td>\n",
       "      <td>I'm a professional OTR truck driver, and I bou...</td>\n",
       "      <td>11 25, 2010</td>\n",
       "      <td>AMO214LNFCEI4</td>\n",
       "      <td>Amazon Customer</td>\n",
       "      <td>Very Disappointed</td>\n",
       "      <td>1290643200</td>\n",
       "    </tr>\n",
       "    <tr>\n",
       "      <th>1</th>\n",
       "      <td>2</td>\n",
       "      <td>0528881469</td>\n",
       "      <td>[43, 45]</td>\n",
       "      <td>3</td>\n",
       "      <td>Well, what can I say.  I've had this unit in m...</td>\n",
       "      <td>09 9, 2010</td>\n",
       "      <td>A3N7T0DY83Y4IG</td>\n",
       "      <td>C. A. Freeman</td>\n",
       "      <td>1st impression</td>\n",
       "      <td>1283990400</td>\n",
       "    </tr>\n",
       "    <tr>\n",
       "      <th>2</th>\n",
       "      <td>56</td>\n",
       "      <td>0972683275</td>\n",
       "      <td>[15, 19]</td>\n",
       "      <td>5</td>\n",
       "      <td>Quality was excellent. Instructions were clear...</td>\n",
       "      <td>10 5, 2010</td>\n",
       "      <td>A3QH8VQDE7HZCR</td>\n",
       "      <td>costaricachris</td>\n",
       "      <td>Real value for the money</td>\n",
       "      <td>1286236800</td>\n",
       "    </tr>\n",
       "    <tr>\n",
       "      <th>3</th>\n",
       "      <td>82</td>\n",
       "      <td>0972683275</td>\n",
       "      <td>[8, 18]</td>\n",
       "      <td>1</td>\n",
       "      <td>I checked around Amazon as well as some other ...</td>\n",
       "      <td>12 1, 2010</td>\n",
       "      <td>A38FGQVJM18OWV</td>\n",
       "      <td>George S. Mitchell \"gsmitchell\"</td>\n",
       "      <td>What a piece of junk!</td>\n",
       "      <td>1291161600</td>\n",
       "    </tr>\n",
       "    <tr>\n",
       "      <th>4</th>\n",
       "      <td>141</td>\n",
       "      <td>0972683275</td>\n",
       "      <td>[14, 19]</td>\n",
       "      <td>5</td>\n",
       "      <td>I mounted this in my RV and it holds a 26\" LCD...</td>\n",
       "      <td>09 30, 2010</td>\n",
       "      <td>A7R4R9THNELTP</td>\n",
       "      <td>LG</td>\n",
       "      <td>Excellent, at any price</td>\n",
       "      <td>1285804800</td>\n",
       "    </tr>\n",
       "  </tbody>\n",
       "</table>\n",
       "</div>"
      ],
      "text/plain": [
       "   index        asin   helpful  overall  \\\n",
       "0      1  0528881469  [12, 15]        1   \n",
       "1      2  0528881469  [43, 45]        3   \n",
       "2     56  0972683275  [15, 19]        5   \n",
       "3     82  0972683275   [8, 18]        1   \n",
       "4    141  0972683275  [14, 19]        5   \n",
       "\n",
       "                                          reviewText   reviewTime  \\\n",
       "0  I'm a professional OTR truck driver, and I bou...  11 25, 2010   \n",
       "1  Well, what can I say.  I've had this unit in m...   09 9, 2010   \n",
       "2  Quality was excellent. Instructions were clear...   10 5, 2010   \n",
       "3  I checked around Amazon as well as some other ...   12 1, 2010   \n",
       "4  I mounted this in my RV and it holds a 26\" LCD...  09 30, 2010   \n",
       "\n",
       "       reviewerID                     reviewerName                   summary  \\\n",
       "0   AMO214LNFCEI4                  Amazon Customer         Very Disappointed   \n",
       "1  A3N7T0DY83Y4IG                    C. A. Freeman            1st impression   \n",
       "2  A3QH8VQDE7HZCR                   costaricachris  Real value for the money   \n",
       "3  A38FGQVJM18OWV  George S. Mitchell \"gsmitchell\"     What a piece of junk!   \n",
       "4   A7R4R9THNELTP                               LG   Excellent, at any price   \n",
       "\n",
       "   unixReviewTime  \n",
       "0      1290643200  \n",
       "1      1283990400  \n",
       "2      1286236800  \n",
       "3      1291161600  \n",
       "4      1285804800  "
      ]
     },
     "execution_count": 3,
     "metadata": {},
     "output_type": "execute_result"
    }
   ],
   "source": [
    "df.head()"
   ]
  },
  {
   "cell_type": "code",
   "execution_count": 4,
   "metadata": {},
   "outputs": [],
   "source": [
    "def update_dic(noun_words, aspect_dic, indices):\n",
    "    for word in noun_words:\n",
    "        if word in aspect_dic:\n",
    "            aspect_dic[word][0] += 1\n",
    "            aspect_dic[word][1].append(indices)\n",
    "        else:\n",
    "            aspect_dic[word] = [1, [indices]]"
   ]
  },
  {
   "cell_type": "code",
   "execution_count": 95,
   "metadata": {},
   "outputs": [],
   "source": [
    "aspect_dic = {}\n",
    "num_sentences = 0\n",
    "for r_index, review in enumerate(reviews):\n",
    "    sentences = nltk.sent_tokenize(review)\n",
    "    for s_index, sentence in enumerate(sentences):\n",
    "        num_sentences += 1\n",
    "        text = nltk.word_tokenize(sentence)\n",
    "        tags = nltk.pos_tag(text)\n",
    "        noun_words = [str(a) for (a,b) in tags if b == 'NN']\n",
    "        update_dic(noun_words, aspect_dic, (r_index, s_index))"
   ]
  },
  {
   "cell_type": "code",
   "execution_count": 96,
   "metadata": {
    "scrolled": true
   },
   "outputs": [],
   "source": [
    "aspect_list = [(a, aspect_dic[a]) for a in aspect_dic if aspect_dic[a][0] > 0.01 * num_sentences]"
   ]
  },
  {
   "cell_type": "code",
   "execution_count": 99,
   "metadata": {},
   "outputs": [],
   "source": [
    "features = [a[0] for a in aspect_list]"
   ]
  },
  {
   "cell_type": "code",
   "execution_count": 102,
   "metadata": {
    "scrolled": true
   },
   "outputs": [
    {
     "data": {
      "text/plain": [
       "False"
      ]
     },
     "execution_count": 102,
     "metadata": {},
     "output_type": "execute_result"
    }
   ],
   "source": []
  },
  {
   "cell_type": "code",
   "execution_count": 70,
   "metadata": {},
   "outputs": [
    {
     "data": {
      "text/plain": [
       "52"
      ]
     },
     "execution_count": 70,
     "metadata": {},
     "output_type": "execute_result"
    }
   ],
   "source": [
    "len(freq_words)"
   ]
  },
  {
   "cell_type": "code",
   "execution_count": 80,
   "metadata": {},
   "outputs": [],
   "source": [
    "redundant = []\n",
    "def purne_redundancy(word1, word2, psupport=3):\n",
    "    indices1 = word1[1][1] #list\n",
    "    indices2 = word2[1][1]\n",
    "    common_ind = len(set(indices1) & set(indices2)) # intersection\n",
    "    if common_ind > psupport:\n",
    "        redundant.append((word1, word2))"
   ]
  },
  {
   "cell_type": "code",
   "execution_count": 85,
   "metadata": {},
   "outputs": [],
   "source": [
    "for a, b in itertools.combinations(freq_words, 2):\n",
    "    purne_redundancy(a, b, psupport=25)"
   ]
  },
  {
   "cell_type": "code",
   "execution_count": 86,
   "metadata": {
    "scrolled": true
   },
   "outputs": [
    {
     "data": {
      "text/plain": [
       "[('music', 'player'),\n",
       " ('thing', 'lot'),\n",
       " ('reader', 'screen'),\n",
       " ('reader', 'tablet'),\n",
       " ('reader', 'device'),\n",
       " ('reader', 'book'),\n",
       " ('sound', 'quality'),\n",
       " ('radio', 'reception'),\n",
       " ('life', 'battery'),\n",
       " ('time', 'nook'),\n",
       " ('time', 'battery'),\n",
       " ('time', 'device'),\n",
       " ('time', 'book'),\n",
       " ('memory', 'card'),\n",
       " ('memory', 'battery'),\n",
       " ('card', 'tablet'),\n",
       " ('price', 'device'),\n",
       " ('reading', 'device'),\n",
       " ('screen', 'color'),\n",
       " ('screen', 'touch'),\n",
       " ('screen', 'nook'),\n",
       " ('screen', 'store'),\n",
       " ('screen', 'battery'),\n",
       " ('screen', 'something'),\n",
       " ('screen', 'device'),\n",
       " ('screen', 'page'),\n",
       " ('screen', 'book'),\n",
       " ('color', 'touch'),\n",
       " ('color', 'nook'),\n",
       " ('color', 'device'),\n",
       " ('color', 'book'),\n",
       " ('nook', 'store'),\n",
       " ('nook', 'battery'),\n",
       " ('nook', 'device'),\n",
       " ('nook', 'book'),\n",
       " ('lot', 'device'),\n",
       " ('store', 'app'),\n",
       " ('store', 'book'),\n",
       " ('battery', 'device'),\n",
       " ('battery', 'book'),\n",
       " ('tablet', 'access'),\n",
       " ('format', 'book'),\n",
       " ('access', 'device'),\n",
       " ('device', 'book'),\n",
       " ('text', 'book'),\n",
       " ('page', 'book'),\n",
       " ('library', 'book'),\n",
       " ('life', 'battery'),\n",
       " ('screen', 'color'),\n",
       " ('screen', 'touch'),\n",
       " ('screen', 'device')]"
      ]
     },
     "execution_count": 86,
     "metadata": {},
     "output_type": "execute_result"
    }
   ],
   "source": [
    "[(word[0][0], word[1][0]) for word in redundant]"
   ]
  },
  {
   "cell_type": "code",
   "execution_count": 6,
   "metadata": {},
   "outputs": [],
   "source": [
    "def update_dic(noun_words, aspect_dic):\n",
    "    for word in noun_words:\n",
    "        if word in aspect_dic:\n",
    "            aspect_dic[word] += 1\n",
    "        else:\n",
    "            aspect_dic[word] = 1"
   ]
  },
  {
   "cell_type": "code",
   "execution_count": 7,
   "metadata": {},
   "outputs": [],
   "source": [
    "def get_aspects(reviews): # returns number of aspects corresponding to each review\n",
    "    nouns_in_reviews = []\n",
    "    aspect_dic = {}\n",
    "    num_sentences = 0\n",
    "    for r_index, review in enumerate(reviews):\n",
    "        sentences = nltk.sent_tokenize(review)\n",
    "        nouns_in_item = []\n",
    "        for s_index, sentence in enumerate(sentences):\n",
    "            num_sentences += 1\n",
    "            text = nltk.word_tokenize(sentence)\n",
    "            tags = nltk.pos_tag(text)\n",
    "            noun_words = [str(a) for (a,b) in tags if b == 'NN']\n",
    "            nouns_in_item += noun_words\n",
    "            update_dic(noun_words, aspect_dic)\n",
    "        nouns_in_reviews.append(nouns_in_item)\n",
    "#         print r_index\n",
    "#     print (\"Sentence length \", num_sentences)\n",
    "    aspect_list = [a for a in aspect_dic if aspect_dic[a] > max(0.01 * num_sentences, 3)]\n",
    "    num_aspects = []\n",
    "    aspect_list = set(aspect_list)\n",
    "#     print (aspect_list)\n",
    "    for nouns in nouns_in_reviews:\n",
    "        aspects = len(set(nouns) & aspect_list)\n",
    "        num_aspects.append(aspects)\n",
    "#     print len(nouns_in_reviews)\n",
    "    return num_aspects"
   ]
  },
  {
   "cell_type": "code",
   "execution_count": 5,
   "metadata": {
    "scrolled": true
   },
   "outputs": [
    {
     "name": "stdout",
     "output_type": "stream",
     "text": [
      "1000\n",
      "2000\n",
      "3000\n",
      "4000\n",
      "5000\n",
      "6000\n",
      "7000\n",
      "8000\n",
      "9000\n",
      "10000\n",
      "11000\n",
      "12000\n",
      "13000\n",
      "14000\n",
      "15000\n",
      "16000\n",
      "17000\n",
      "18000\n",
      "19000\n",
      "20000\n",
      "21000\n",
      "22000\n",
      "23000\n",
      "24000\n",
      "25000\n",
      "26000\n",
      "27000\n",
      "28000\n",
      "29000\n",
      "30000\n",
      "31000\n",
      "32000\n",
      "33000\n",
      "34000\n",
      "35000\n",
      "36000\n",
      "37000\n",
      "38000\n",
      "39000\n",
      "40000\n",
      "41000\n",
      "42000\n",
      "43000\n",
      "44000\n",
      "45000\n",
      "46000\n",
      "47000\n",
      "48000\n",
      "49000\n",
      "50000\n",
      "51000\n",
      "52000\n",
      "53000\n",
      "54000\n",
      "55000\n",
      "56000\n",
      "57000\n",
      "58000\n",
      "59000\n",
      "60000\n",
      "61000\n",
      "62000\n",
      "63000\n",
      "64000\n",
      "65000\n",
      "66000\n",
      "67000\n",
      "68000\n",
      "69000\n",
      "70000\n",
      "71000\n",
      "72000\n",
      "73000\n",
      "74000\n",
      "75000\n",
      "76000\n",
      "77000\n",
      "78000\n",
      "79000\n",
      "80000\n",
      "81000\n",
      "82000\n",
      "83000\n",
      "84000\n",
      "85000\n",
      "86000\n",
      "87000\n",
      "88000\n",
      "89000\n",
      "90000\n",
      "91000\n",
      "92000\n",
      "93000\n",
      "94000\n",
      "95000\n",
      "96000\n",
      "97000\n"
     ]
    }
   ],
   "source": [
    "num_reviews = df.shape[0]\n",
    "array = df[['overall', 'asin', 'helpful', 'reviewText']].values\n",
    "item = array[0][1]\n",
    "prev_item = 'null'\n",
    "count = 0\n",
    "X_all = [] # stores the deviation of each item\n",
    "y_all = []\n",
    "num_aspects = []\n",
    "num_items = 0\n",
    "sum = 0\n",
    "item_array = np.array([])\n",
    "\n",
    "for i in range(num_reviews):\n",
    "    count = count + 1\n",
    "    if (count % 1000 == 0):\n",
    "        print (count)\n",
    "    curr_item = array[i]\n",
    "    item = curr_item[1]\n",
    "    if (prev_item == item):\n",
    "        item_array = np.append(item_array, curr_item[0])\n",
    "        reviews.append(curr_item[3])\n",
    "        y.append(curr_item[2][0] / curr_item[2][1])\n",
    "        sum += curr_item[0]\n",
    "        if (count == num_reviews):\n",
    "            mean = np.mean(item_array)\n",
    "            item_array = np.rint((item_array - mean) * 2) / 2\n",
    "            X_all = X_all + item_array.tolist()\n",
    "            y_all = y_all + y\n",
    "#             num_aspects = num_aspects + get_aspects(reviews)\n",
    "    else:\n",
    "        if (num_items):\n",
    "                mean = np.mean(item_array)\n",
    "                item_array = np.rint((item_array - mean) * 2) / 2\n",
    "                X_all = X_all + item_array.tolist()\n",
    "                y_all = y_all + y\n",
    "#                 num_aspects = num_aspects + get_aspects(reviews)\n",
    "        num_items += 1\n",
    "        sum = 0\n",
    "        item_array = np.array([])\n",
    "        y = []\n",
    "        reviews = []\n",
    "        prev_item = item\n",
    "        item_array = np.append(item_array, curr_item[0])\n",
    "        y.append(curr_item[2][0] / curr_item[2][1])\n",
    "        reviews.append(curr_item[3])\n",
    "        sum += curr_item[0]"
   ]
  },
  {
   "cell_type": "code",
   "execution_count": 10,
   "metadata": {},
   "outputs": [
    {
     "data": {
      "text/plain": [
       "[45, 63]"
      ]
     },
     "execution_count": 10,
     "metadata": {},
     "output_type": "execute_result"
    }
   ],
   "source": []
  },
  {
   "cell_type": "code",
   "execution_count": 6,
   "metadata": {},
   "outputs": [],
   "source": [
    "# fp = open('aspects/books_num_aspects.txt', 'w')\n",
    "# for item in num_aspects:\n",
    "#     fp.write(\"%d\\n\" %item)\n",
    "# fp.close()"
   ]
  },
  {
   "cell_type": "code",
   "execution_count": 50,
   "metadata": {},
   "outputs": [],
   "source": [
    "with open('aspects/electronics_num_aspects.txt' as 'r') as fp\n"
   ]
  },
  {
   "cell_type": "code",
   "execution_count": 29,
   "metadata": {},
   "outputs": [],
   "source": [
    "x = [(a // 1) * 1 for a in num_aspects]"
   ]
  },
  {
   "cell_type": "code",
   "execution_count": 11,
   "metadata": {},
   "outputs": [
    {
     "data": {
      "text/plain": [
       "<matplotlib.collections.PathCollection at 0x7f3244e3e668>"
      ]
     },
     "execution_count": 11,
     "metadata": {},
     "output_type": "execute_result"
    },
    {
     "data": {
      "image/png": "[encoded data removed]",
      "text/plain": [
       "<Figure size 432x288 with 1 Axes>"
      ]
     },
     "metadata": {},
     "output_type": "display_data"
    }
   ],
   "source": [
    "plt.scatter(x, y_all)"
   ]
  },
  {
   "cell_type": "code",
   "execution_count": 30,
   "metadata": {},
   "outputs": [],
   "source": [
    "df2 = pd.DataFrame({'num_aspects':x, 'helpful':y_all})"
   ]
  },
  {
   "cell_type": "code",
   "execution_count": null,
   "metadata": {},
   "outputs": [],
   "source": [
    "df2.to_pickle('aspects/books_data_points')"
   ]
  },
  {
   "cell_type": "code",
   "execution_count": 31,
   "metadata": {},
   "outputs": [],
   "source": [
    "uni_x = np.sort(df2['num_aspects'].unique())"
   ]
  },
  {
   "cell_type": "code",
   "execution_count": 32,
   "metadata": {},
   "outputs": [
    {
     "data": {
      "text/plain": [
       "array([ 0,  1,  2,  3,  4,  5,  6,  7,  8,  9, 10, 11, 12, 13, 14, 15, 16,\n",
       "       17, 18, 19, 20, 21, 22, 23, 24, 25, 26, 27, 28, 29, 30, 31, 32, 33,\n",
       "       34, 35, 36, 37, 38, 39, 40, 41, 42, 43, 44, 45, 46, 47, 48, 49, 50,\n",
       "       51, 52, 53, 54, 55, 56, 57, 58, 59, 60, 61, 62, 63, 64, 65, 66, 67,\n",
       "       68, 69, 70, 71, 72, 73, 74, 75, 76, 79, 81, 83, 86, 87, 96])"
      ]
     },
     "execution_count": 32,
     "metadata": {},
     "output_type": "execute_result"
    }
   ],
   "source": [
    "uni_x"
   ]
  },
  {
   "cell_type": "code",
   "execution_count": 47,
   "metadata": {},
   "outputs": [],
   "source": [
    "y = []\n",
    "x = []\n",
    "for i in uni_x:\n",
    "    temp = df2.loc[df2['num_aspects'] == i]['helpful']\n",
    "    if temp.shape[0] > 0.001 * df.shape[0]:\n",
    "        x.append(i)\n",
    "        y.append(df2.loc[df2['num_aspects'] == i]['helpful'].mean())"
   ]
  },
  {
   "cell_type": "code",
   "execution_count": 49,
   "metadata": {},
   "outputs": [
    {
     "data": {
      "text/plain": [
       "[<matplotlib.lines.Line2D at 0x7f323305c400>]"
      ]
     },
     "execution_count": 49,
     "metadata": {},
     "output_type": "execute_result"
    },
    {
     "data": {
      "image/png": "[encoded data removed]",
      "text/plain": [
       "<Figure size 432x288 with 1 Axes>"
      ]
     },
     "metadata": {},
     "output_type": "display_data"
    }
   ],
   "source": [
    "plt.plot(x, y)\n",
    "# plt.savefig('electronics_mean.png')"
   ]
  },
  {
   "cell_type": "code",
   "execution_count": 44,
   "metadata": {
    "scrolled": true
   },
   "outputs": [],
   "source": [
    "y = []\n",
    "x = []\n",
    "for i in uni_x:\n",
    "    temp = df2.loc[df2['num_aspects'] == i]['helpful']\n",
    "    if temp.shape[0] > 0.001 * df.shape[0]:\n",
    "        x.append(i)\n",
    "        y.append(df2.loc[df2['num_aspects'] == i]['helpful'].median())"
   ]
  },
  {
   "cell_type": "code",
   "execution_count": 38,
   "metadata": {},
   "outputs": [
    {
     "data": {
      "text/plain": [
       "0.45"
      ]
     },
     "execution_count": 38,
     "metadata": {},
     "output_type": "execute_result"
    }
   ],
   "source": [
    "y[-1]"
   ]
  },
  {
   "cell_type": "code",
   "execution_count": 46,
   "metadata": {},
   "outputs": [
    {
     "data": {
      "text/plain": [
       "[<matplotlib.lines.Line2D at 0x7f3232af1da0>]"
      ]
     },
     "execution_count": 46,
     "metadata": {},
     "output_type": "execute_result"
    },
    {
     "data": {
      "image/png": "[encoded data removed]",
      "text/plain": [
       "<Figure size 432x288 with 1 Axes>"
      ]
     },
     "metadata": {},
     "output_type": "display_data"
    }
   ],
   "source": [
    "plt.plot(x, y)"
   ]
  },
  {
   "cell_type": "code",
   "execution_count": null,
   "metadata": {},
   "outputs": [],
   "source": [
    "with open('aspects/electronics_num_aspects.txt', 'r') as fp:\n",
    "    "
   ]
  }
 ],
 "metadata": {
  "kernelspec": {
   "display_name": "Python 3",
   "language": "python",
   "name": "python3"
  },
  "language_info": {
   "codemirror_mode": {
    "name": "ipython",
    "version": 3
   },
   "file_extension": ".py",
   "mimetype": "text/x-python",
   "name": "python",
   "nbconvert_exporter": "python",
   "pygments_lexer": "ipython3",
   "version": "3.5.2"
  }
 },
 "nbformat": 4,
 "nbformat_minor": 2
}
