{
 "cells": [
  {
   "cell_type": "code",
   "execution_count": 1,
   "metadata": {},
   "outputs": [],
   "source": [
    "import pandas as pd\n",
    "import nltk\n",
    "import hashlib"
   ]
  },
  {
   "cell_type": "code",
   "execution_count": 2,
   "metadata": {},
   "outputs": [],
   "source": [
    "def kgrams_hash(sentence, k=5):\n",
    "    hashes = []\n",
    "    words = nltk.word_tokenize(sentence)\n",
    "    for i in range(0, len(words) - k + 1):\n",
    "        mystring = ' '.join(words[i:i+k])\n",
    "        hash_object = hashlib.md5(mystring.encode())\n",
    "        hsh = hash_object.hexdigest()\n",
    "        hashes.append(hsh)\n",
    "    return hashes\n",
    "        "
   ]
  },
  {
   "cell_type": "code",
   "execution_count": 24,
   "metadata": {},
   "outputs": [],
   "source": [
    "def winnow(text, k=5, w=6):\n",
    "    fingerprints = set([])\n",
    "    sentences = nltk.sent_tokenize(text)\n",
    "    dic = {}\n",
    "    for index, sentence in enumerate(sentences):\n",
    "        #if sentence\n",
    "        sentence_hashes = kgrams_hash(sentence, k)\n",
    "#         print (sentence_hashes)\n",
    "        if len(sentence_hashes) and len(sentence_hashes) < w:\n",
    "#             print (\"small\")\n",
    "            fingerprints.add(min(sentence_hashes))\n",
    "#             dic[min(sentence_hashes)] = index\n",
    "        else:\n",
    "            for i in range(0, len(sentence_hashes) - w + 1):\n",
    "                window = sentence_hashes[i:i+w]\n",
    "                fingerprints.add(min(window))\n",
    "#                 dic[min(window)] = index\n",
    "#                 print (window)\n",
    "#     return sentences, dic, fingerprints\n",
    "    return fingerprints"
   ]
  },
  {
   "cell_type": "code",
   "execution_count": 15,
   "metadata": {},
   "outputs": [],
   "source": [
    "def compare(text1, text2):\n",
    "    st1, dic1, fp1 = winnow(text1)\n",
    "    st2, dic2, fp2 = winnow(text2)\n",
    "    common = fp1 & fp2\n",
    "#     for h in common:\n",
    "#         print (\"Common Sentences: \")\n",
    "#         print (\"First text: \", st1[dic1[h]])\n",
    "#         print (\"Second text: \", st2[dic2[h]])\n",
    "#     print (\"Fingerprints in text1: \", len(fp1))\n",
    "#     print (\"Fingerprints in text2: \", len(fp2))\n",
    "#     print (\"Common Fingerprints: \", len(common))\n",
    "    return len(common) / min((len(fp1),len(fp2)))"
   ]
  },
  {
   "cell_type": "code",
   "execution_count": 7,
   "metadata": {},
   "outputs": [],
   "source": [
    "df = pd.read_json('data/Cell_Phones_and_Accessories_5.json', lines=True)"
   ]
  },
  {
   "cell_type": "code",
   "execution_count": 9,
   "metadata": {},
   "outputs": [],
   "source": [
    "reviews = df['reviewText']"
   ]
  },
  {
   "cell_type": "code",
   "execution_count": 16,
   "metadata": {},
   "outputs": [
    {
     "data": {
      "text/plain": [
       "0.0"
      ]
     },
     "execution_count": 16,
     "metadata": {},
     "output_type": "execute_result"
    }
   ],
   "source": [
    "compare(reviews[0], reviews[1])"
   ]
  },
  {
   "cell_type": "code",
   "execution_count": 19,
   "metadata": {},
   "outputs": [
    {
     "name": "stdout",
     "output_type": "stream",
     "text": [
      "0\n",
      "1000\n",
      "2000\n",
      "3000\n",
      "4000\n",
      "5000\n",
      "6000\n",
      "7000\n",
      "8000\n",
      "9000\n",
      "10000\n",
      "11000\n",
      "12000\n",
      "13000\n",
      "14000\n",
      "15000\n",
      "16000\n",
      "17000\n",
      "18000\n",
      "19000\n",
      "20000\n",
      "21000\n",
      "22000\n",
      "23000\n",
      "24000\n",
      "25000\n",
      "26000\n",
      "27000\n",
      "28000\n",
      "29000\n",
      "30000\n",
      "31000\n",
      "32000\n",
      "33000\n",
      "34000\n",
      "35000\n",
      "36000\n",
      "37000\n",
      "38000\n",
      "39000\n",
      "40000\n",
      "41000\n",
      "42000\n",
      "43000\n",
      "44000\n",
      "45000\n",
      "46000\n",
      "47000\n",
      "48000\n",
      "49000\n",
      "50000\n",
      "51000\n",
      "52000\n",
      "53000\n",
      "54000\n",
      "55000\n",
      "56000\n",
      "57000\n",
      "58000\n",
      "59000\n",
      "60000\n",
      "61000\n",
      "62000\n",
      "63000\n",
      "64000\n",
      "65000\n",
      "66000\n",
      "67000\n",
      "68000\n",
      "69000\n",
      "70000\n",
      "71000\n",
      "72000\n",
      "73000\n",
      "74000\n",
      "75000\n",
      "76000\n",
      "77000\n",
      "78000\n",
      "79000\n",
      "80000\n",
      "81000\n",
      "82000\n",
      "83000\n",
      "84000\n",
      "85000\n",
      "86000\n",
      "87000\n",
      "88000\n",
      "89000\n",
      "90000\n",
      "91000\n",
      "92000\n",
      "93000\n",
      "94000\n",
      "95000\n",
      "96000\n",
      "97000\n",
      "98000\n",
      "99000\n",
      "100000\n",
      "101000\n",
      "102000\n",
      "103000\n",
      "104000\n",
      "105000\n",
      "106000\n",
      "107000\n",
      "108000\n",
      "109000\n",
      "110000\n",
      "111000\n",
      "112000\n",
      "113000\n",
      "114000\n",
      "115000\n",
      "116000\n",
      "117000\n",
      "118000\n",
      "119000\n",
      "120000\n",
      "121000\n",
      "122000\n",
      "123000\n",
      "124000\n",
      "125000\n",
      "126000\n",
      "127000\n",
      "128000\n",
      "129000\n",
      "130000\n",
      "131000\n",
      "132000\n",
      "133000\n",
      "134000\n",
      "135000\n",
      "136000\n",
      "137000\n",
      "138000\n",
      "139000\n",
      "140000\n",
      "141000\n",
      "142000\n",
      "143000\n",
      "144000\n",
      "145000\n",
      "146000\n",
      "147000\n",
      "148000\n",
      "149000\n",
      "150000\n",
      "151000\n",
      "152000\n",
      "153000\n",
      "154000\n",
      "155000\n",
      "156000\n",
      "157000\n",
      "158000\n",
      "159000\n",
      "160000\n",
      "161000\n",
      "162000\n",
      "163000\n",
      "164000\n",
      "165000\n",
      "166000\n",
      "167000\n",
      "168000\n",
      "169000\n",
      "170000\n",
      "171000\n",
      "172000\n",
      "173000\n",
      "174000\n",
      "175000\n",
      "176000\n",
      "177000\n",
      "178000\n",
      "179000\n",
      "180000\n",
      "181000\n",
      "182000\n",
      "183000\n",
      "184000\n",
      "185000\n",
      "186000\n",
      "187000\n",
      "188000\n",
      "189000\n",
      "190000\n",
      "191000\n",
      "192000\n",
      "193000\n",
      "194000\n"
     ]
    }
   ],
   "source": [
    "for index, review in enumerate(reviews):\n",
    "    score = compare(reviews[0], reviews[1])\n",
    "    if score:\n",
    "        print (score)\n",
    "    if (index % 1000 == 0):\n",
    "        print (index)"
   ]
  },
  {
   "cell_type": "code",
   "execution_count": 49,
   "metadata": {},
   "outputs": [],
   "source": [
    "num_reviews = 10000"
   ]
  },
  {
   "cell_type": "code",
   "execution_count": 56,
   "metadata": {},
   "outputs": [
    {
     "data": {
      "text/plain": [
       "194439"
      ]
     },
     "execution_count": 56,
     "metadata": {},
     "output_type": "execute_result"
    }
   ],
   "source": [
    "reviews.size"
   ]
  },
  {
   "cell_type": "code",
   "execution_count": 51,
   "metadata": {},
   "outputs": [
    {
     "name": "stdout",
     "output_type": "stream",
     "text": [
      "Fingerprints Computed:  0\n",
      "Fingerprints Computed:  1000\n",
      "Fingerprints Computed:  2000\n",
      "Fingerprints Computed:  3000\n",
      "Fingerprints Computed:  4000\n",
      "Fingerprints Computed:  5000\n",
      "Fingerprints Computed:  6000\n",
      "Fingerprints Computed:  7000\n",
      "Fingerprints Computed:  8000\n",
      "Fingerprints Computed:  9000\n"
     ]
    }
   ],
   "source": [
    "fingerprints = []\n",
    "curr_review = reviews[0:num_reviews]\n",
    "for index, rev in enumerate(curr_review):\n",
    "    if (index % 1000 == 0):\n",
    "        print (\"Fingerprints Computed: \", index)\n",
    "    fingerprints.append(winnow(rev))"
   ]
  },
  {
   "cell_type": "code",
   "execution_count": 116,
   "metadata": {
    "scrolled": true
   },
   "outputs": [
    {
     "name": "stdout",
     "output_type": "stream",
     "text": [
      "Completed:  0\n",
      "Completed:  1000\n",
      "Completed:  2000\n",
      "Completed:  3000\n",
      "Completed:  4000\n",
      "Completed:  5000\n",
      "Completed:  6000\n",
      "Completed:  7000\n",
      "Completed:  8000\n",
      "Completed:  9000\n"
     ]
    }
   ],
   "source": [
    "plg_indices=[]\n",
    "for i in range(num_reviews):\n",
    "    for j in range(i +1, num_reviews):\n",
    "        common = fingerprints[i] & fingerprints[j]\n",
    "        score = 0\n",
    "        if len(fingerprints[i]) and len(fingerprints[j]):\n",
    "            score = len(common)/min(len(fingerprints[i]), len(fingerprints[j]))\n",
    "        if score > 0.5:\n",
    "            plg_indices.append((i, j, score))\n",
    "#             print (score)\n",
    "#             print (i, j)\n",
    "    if (i % 1000 == 0):\n",
    "        print (\"Completed: \", i)"
   ]
  },
  {
   "cell_type": "code",
   "execution_count": 118,
   "metadata": {},
   "outputs": [
    {
     "data": {
      "text/plain": [
       "65"
      ]
     },
     "execution_count": 118,
     "metadata": {},
     "output_type": "execute_result"
    }
   ],
   "source": [
    "len(plg_indices)"
   ]
  },
  {
   "cell_type": "code",
   "execution_count": 46,
   "metadata": {},
   "outputs": [
    {
     "data": {
      "text/plain": [
       "'I am not impressed.I don\\'t know what the other reviewers are smoking. This device does not cancel out background noise. Listeners on the other end say I sound like I\\'m in a tunnel. Two strikes.As you can see from the pictures there is quite a distance between one\\'s mouth and the \"pinhole\" for the internal microphone. There is no way to cancel out background noise lest your own voice be considered to be background noise. This is a defect in all devices that have a similar design.The earpiece is not suited for driving or walking. The \"ear attachment\" and its hinge is made of flimsy plastic. As a result the fit isn\\'t tight enough. I often need to turn my head quickly while driving and it feels like the thing\\'s going to fly off my head into the back seat. It\\'s an extremely annoying distraction that you don\\'t want to have while driving.On the good side, I don\\'t have any problems hearing and the volume controls are very convenient to use.'"
      ]
     },
     "execution_count": 46,
     "metadata": {},
     "output_type": "execute_result"
    }
   ],
   "source": [
    "reviews[715]"
   ]
  },
  {
   "cell_type": "code",
   "execution_count": 47,
   "metadata": {},
   "outputs": [
    {
     "data": {
      "text/plain": [
       "'I am not impressed.I don\\'t know what the other reviewers are smoking.  This device does not cancel out background noise.  Listeners on the other end say I sound like I\\'m in a tunnel.  Two strikes.As you can see from the pictures there is quite a distance between one\\'s mouth and the \"pinhole\" for the internal microphone.  There is no way to cancel out background noise lest your own voice be considered to be background noise.  This is a design defect in all devices that have a similar design.The earpiece is not suited for driving or walking.  The \"ear attachment\" and its hinge is made of flimsy loose plastic.  As a result the fit isn\\'t tight enough.  I often need to turn my head quickly while driving and it feels like the thing\\'s going to fly off my head into the back seat.  It\\'s an extremely annoying distraction that you don\\'t want to have while driving.On the good side, I don\\'t have any problems hearing and the volume controls are very convenient to use.'"
      ]
     },
     "execution_count": 47,
     "metadata": {},
     "output_type": "execute_result"
    }
   ],
   "source": [
    "reviews[735]"
   ]
  },
  {
   "cell_type": "code",
   "execution_count": 119,
   "metadata": {},
   "outputs": [],
   "source": [
    "num_reviews = 10000\n",
    "plg_indices = []\n",
    "plg_dic = {}\n",
    "for i in range(num_reviews):\n",
    "    for fp in fingerprints[i]:\n",
    "        if fp in plg_dic:\n",
    "            indices = plg_dic[fp]\n",
    "            indices.append(i)\n",
    "            plg_dic[fp] = indices\n",
    "        else:\n",
    "            plg_dic[fp] = [i]"
   ]
  },
  {
   "cell_type": "code",
   "execution_count": 120,
   "metadata": {},
   "outputs": [],
   "source": [
    "plg_indices = []\n",
    "for items in plg_dic:\n",
    "    if (len(plg_dic[items]) > 1):\n",
    "        temp = plg_dic[items]\n",
    "        sz = len(temp)\n",
    "        for i in range(sz):\n",
    "            for j in range(i + 1, sz):\n",
    "                plg_indices.append((temp[i], temp[j]))\n",
    "            "
   ]
  },
  {
   "cell_type": "code",
   "execution_count": 121,
   "metadata": {},
   "outputs": [],
   "source": [
    "plg_indices = set(plg_indices)"
   ]
  },
  {
   "cell_type": "code",
   "execution_count": 131,
   "metadata": {
    "scrolled": true
   },
   "outputs": [],
   "source": [
    "scores = []\n",
    "sentence_threshold = 2 #minimum number of windows\n",
    "for items in plg_indices:\n",
    "    i = items[0]\n",
    "    j = items[1]\n",
    "    common = fingerprints[i] & fingerprints[j]\n",
    "    temp = min(len(fingerprints[i]), len(fingerprints[j]))\n",
    "    score = len(common)/temp\n",
    "    if score > 0.5 and temp >= sentence_threshold:\n",
    "        scores.append((i, j, score))"
   ]
  },
  {
   "cell_type": "code",
   "execution_count": 132,
   "metadata": {},
   "outputs": [
    {
     "data": {
      "text/plain": [
       "55"
      ]
     },
     "execution_count": 132,
     "metadata": {},
     "output_type": "execute_result"
    }
   ],
   "source": [
    "len(scores)"
   ]
  },
  {
   "cell_type": "code",
   "execution_count": 133,
   "metadata": {},
   "outputs": [
    {
     "data": {
      "text/plain": [
       "[(4140, 6738, 0.9333333333333333),\n",
       " (7030, 7258, 1.0),\n",
       " (6038, 9887, 0.5384615384615384),\n",
       " (2728, 2747, 0.75),\n",
       " (2776, 7169, 0.6666666666666666),\n",
       " (1658, 2061, 1.0),\n",
       " (8562, 8600, 1.0),\n",
       " (2057, 2882, 1.0),\n",
       " (3327, 7898, 0.875),\n",
       " (1196, 7695, 1.0),\n",
       " (7558, 7737, 0.96875),\n",
       " (2673, 7983, 0.6717557251908397),\n",
       " (840, 1182, 0.9814814814814815),\n",
       " (884, 1656, 0.9655172413793104),\n",
       " (1612, 1708, 1.0),\n",
       " (5545, 5697, 0.975609756097561),\n",
       " (915, 1434, 0.6666666666666666),\n",
       " (9343, 9350, 0.9),\n",
       " (999, 2323, 1.0),\n",
       " (2469, 2662, 0.6666666666666666),\n",
       " (7559, 9422, 0.575),\n",
       " (2695, 3862, 0.9960474308300395),\n",
       " (903, 1465, 0.8157181571815718),\n",
       " (2973, 5966, 0.6),\n",
       " (1142, 1682, 0.8518518518518519),\n",
       " (2695, 8011, 0.5310734463276836),\n",
       " (2728, 2862, 0.75),\n",
       " (5882, 6055, 0.5882352941176471),\n",
       " (3073, 6056, 0.75),\n",
       " (499, 1837, 0.75),\n",
       " (1676, 1797, 0.8492063492063492),\n",
       " (4925, 7737, 1.0),\n",
       " (4011, 8627, 0.946236559139785),\n",
       " (2695, 9321, 0.5310734463276836),\n",
       " (261, 9089, 0.75),\n",
       " (3854, 4308, 0.8333333333333334),\n",
       " (1143, 1331, 0.6206896551724138),\n",
       " (931, 2390, 0.9863013698630136),\n",
       " (2125, 3999, 1.0),\n",
       " (1107, 1789, 0.7317073170731707),\n",
       " (4925, 7558, 0.96875),\n",
       " (242, 9109, 1.0),\n",
       " (1155, 1689, 0.9130434782608695),\n",
       " (6034, 7584, 0.889763779527559),\n",
       " (8011, 9321, 1.0),\n",
       " (5581, 5630, 0.5517241379310345),\n",
       " (2747, 2862, 0.5555555555555556),\n",
       " (4032, 6895, 0.5888888888888889),\n",
       " (4612, 4713, 1.0),\n",
       " (715, 735, 0.9473684210526315),\n",
       " (5615, 5629, 0.9),\n",
       " (4227, 4258, 0.8584070796460177),\n",
       " (7761, 9688, 1.0),\n",
       " (2651, 9949, 0.6666666666666666),\n",
       " (7913, 7961, 0.75)]"
      ]
     },
     "execution_count": 133,
     "metadata": {},
     "output_type": "execute_result"
    }
   ],
   "source": [
    "scores"
   ]
  },
  {
   "cell_type": "code",
   "execution_count": null,
   "metadata": {},
   "outputs": [],
   "source": []
  }
 ],
 "metadata": {
  "kernelspec": {
   "display_name": "Python 3",
   "language": "python",
   "name": "python3"
  },
  "language_info": {
   "codemirror_mode": {
    "name": "ipython",
    "version": 3
   },
   "file_extension": ".py",
   "mimetype": "text/x-python",
   "name": "python",
   "nbconvert_exporter": "python",
   "pygments_lexer": "ipython3",
   "version": "3.5.2"
  }
 },
 "nbformat": 4,
 "nbformat_minor": 2
}
