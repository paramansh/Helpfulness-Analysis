{
 "cells": [
  {
   "cell_type": "code",
   "execution_count": 1,
   "metadata": {},
   "outputs": [],
   "source": [
    "import pandas as pd\n",
    "import nltk\n",
    "import hashlib"
   ]
  },
  {
   "cell_type": "code",
   "execution_count": 2,
   "metadata": {},
   "outputs": [],
   "source": [
    "def kgrams_hash(sentence, k=5):\n",
    "    hashes = []\n",
    "    words = nltk.word_tokenize(sentence)\n",
    "    for i in range(0, len(words) - k + 1):\n",
    "        mystring = ' '.join(words[i:i+k])\n",
    "        hash_object = hashlib.md5(mystring.encode())\n",
    "        hsh = hash_object.hexdigest()\n",
    "        hashes.append(hsh)\n",
    "    return hashes\n",
    "        "
   ]
  },
  {
   "cell_type": "code",
   "execution_count": 7,
   "metadata": {},
   "outputs": [],
   "source": [
    "def winnow(text, k=5, w=6):\n",
    "    fingerprints = set([])\n",
    "    sentences = nltk.sent_tokenize(text)\n",
    "    dic = {}\n",
    "    for index, sentence in enumerate(sentences):\n",
    "        #if sentence\n",
    "        sentence_hashes = kgrams_hash(sentence, k)\n",
    "#         print (sentence_hashes)\n",
    "        if len(sentence_hashes) and len(sentence_hashes) < w:\n",
    "#             print (\"small\")\n",
    "            fingerprints.add(min(sentence_hashes))\n",
    "            dic[min(sentence_hashes)] = index\n",
    "        else:\n",
    "            for i in range(0, len(sentence_hashes) - w + 1):\n",
    "                window = sentence_hashes[i:i+w]\n",
    "                fingerprints.add(min(window))\n",
    "                dic[min(window)] = index\n",
    "#                 print (window)\n",
    "    return sentences, dic, fingerprints\n",
    "#     return fingerprints"
   ]
  },
  {
   "cell_type": "code",
   "execution_count": 13,
   "metadata": {},
   "outputs": [],
   "source": [
    "def compare(text1, text2):\n",
    "    st1, dic1, fp1 = winnow(text1)\n",
    "    st2, dic2, fp2 = winnow(text2)\n",
    "    common = fp1 & fp2\n",
    "    for h in common:\n",
    "        print (\"Common Sentences: \")\n",
    "        print (\"First text: \", st1[dic1[h]])\n",
    "        print (\"Second text: \", st2[dic2[h]])\n",
    "    print (\"Fingerprints in text1: \", len(fp1))\n",
    "    print (\"Fingerprints in text2: \", len(fp2))\n",
    "    print (\"Common Fingerprints: \", len(common))\n",
    "    if (min((len(fp1),len(fp2)))):\n",
    "        return len(common) / min((len(fp1),len(fp2)))\n",
    "    return 0"
   ]
  },
  {
   "cell_type": "code",
   "execution_count": 14,
   "metadata": {},
   "outputs": [
    {
     "name": "stdout",
     "output_type": "stream",
     "text": [
      "Fingerprints in text1:  0\n",
      "Fingerprints in text2:  0\n",
      "Common Fingerprints:  0\n"
     ]
    },
    {
     "data": {
      "text/plain": [
       "0"
      ]
     },
     "execution_count": 14,
     "metadata": {},
     "output_type": "execute_result"
    }
   ],
   "source": [
    "compare('text1', 'text2')"
   ]
  },
  {
   "cell_type": "code",
   "execution_count": null,
   "metadata": {},
   "outputs": [],
   "source": []
  }
 ],
 "metadata": {
  "kernelspec": {
   "display_name": "Python 3",
   "language": "python",
   "name": "python3"
  },
  "language_info": {
   "codemirror_mode": {
    "name": "ipython",
    "version": 3
   },
   "file_extension": ".py",
   "mimetype": "text/x-python",
   "name": "python",
   "nbconvert_exporter": "python",
   "pygments_lexer": "ipython3",
   "version": "3.5.2"
  }
 },
 "nbformat": 4,
 "nbformat_minor": 2
}
