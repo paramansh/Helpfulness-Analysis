{
 "cells": [
  {
   "cell_type": "code",
   "execution_count": 1,
   "metadata": {},
   "outputs": [],
   "source": [
    "import pandas as pd\n",
    "import nltk\n",
    "import hashlib"
   ]
  },
  {
   "cell_type": "code",
   "execution_count": 2,
   "metadata": {},
   "outputs": [],
   "source": [
    "df = pd.read_pickle('plg/data_frames_fp/Electronics_5.pkl')"
   ]
  },
  {
   "cell_type": "code",
   "execution_count": 3,
   "metadata": {},
   "outputs": [
    {
     "data": {
      "text/plain": [
       "(97747, 5)"
      ]
     },
     "execution_count": 3,
     "metadata": {},
     "output_type": "execute_result"
    }
   ],
   "source": [
    "df.shape"
   ]
  },
  {
   "cell_type": "code",
   "execution_count": 4,
   "metadata": {},
   "outputs": [
    {
     "data": {
      "text/html": [
       "<div>\n",
       "<style scoped>\n",
       "    .dataframe tbody tr th:only-of-type {\n",
       "        vertical-align: middle;\n",
       "    }\n",
       "\n",
       "    .dataframe tbody tr th {\n",
       "        vertical-align: top;\n",
       "    }\n",
       "\n",
       "    .dataframe thead th {\n",
       "        text-align: right;\n",
       "    }\n",
       "</style>\n",
       "<table border=\"1\" class=\"dataframe\">\n",
       "  <thead>\n",
       "    <tr style=\"text-align: right;\">\n",
       "      <th></th>\n",
       "      <th>asin</th>\n",
       "      <th>helpful</th>\n",
       "      <th>overall</th>\n",
       "      <th>reviewerID</th>\n",
       "      <th>fingerptints</th>\n",
       "    </tr>\n",
       "  </thead>\n",
       "  <tbody>\n",
       "    <tr>\n",
       "      <th>0</th>\n",
       "      <td>0528881469</td>\n",
       "      <td>[12, 15]</td>\n",
       "      <td>1</td>\n",
       "      <td>AMO214LNFCEI4</td>\n",
       "      <td>{07c057a840da57d13d2d97d38fa29ef8, 41ff8dba070...</td>\n",
       "    </tr>\n",
       "    <tr>\n",
       "      <th>1</th>\n",
       "      <td>0528881469</td>\n",
       "      <td>[43, 45]</td>\n",
       "      <td>3</td>\n",
       "      <td>A3N7T0DY83Y4IG</td>\n",
       "      <td>{316670cb6ed7de33e0db26bd1ea27016, 2e1364b82ff...</td>\n",
       "    </tr>\n",
       "    <tr>\n",
       "      <th>2</th>\n",
       "      <td>0972683275</td>\n",
       "      <td>[15, 19]</td>\n",
       "      <td>5</td>\n",
       "      <td>A3QH8VQDE7HZCR</td>\n",
       "      <td>{18f209c087e5bd9dfc317ecf3438be44, 1ad2aa28204...</td>\n",
       "    </tr>\n",
       "    <tr>\n",
       "      <th>3</th>\n",
       "      <td>0972683275</td>\n",
       "      <td>[8, 18]</td>\n",
       "      <td>1</td>\n",
       "      <td>A38FGQVJM18OWV</td>\n",
       "      <td>{89c47c6166e7e4d6289a7ed359d6c9d2, 0e8964bec55...</td>\n",
       "    </tr>\n",
       "    <tr>\n",
       "      <th>4</th>\n",
       "      <td>0972683275</td>\n",
       "      <td>[14, 19]</td>\n",
       "      <td>5</td>\n",
       "      <td>A7R4R9THNELTP</td>\n",
       "      <td>{16ce0c82edab92492e3c945feb34e8dc, 4aeba7e10f4...</td>\n",
       "    </tr>\n",
       "  </tbody>\n",
       "</table>\n",
       "</div>"
      ],
      "text/plain": [
       "         asin   helpful  overall      reviewerID  \\\n",
       "0  0528881469  [12, 15]        1   AMO214LNFCEI4   \n",
       "1  0528881469  [43, 45]        3  A3N7T0DY83Y4IG   \n",
       "2  0972683275  [15, 19]        5  A3QH8VQDE7HZCR   \n",
       "3  0972683275   [8, 18]        1  A38FGQVJM18OWV   \n",
       "4  0972683275  [14, 19]        5   A7R4R9THNELTP   \n",
       "\n",
       "                                        fingerptints  \n",
       "0  {07c057a840da57d13d2d97d38fa29ef8, 41ff8dba070...  \n",
       "1  {316670cb6ed7de33e0db26bd1ea27016, 2e1364b82ff...  \n",
       "2  {18f209c087e5bd9dfc317ecf3438be44, 1ad2aa28204...  \n",
       "3  {89c47c6166e7e4d6289a7ed359d6c9d2, 0e8964bec55...  \n",
       "4  {16ce0c82edab92492e3c945feb34e8dc, 4aeba7e10f4...  "
      ]
     },
     "execution_count": 4,
     "metadata": {},
     "output_type": "execute_result"
    }
   ],
   "source": [
    "df.head()"
   ]
  },
  {
   "cell_type": "code",
   "execution_count": 5,
   "metadata": {},
   "outputs": [
    {
     "data": {
      "text/plain": [
       "(97747, 5)"
      ]
     },
     "execution_count": 5,
     "metadata": {},
     "output_type": "execute_result"
    }
   ],
   "source": [
    "df.shape"
   ]
  },
  {
   "cell_type": "code",
   "execution_count": 6,
   "metadata": {},
   "outputs": [],
   "source": [
    "num_reviews = df.shape[0]"
   ]
  },
  {
   "cell_type": "code",
   "execution_count": 7,
   "metadata": {},
   "outputs": [],
   "source": [
    "fingerprints = df['fingerptints']"
   ]
  },
  {
   "cell_type": "code",
   "execution_count": 8,
   "metadata": {},
   "outputs": [],
   "source": [
    "plg_dic = {}\n",
    "for i in range(num_reviews):\n",
    "    for fp in fingerprints[i]:\n",
    "        if fp in plg_dic:\n",
    "            indices = plg_dic[fp]\n",
    "            indices.append(i)\n",
    "            plg_dic[fp] = indices\n",
    "        else:\n",
    "            plg_dic[fp] = [i]"
   ]
  },
  {
   "cell_type": "code",
   "execution_count": 17,
   "metadata": {},
   "outputs": [
    {
     "data": {
      "text/plain": [
       "7096153"
      ]
     },
     "execution_count": 17,
     "metadata": {},
     "output_type": "execute_result"
    }
   ],
   "source": [
    "len(plg_dic)"
   ]
  },
  {
   "cell_type": "code",
   "execution_count": 9,
   "metadata": {},
   "outputs": [],
   "source": [
    "plg_indices = []\n",
    "for items in plg_dic:\n",
    "    if (len(plg_dic[items]) > 1):\n",
    "        temp = plg_dic[items]\n",
    "        sz = len(temp)\n",
    "        for i in range(sz):\n",
    "            for j in range(i + 1, sz):\n",
    "                plg_indices.append((temp[i], temp[j]))\n",
    "            "
   ]
  },
  {
   "cell_type": "code",
   "execution_count": 18,
   "metadata": {},
   "outputs": [
    {
     "data": {
      "text/plain": [
       "6050345"
      ]
     },
     "execution_count": 18,
     "metadata": {},
     "output_type": "execute_result"
    }
   ],
   "source": [
    "len(plg_indices)"
   ]
  },
  {
   "cell_type": "code",
   "execution_count": 10,
   "metadata": {},
   "outputs": [],
   "source": [
    "plg_indices = set(plg_indices)"
   ]
  },
  {
   "cell_type": "code",
   "execution_count": 20,
   "metadata": {
    "scrolled": true
   },
   "outputs": [
    {
     "name": "stdout",
     "output_type": "stream",
     "text": [
      "0\n",
      "100000\n",
      "200000\n",
      "300000\n",
      "400000\n",
      "500000\n",
      "600000\n",
      "700000\n",
      "800000\n",
      "900000\n",
      "1000000\n",
      "1100000\n",
      "1200000\n",
      "1300000\n",
      "1400000\n",
      "1500000\n",
      "1600000\n",
      "1700000\n",
      "1800000\n",
      "1900000\n",
      "2000000\n",
      "2100000\n",
      "2200000\n",
      "2300000\n",
      "2400000\n",
      "2500000\n",
      "2600000\n",
      "2700000\n",
      "2800000\n",
      "2900000\n",
      "3000000\n",
      "3100000\n",
      "3200000\n",
      "3300000\n",
      "3400000\n",
      "3500000\n",
      "3600000\n",
      "3700000\n",
      "3800000\n",
      "3900000\n",
      "4000000\n",
      "4100000\n",
      "4200000\n",
      "4300000\n",
      "4400000\n",
      "4500000\n",
      "4600000\n",
      "4700000\n",
      "4800000\n",
      "4900000\n",
      "5000000\n",
      "5100000\n",
      "5200000\n",
      "5300000\n",
      "5400000\n",
      "5500000\n",
      "5600000\n",
      "5700000\n",
      "5800000\n",
      "5900000\n",
      "6000000\n"
     ]
    }
   ],
   "source": [
    "scores = []\n",
    "sentence_threshold = 2 #minimum number of windows\n",
    "\n",
    "for index, items in enumerate(plg_indices):\n",
    "    if (index % 100000 == 0):\n",
    "        print (index)\n",
    "    i = items[0]\n",
    "    j = items[1]\n",
    "    common = fingerprints[i] & fingerprints[j]\n",
    "    temp = min(len(fingerprints[i]), len(fingerprints[j]))\n",
    "    score = len(common)/temp\n",
    "    if score > 0.7 and temp >= sentence_threshold:\n",
    "        scores.append((i, j, score))"
   ]
  },
  {
   "cell_type": "code",
   "execution_count": null,
   "metadata": {},
   "outputs": [],
   "source": []
  },
  {
   "cell_type": "code",
   "execution_count": 21,
   "metadata": {
    "scrolled": true
   },
   "outputs": [
    {
     "data": {
      "text/plain": [
       "1224"
      ]
     },
     "execution_count": 21,
     "metadata": {},
     "output_type": "execute_result"
    }
   ],
   "source": [
    "len(scores)"
   ]
  },
  {
   "cell_type": "code",
   "execution_count": 22,
   "metadata": {},
   "outputs": [],
   "source": [
    "scores = set(scores)"
   ]
  },
  {
   "cell_type": "code",
   "execution_count": 23,
   "metadata": {},
   "outputs": [
    {
     "data": {
      "text/plain": [
       "{(34, 37, 0.9473684210526315),\n",
       " (84, 222, 0.9863013698630136),\n",
       " (164, 181, 0.8492063492063492),\n",
       " (239, 276, 0.9960474308300395),\n",
       " (262, 375, 0.75),\n",
       " (268, 450, 0.875),\n",
       " (290, 485, 0.946236559139785),\n",
       " (348, 357, 0.975609756097561),\n",
       " (397, 588, 0.8272727272727273),\n",
       " (640, 654, 0.979253112033195),\n",
       " (674, 675, 0.9238095238095239),\n",
       " (873, 1302, 0.88),\n",
       " (1089, 1416, 1.0),\n",
       " (1187, 1490, 0.7818181818181819),\n",
       " (1231, 1308, 1.0),\n",
       " (1391, 2166, 0.9117647058823529),\n",
       " (1811, 1816, 0.9877551020408163),\n",
       " (1975, 1978, 0.8782608695652174),\n",
       " (1987, 2340, 0.961038961038961),\n",
       " (2086, 2088, 0.9828571428571429),\n",
       " (2092, 2207, 0.9226519337016574),\n",
       " (2235, 2281, 1.0),\n",
       " (2235, 2401, 0.9024390243902439),\n",
       " (2235, 2406, 1.0),\n",
       " (2238, 2399, 1.0),\n",
       " (2238, 2408, 1.0),\n",
       " (2281, 2401, 0.9024390243902439),\n",
       " (2281, 2406, 1.0),\n",
       " (2399, 2408, 1.0),\n",
       " (2400, 2404, 0.927170868347339),\n",
       " (2401, 2406, 0.9135802469135802),\n",
       " (2685, 3387, 0.8810572687224669),\n",
       " (2685, 3442, 0.8810572687224669),\n",
       " (2826, 2831, 1.0),\n",
       " (2873, 2880, 0.8917525773195877),\n",
       " (2955, 3676, 0.968421052631579),\n",
       " (3051, 3201, 0.9578651685393258),\n",
       " (3079, 3162, 0.896551724137931),\n",
       " (3275, 3297, 0.973404255319149),\n",
       " (3387, 3442, 1.0),\n",
       " (3480, 3502, 0.7777777777777778),\n",
       " (3502, 3586, 0.9935064935064936),\n",
       " (3530, 3532, 0.7835051546391752),\n",
       " (3535, 4693, 0.7060931899641577),\n",
       " (3535, 4756, 0.7025089605734767),\n",
       " (3608, 3615, 0.9672131147540983),\n",
       " (3619, 3621, 0.910958904109589),\n",
       " (3837, 4150, 0.7272727272727273),\n",
       " (4045, 4051, 0.8333333333333334),\n",
       " (4048, 4056, 1.0),\n",
       " (4049, 4055, 0.9047619047619048),\n",
       " (4049, 4057, 0.8571428571428571),\n",
       " (4055, 4057, 1.0),\n",
       " (4245, 4255, 0.9833333333333333),\n",
       " (4245, 4372, 0.989010989010989),\n",
       " (4246, 4250, 0.9438943894389439),\n",
       " (4246, 4266, 0.735973597359736),\n",
       " (4246, 4295, 0.7227722772277227),\n",
       " (4255, 4372, 0.9833333333333333),\n",
       " (4266, 4295, 0.8926553672316384),\n",
       " (4373, 4375, 0.8275862068965517),\n",
       " (4465, 4468, 0.996937212863706),\n",
       " (4465, 4469, 0.9861325115562404),\n",
       " (4468, 4469, 0.9830508474576272),\n",
       " (4693, 4756, 0.983132530120482),\n",
       " (4695, 4697, 0.9685185185185186),\n",
       " (4706, 4707, 1.0),\n",
       " (4706, 4717, 0.973384030418251),\n",
       " (4707, 4717, 0.9714828897338403),\n",
       " (4721, 4743, 0.9116379310344828)}"
      ]
     },
     "execution_count": 23,
     "metadata": {},
     "output_type": "execute_result"
    }
   ],
   "source": [
    "scores"
   ]
  },
  {
   "cell_type": "code",
   "execution_count": 21,
   "metadata": {},
   "outputs": [],
   "source": [
    "unique_reviews = set()\n",
    "for item in scores:\n",
    "    i = item[0]\n",
    "    j = item[1]\n",
    "    review1 = df.iloc[i]\n",
    "    review2 = df.iloc[j]\n",
    "    if review1['reviewerID'] != review2['reviewerID'] and review1['asin'] != review2['asin']:\n",
    "        unique_reviews.add((i, j, item[2]))"
   ]
  },
  {
   "cell_type": "code",
   "execution_count": 22,
   "metadata": {
    "scrolled": true
   },
   "outputs": [
    {
     "data": {
      "text/plain": [
       "set()"
      ]
     },
     "execution_count": 22,
     "metadata": {},
     "output_type": "execute_result"
    }
   ],
   "source": [
    "unique_reviews"
   ]
  },
  {
   "cell_type": "code",
   "execution_count": 34,
   "metadata": {},
   "outputs": [
    {
     "data": {
      "text/plain": [
       "\"You won't find one this tiny for this price with this qualityBy Hector L TorresI've bought 2 cameras of this type for use at work.  But this one knocks it out of the park. The case is built like a tank, it's very easy to use. The voice activated function is great. I'm using an 8gb chip in mine, so I can't talk about the quality problems I've heard about when using the 2gig chip that ships. I've used it the past couple days testing it by using the clip mount to clip it under my rear view mirror facing forward and I can tell you there are no police dashboard cameras that can beat the video. The camera focuses perfectly through the windshield and the angle of view is wide enough to capture a perfect scene. Low light is great. I plugged the camera in another computer without installing the drivers and it worked fine. Audio is a weak point and wind noise will wipe the audio. If your going to use this as a cruiser cam not sure how you would get external audio, but it will pick up the video well. I highly recommend it.\""
      ]
     },
     "execution_count": 34,
     "metadata": {},
     "output_type": "execute_result"
    }
   ],
   "source": [
    "reviews[75735]"
   ]
  },
  {
   "cell_type": "code",
   "execution_count": 35,
   "metadata": {},
   "outputs": [
    {
     "data": {
      "text/plain": [
       "\"I've bought 3 or 4 cameras of this type for use at work.  I've bought 2 different helmet cameras that worked kind of okay, but this one knocks it out of the park. The case is built like a tank, it's very easy to use. The voice activated function is great. I'm using an 8gb chip in mine, so I can't talk about the quality problems I've heard about when using the 2gig chip that ships. I've used it the past couple days testing it by using the clip mount to clip it under my rear view mirror facing forward and I can tell you there are no police dashboard cameras that can beat the video. The camera focuses perfectly through the windshield and the angle of view is wide enough to capture a perfect scene. Low light is great, used it at a shooting range yesterday and once I figured out the proper placement the videos were great even in reduced lighting.  If you need a tiny camera with great quality this is the one. My one complaint was when I installed the driver disk I began getting com errors and had to do a lot of googling before I could shut them off. I plugged the camera in another computer without installing the drivers and it worked fine. I suppose you will need the drivers if you are going to use this as a web camera, but thats a waste of a great piece of equipment. Audio is a weak point and wind noise will wipe the audio. If your going to use this as a cruiser cam not sure how you would get external audio, but it will pick up the video well. I highly recommend it.  [...]\""
      ]
     },
     "execution_count": 35,
     "metadata": {},
     "output_type": "execute_result"
    }
   ],
   "source": [
    "reviews[45204]"
   ]
  },
  {
   "cell_type": "code",
   "execution_count": 37,
   "metadata": {},
   "outputs": [
    {
     "data": {
      "text/plain": [
       "level_0                                                       45204\n",
       "index                                                         74170\n",
       "asin                                                     B0029631VI\n",
       "helpful                                                  [212, 236]\n",
       "overall                                                           5\n",
       "reviewText        I've bought 3 or 4 cameras of this type for us...\n",
       "reviewTime                                              12 16, 2009\n",
       "reviewerID                                           A11D3W4CFYZNHM\n",
       "reviewerName                                                 Bill T\n",
       "summary           You won't find one this tiny for this price wi...\n",
       "unixReviewTime                                           1260921600\n",
       "Name: 45204, dtype: object"
      ]
     },
     "execution_count": 37,
     "metadata": {},
     "output_type": "execute_result"
    }
   ],
   "source": [
    "df.iloc[45204]"
   ]
  },
  {
   "cell_type": "code",
   "execution_count": 36,
   "metadata": {},
   "outputs": [
    {
     "data": {
      "text/plain": [
       "level_0                                                       75735\n",
       "index                                                         48036\n",
       "asin                                                     B006UNI21A\n",
       "helpful                                                    [23, 25]\n",
       "overall                                                           5\n",
       "reviewText        You won't find one this tiny for this price wi...\n",
       "reviewTime                                              05 20, 2012\n",
       "reviewerID                                           A21T1XU15MPJX2\n",
       "reviewerName                              H. L. T. Ramirez \"Hector\"\n",
       "summary                             Great spy camera for the price.\n",
       "unixReviewTime                                           1337472000\n",
       "Name: 75735, dtype: object"
      ]
     },
     "execution_count": 36,
     "metadata": {},
     "output_type": "execute_result"
    }
   ],
   "source": [
    "df.iloc[75735]"
   ]
  },
  {
   "cell_type": "code",
   "execution_count": 111,
   "metadata": {},
   "outputs": [
    {
     "name": "stdout",
     "output_type": "stream",
     "text": [
      "8\n",
      "1.0\n",
      "{'1c9600afd7f0be0b2764ae6f656ebf50', '14527a452f3805cad37de300d00ff8e9', '06fb380975fb830826b97053f0af802e', '1a94aa68d8f5182dcb2dd55c37dedeeb', '1a1e2a2dbfa8cb0ee4a29279e2af120e', '2b9640d27d0b2ea79e9f10c36f515a67', '11ac9f192c0daa2473bcd234ee42acf5', '864ab63ec5e2f8742bc86fb48ab944aa'}\n",
      "{'1c9600afd7f0be0b2764ae6f656ebf50', '14527a452f3805cad37de300d00ff8e9', '06fb380975fb830826b97053f0af802e', '1a94aa68d8f5182dcb2dd55c37dedeeb', '1a1e2a2dbfa8cb0ee4a29279e2af120e', '2b9640d27d0b2ea79e9f10c36f515a67', '11ac9f192c0daa2473bcd234ee42acf5', '864ab63ec5e2f8742bc86fb48ab944aa'}\n"
     ]
    }
   ],
   "source": [
    "i = 7966\n",
    "j = 7967\n",
    "common = fingerprints[i] & fingerprints[j]\n",
    "temp = min(len(fingerprints[i]), len(fingerprints[j]))\n",
    "print (len(common))\n",
    "score = len(common)/temp\n",
    "print (score)\n",
    "print (fingerprints[i])\n",
    "print (fingerprints[j])"
   ]
  },
  {
   "cell_type": "code",
   "execution_count": null,
   "metadata": {},
   "outputs": [],
   "source": []
  }
 ],
 "metadata": {
  "kernelspec": {
   "display_name": "Python 3",
   "language": "python",
   "name": "python3"
  },
  "language_info": {
   "codemirror_mode": {
    "name": "ipython",
    "version": 3
   },
   "file_extension": ".py",
   "mimetype": "text/x-python",
   "name": "python",
   "nbconvert_exporter": "python",
   "pygments_lexer": "ipython3",
   "version": "3.5.2"
  }
 },
 "nbformat": 4,
 "nbformat_minor": 2
}
