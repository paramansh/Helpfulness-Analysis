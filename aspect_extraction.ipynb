{
 "cells": [
  {
   "cell_type": "code",
   "execution_count": 1,
   "metadata": {},
   "outputs": [],
   "source": [
    "import nltk\n",
    "import pandas as pd\n",
    "import numpy as np\n",
    "import itertools\n",
    "import matplotlib.pyplot as plt"
   ]
  },
  {
   "cell_type": "code",
   "execution_count": 3,
   "metadata": {},
   "outputs": [],
   "source": [
    "df = pd.read_pickle('plg/data_frames/Cell_Phones_and_Accessories_5.pkl')"
   ]
  },
  {
   "cell_type": "code",
   "execution_count": 4,
   "metadata": {
    "scrolled": true
   },
   "outputs": [
    {
     "data": {
      "text/html": [
       "<div>\n",
       "<style scoped>\n",
       "    .dataframe tbody tr th:only-of-type {\n",
       "        vertical-align: middle;\n",
       "    }\n",
       "\n",
       "    .dataframe tbody tr th {\n",
       "        vertical-align: top;\n",
       "    }\n",
       "\n",
       "    .dataframe thead th {\n",
       "        text-align: right;\n",
       "    }\n",
       "</style>\n",
       "<table border=\"1\" class=\"dataframe\">\n",
       "  <thead>\n",
       "    <tr style=\"text-align: right;\">\n",
       "      <th></th>\n",
       "      <th>index</th>\n",
       "      <th>asin</th>\n",
       "      <th>helpful</th>\n",
       "      <th>overall</th>\n",
       "      <th>reviewText</th>\n",
       "      <th>reviewTime</th>\n",
       "      <th>reviewerID</th>\n",
       "      <th>reviewerName</th>\n",
       "      <th>summary</th>\n",
       "      <th>unixReviewTime</th>\n",
       "    </tr>\n",
       "  </thead>\n",
       "  <tbody>\n",
       "    <tr>\n",
       "      <th>0</th>\n",
       "      <td>13</td>\n",
       "      <td>3998899561</td>\n",
       "      <td>[12, 16]</td>\n",
       "      <td>5</td>\n",
       "      <td>Unlike Most of the Rechargeable Battery cases,...</td>\n",
       "      <td>09 27, 2013</td>\n",
       "      <td>ANMATY0L0HX6Y</td>\n",
       "      <td>Sasha Malkin</td>\n",
       "      <td>Best Rechargeable Battery Case on the Market!!...</td>\n",
       "      <td>1380240000</td>\n",
       "    </tr>\n",
       "    <tr>\n",
       "      <th>1</th>\n",
       "      <td>170</td>\n",
       "      <td>9658231950</td>\n",
       "      <td>[11, 11]</td>\n",
       "      <td>1</td>\n",
       "      <td>I never do this, but I almost bought this prod...</td>\n",
       "      <td>05 18, 2014</td>\n",
       "      <td>AHSOOQWJHLAZM</td>\n",
       "      <td>Nikesh</td>\n",
       "      <td>Almost every positive review posted for this p...</td>\n",
       "      <td>1400371200</td>\n",
       "    </tr>\n",
       "    <tr>\n",
       "      <th>2</th>\n",
       "      <td>188</td>\n",
       "      <td>9861203192</td>\n",
       "      <td>[25, 25]</td>\n",
       "      <td>5</td>\n",
       "      <td>Bought this for my new AT&amp;T; Galaxy SII, the c...</td>\n",
       "      <td>10 7, 2011</td>\n",
       "      <td>A1847XXVEA8QUK</td>\n",
       "      <td>Daniel Poole</td>\n",
       "      <td>Awesome case and cheap too</td>\n",
       "      <td>1317945600</td>\n",
       "    </tr>\n",
       "    <tr>\n",
       "      <th>3</th>\n",
       "      <td>210</td>\n",
       "      <td>9981724580</td>\n",
       "      <td>[20, 24]</td>\n",
       "      <td>3</td>\n",
       "      <td>A note of caution from someone who owned and u...</td>\n",
       "      <td>01 25, 2009</td>\n",
       "      <td>ADLVFFE4VBT8</td>\n",
       "      <td>A. Dent \"Aragorn\"</td>\n",
       "      <td>Generic USB 2.0 cable, will work with a Blackb...</td>\n",
       "      <td>1232841600</td>\n",
       "    </tr>\n",
       "    <tr>\n",
       "      <th>4</th>\n",
       "      <td>227</td>\n",
       "      <td>9985039998</td>\n",
       "      <td>[14, 22]</td>\n",
       "      <td>5</td>\n",
       "      <td>It's true! This cable outperforms the original...</td>\n",
       "      <td>08 7, 2010</td>\n",
       "      <td>A32ORGD6KLKM9N</td>\n",
       "      <td>BlinkDog</td>\n",
       "      <td>Perfect!</td>\n",
       "      <td>1281139200</td>\n",
       "    </tr>\n",
       "  </tbody>\n",
       "</table>\n",
       "</div>"
      ],
      "text/plain": [
       "   index        asin   helpful  overall  \\\n",
       "0     13  3998899561  [12, 16]        5   \n",
       "1    170  9658231950  [11, 11]        1   \n",
       "2    188  9861203192  [25, 25]        5   \n",
       "3    210  9981724580  [20, 24]        3   \n",
       "4    227  9985039998  [14, 22]        5   \n",
       "\n",
       "                                          reviewText   reviewTime  \\\n",
       "0  Unlike Most of the Rechargeable Battery cases,...  09 27, 2013   \n",
       "1  I never do this, but I almost bought this prod...  05 18, 2014   \n",
       "2  Bought this for my new AT&T; Galaxy SII, the c...   10 7, 2011   \n",
       "3  A note of caution from someone who owned and u...  01 25, 2009   \n",
       "4  It's true! This cable outperforms the original...   08 7, 2010   \n",
       "\n",
       "       reviewerID       reviewerName  \\\n",
       "0   ANMATY0L0HX6Y       Sasha Malkin   \n",
       "1   AHSOOQWJHLAZM             Nikesh   \n",
       "2  A1847XXVEA8QUK       Daniel Poole   \n",
       "3    ADLVFFE4VBT8  A. Dent \"Aragorn\"   \n",
       "4  A32ORGD6KLKM9N           BlinkDog   \n",
       "\n",
       "                                             summary  unixReviewTime  \n",
       "0  Best Rechargeable Battery Case on the Market!!...      1380240000  \n",
       "1  Almost every positive review posted for this p...      1400371200  \n",
       "2                         Awesome case and cheap too      1317945600  \n",
       "3  Generic USB 2.0 cable, will work with a Blackb...      1232841600  \n",
       "4                                           Perfect!      1281139200  "
      ]
     },
     "execution_count": 4,
     "metadata": {},
     "output_type": "execute_result"
    }
   ],
   "source": [
    "df.head()"
   ]
  },
  {
   "cell_type": "code",
   "execution_count": 96,
   "metadata": {
    "scrolled": true
   },
   "outputs": [],
   "source": [
    "aspect_list = [(a, aspect_dic[a]) for a in aspect_dic if aspect_dic[a][0] > 0.01 * num_sentences]"
   ]
  },
  {
   "cell_type": "code",
   "execution_count": 99,
   "metadata": {},
   "outputs": [],
   "source": [
    "features = [a[0] for a in aspect_list]"
   ]
  },
  {
   "cell_type": "code",
   "execution_count": 80,
   "metadata": {},
   "outputs": [],
   "source": [
    "redundant = []\n",
    "def purne_redundancy(word1, word2, psupport=3):\n",
    "    indices1 = word1[1][1] #list\n",
    "    indices2 = word2[1][1]\n",
    "    common_ind = len(set(indices1) & set(indices2)) # intersection\n",
    "    if common_ind > psupport:\n",
    "        redundant.append((word1, word2))"
   ]
  },
  {
   "cell_type": "code",
   "execution_count": 85,
   "metadata": {},
   "outputs": [],
   "source": [
    "for a, b in itertools.combinations(freq_words, 2):\n",
    "    purne_redundancy(a, b, psupport=25)"
   ]
  },
  {
   "cell_type": "code",
   "execution_count": 86,
   "metadata": {
    "scrolled": true
   },
   "outputs": [
    {
     "data": {
      "text/plain": [
       "[('music', 'player'),\n",
       " ('thing', 'lot'),\n",
       " ('reader', 'screen'),\n",
       " ('reader', 'tablet'),\n",
       " ('reader', 'device'),\n",
       " ('reader', 'book'),\n",
       " ('sound', 'quality'),\n",
       " ('radio', 'reception'),\n",
       " ('life', 'battery'),\n",
       " ('time', 'nook'),\n",
       " ('time', 'battery'),\n",
       " ('time', 'device'),\n",
       " ('time', 'book'),\n",
       " ('memory', 'card'),\n",
       " ('memory', 'battery'),\n",
       " ('card', 'tablet'),\n",
       " ('price', 'device'),\n",
       " ('reading', 'device'),\n",
       " ('screen', 'color'),\n",
       " ('screen', 'touch'),\n",
       " ('screen', 'nook'),\n",
       " ('screen', 'store'),\n",
       " ('screen', 'battery'),\n",
       " ('screen', 'something'),\n",
       " ('screen', 'device'),\n",
       " ('screen', 'page'),\n",
       " ('screen', 'book'),\n",
       " ('color', 'touch'),\n",
       " ('color', 'nook'),\n",
       " ('color', 'device'),\n",
       " ('color', 'book'),\n",
       " ('nook', 'store'),\n",
       " ('nook', 'battery'),\n",
       " ('nook', 'device'),\n",
       " ('nook', 'book'),\n",
       " ('lot', 'device'),\n",
       " ('store', 'app'),\n",
       " ('store', 'book'),\n",
       " ('battery', 'device'),\n",
       " ('battery', 'book'),\n",
       " ('tablet', 'access'),\n",
       " ('format', 'book'),\n",
       " ('access', 'device'),\n",
       " ('device', 'book'),\n",
       " ('text', 'book'),\n",
       " ('page', 'book'),\n",
       " ('library', 'book'),\n",
       " ('life', 'battery'),\n",
       " ('screen', 'color'),\n",
       " ('screen', 'touch'),\n",
       " ('screen', 'device')]"
      ]
     },
     "execution_count": 86,
     "metadata": {},
     "output_type": "execute_result"
    }
   ],
   "source": [
    "[(word[0][0], word[1][0]) for word in redundant]"
   ]
  },
  {
   "cell_type": "code",
   "execution_count": 6,
   "metadata": {},
   "outputs": [],
   "source": [
    "def update_dic(noun_words, aspect_dic):\n",
    "    for word in noun_words:\n",
    "        if word in aspect_dic:\n",
    "            aspect_dic[word] += 1\n",
    "        else:\n",
    "            aspect_dic[word] = 1"
   ]
  },
  {
   "cell_type": "code",
   "execution_count": 7,
   "metadata": {},
   "outputs": [],
   "source": [
    "def get_aspects(reviews): # returns number of aspects corresponding to each review\n",
    "    nouns_in_reviews = []\n",
    "    aspect_dic = {}\n",
    "    num_sentences = 0\n",
    "    for r_index, review in enumerate(reviews):\n",
    "        sentences = nltk.sent_tokenize(review)\n",
    "        nouns_in_item = []\n",
    "        for s_index, sentence in enumerate(sentences):\n",
    "            num_sentences += 1\n",
    "            text = nltk.word_tokenize(sentence)\n",
    "            tags = nltk.pos_tag(text)\n",
    "            noun_words = [str(a) for (a,b) in tags if b == 'NN']\n",
    "            nouns_in_item += noun_words\n",
    "            update_dic(noun_words, aspect_dic)\n",
    "        nouns_in_reviews.append(nouns_in_item)\n",
    "    aspect_list = [a for a in aspect_dic if aspect_dic[a] > max(0.01 * num_sentences, 3)]\n",
    "    num_aspects = []\n",
    "    aspect_list = set(aspect_list)\n",
    "    for nouns in nouns_in_reviews:\n",
    "        aspects = len(set(nouns) & aspect_list)\n",
    "        num_aspects.append(aspects)\n",
    "    return num_aspects"
   ]
  },
  {
   "cell_type": "code",
   "execution_count": 16,
   "metadata": {
    "scrolled": true
   },
   "outputs": [
    {
     "name": "stdout",
     "output_type": "stream",
     "text": [
      "1000\n",
      "2000\n",
      "3000\n",
      "4000\n"
     ]
    }
   ],
   "source": [
    "num_reviews = df.shape[0]\n",
    "array = df[['overall', 'asin', 'helpful', 'reviewText']].values\n",
    "item = array[0][1]\n",
    "prev_item = 'null'\n",
    "count = 0\n",
    "X_all = [] # stores the deviation of each item\n",
    "y_all = []\n",
    "num_aspects = []\n",
    "num_items = 0\n",
    "sum = 0\n",
    "item_array = np.array([])\n",
    "\n",
    "for i in range(num_reviews):\n",
    "    count = count + 1\n",
    "    if (count % 1000 == 0):\n",
    "        print (count)\n",
    "    curr_item = array[i]\n",
    "    item = curr_item[1]\n",
    "    if (prev_item == item):\n",
    "        item_array = np.append(item_array, curr_item[0])\n",
    "        reviews.append(curr_item[3])\n",
    "        y.append(curr_item[2][0] / curr_item[2][1])\n",
    "        sum += curr_item[0]\n",
    "        if (count == num_reviews):\n",
    "            mean = np.mean(item_array)\n",
    "            item_array = np.rint((item_array - mean) * 2) / 2\n",
    "            X_all = X_all + item_array.tolist()\n",
    "            y_all = y_all + y\n",
    "#             num_aspects = num_aspects + get_aspects(reviews)\n",
    "    else:\n",
    "        if (num_items):\n",
    "                mean = np.mean(item_array)\n",
    "                item_array = np.rint((item_array - mean) * 2) / 2\n",
    "                X_all = X_all + item_array.tolist()\n",
    "                y_all = y_all + y\n",
    "#                 num_aspects = num_aspects + get_aspects(reviews)\n",
    "        num_items += 1\n",
    "        sum = 0\n",
    "        item_array = np.array([])\n",
    "        y = []\n",
    "        reviews = []\n",
    "        prev_item = item\n",
    "        item_array = np.append(item_array, curr_item[0])\n",
    "        y.append(curr_item[2][0] / curr_item[2][1])\n",
    "        reviews.append(curr_item[3])\n",
    "        sum += curr_item[0]"
   ]
  },
  {
   "cell_type": "code",
   "execution_count": 6,
   "metadata": {},
   "outputs": [],
   "source": [
    "# fp = open('aspects/books_num_aspects.txt', 'w')\n",
    "# for item in num_aspects:\n",
    "#     fp.write(\"%d\\n\" %item)\n",
    "# fp.close()"
   ]
  },
  {
   "cell_type": "code",
   "execution_count": 13,
   "metadata": {},
   "outputs": [],
   "source": [
    "# with open('aspects/electronics_num_aspects.txt', 'r') as fp:\n",
    "#     num_aspects = fp.readlines()"
   ]
  },
  {
   "cell_type": "code",
   "execution_count": 14,
   "metadata": {},
   "outputs": [],
   "source": [
    "# num_aspects = [int(a) for a in num_aspects]"
   ]
  },
  {
   "cell_type": "code",
   "execution_count": 17,
   "metadata": {},
   "outputs": [],
   "source": [
    "x = [(a // 1) * 1 for a in num_aspects]"
   ]
  },
  {
   "cell_type": "code",
   "execution_count": 19,
   "metadata": {},
   "outputs": [
    {
     "data": {
      "text/plain": [
       "<matplotlib.collections.PathCollection at 0x7f4f46e0d400>"
      ]
     },
     "execution_count": 19,
     "metadata": {},
     "output_type": "execute_result"
    },
    {
     "data": {
      "image/png": "[encoded data removed]",
      "text/plain": [
       "<Figure size 432x288 with 1 Axes>"
      ]
     },
     "metadata": {},
     "output_type": "display_data"
    }
   ],
   "source": [
    "plt.scatter(X_all, y_all)"
   ]
  },
  {
   "cell_type": "code",
   "execution_count": 17,
   "metadata": {},
   "outputs": [],
   "source": [
    "df2 = pd.DataFrame({'num_aspects':x, 'helpful':y_all})"
   ]
  },
  {
   "cell_type": "code",
   "execution_count": 18,
   "metadata": {},
   "outputs": [],
   "source": [
    "# df2.to_pickle('aspects/electronics_data_points')"
   ]
  },
  {
   "cell_type": "code",
   "execution_count": 19,
   "metadata": {},
   "outputs": [],
   "source": [
    "uni_x = np.sort(df2['num_aspects'].unique())"
   ]
  },
  {
   "cell_type": "code",
   "execution_count": 20,
   "metadata": {},
   "outputs": [
    {
     "data": {
      "text/plain": [
       "array([ 0,  1,  2,  3,  4,  5,  6,  7,  8,  9, 10, 11, 12, 13, 14, 15, 16,\n",
       "       17, 18, 19, 20, 21, 22, 23, 24, 25, 26, 27, 28, 29, 30, 31, 32, 33,\n",
       "       34, 35, 36, 37, 38, 39, 40, 41, 42, 43, 44, 45, 46, 47, 48, 49, 50,\n",
       "       51, 52, 53, 54, 55, 56, 57, 58, 59, 60, 61, 62, 63, 64, 65, 66, 67,\n",
       "       68, 70, 71, 72, 73, 74, 75, 76, 77, 83, 85])"
      ]
     },
     "execution_count": 20,
     "metadata": {},
     "output_type": "execute_result"
    }
   ],
   "source": [
    "uni_x"
   ]
  },
  {
   "cell_type": "code",
   "execution_count": 21,
   "metadata": {},
   "outputs": [],
   "source": [
    "y = []\n",
    "x = []\n",
    "for i in uni_x:\n",
    "    temp = df2.loc[df2['num_aspects'] == i]['helpful']\n",
    "    if temp.shape[0] > 0.001 * df.shape[0]:\n",
    "        x.append(i)\n",
    "        y.append(df2.loc[df2['num_aspects'] == i]['helpful'].mean())"
   ]
  },
  {
   "cell_type": "code",
   "execution_count": 22,
   "metadata": {},
   "outputs": [
    {
     "data": {
      "text/plain": [
       "[<matplotlib.lines.Line2D at 0x7f614cd18c50>]"
      ]
     },
     "execution_count": 22,
     "metadata": {},
     "output_type": "execute_result"
    },
    {
     "data": {
      "image/png": "[encoded data removed]",
      "text/plain": [
       "<Figure size 432x288 with 1 Axes>"
      ]
     },
     "metadata": {},
     "output_type": "display_data"
    }
   ],
   "source": [
    "plt.plot(x, y)\n",
    "# plt.savefig('electronics_mean.png')"
   ]
  },
  {
   "cell_type": "code",
   "execution_count": 25,
   "metadata": {
    "scrolled": true
   },
   "outputs": [],
   "source": [
    "y = []\n",
    "x = []\n",
    "e_upper = []\n",
    "e_lower = []\n",
    "number_of_aspects = []\n",
    "for i in uni_x:\n",
    "    temp = df2.loc[df2['num_aspects'] == i]['helpful']\n",
    "    if temp.shape[0] > 0.001 * df.shape[0]:\n",
    "        x.append(i)\n",
    "        number_of_aspects.append(temp.shape[0])\n",
    "        y.append(temp.median())\n",
    "        e_upper.append(temp.quantile(0.66) - temp.median())\n",
    "        e_lower.append(temp.median() - temp.quantile(0.33))"
   ]
  },
  {
   "cell_type": "code",
   "execution_count": 29,
   "metadata": {},
   "outputs": [
    {
     "data": {
      "image/png": "[encoded data removed]",
      "text/plain": [
       "<Figure size 432x288 with 1 Axes>"
      ]
     },
     "metadata": {},
     "output_type": "display_data"
    }
   ],
   "source": [
    "plt.xlabel(\"Number of Features\")\n",
    "plt.ylabel(\"Number of Reviews (in hundreds)\")\n",
    "plt.plot(x, [i//100 for i in number_of_aspects])\n",
    "plt.savefig(\"electronics_num_features.png\")"
   ]
  },
  {
   "cell_type": "code",
   "execution_count": 24,
   "metadata": {},
   "outputs": [
    {
     "data": {
      "image/png": "[encoded data removed]",
      "text/plain": [
       "<Figure size 432x288 with 1 Axes>"
      ]
     },
     "metadata": {},
     "output_type": "display_data"
    }
   ],
   "source": [
    "plt.ylim(0, 1)\n",
    "plt.xlabel(\"Number of Aspects\")\n",
    "plt.ylabel(\"Helpfulness Ratio\")\n",
    "plt.errorbar(x, y, (e_lower, e_upper), fmt='-+', capsize=1, ecolor='black')\n",
    "plt.savefig('aspects/books_median.png')"
   ]
  }
 ],
 "metadata": {
  "kernelspec": {
   "display_name": "Python 3",
   "language": "python",
   "name": "python3"
  },
  "language_info": {
   "codemirror_mode": {
    "name": "ipython",
    "version": 3
   },
   "file_extension": ".py",
   "mimetype": "text/x-python",
   "name": "python",
   "nbconvert_exporter": "python",
   "pygments_lexer": "ipython3",
   "version": "3.5.2"
  }
 },
 "nbformat": 4,
 "nbformat_minor": 2
}
