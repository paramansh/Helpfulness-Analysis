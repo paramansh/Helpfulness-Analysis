{
 "cells": [
  {
   "cell_type": "code",
   "execution_count": 1,
   "metadata": {},
   "outputs": [],
   "source": [
    "import nltk\n",
    "import hashlib"
   ]
  },
  {
   "cell_type": "code",
   "execution_count": 2,
   "metadata": {},
   "outputs": [],
   "source": [
    "def kgrams_hash(sentence, k=5):\n",
    "    hashes = []\n",
    "    words = nltk.word_tokenize(sentence)\n",
    "    for i in range(0, len(words) - k + 1):\n",
    "        mystring = ' '.join(words[i:i+k])\n",
    "        hash_object = hashlib.md5(mystring.encode())\n",
    "        hsh = hash_object.hexdigest()\n",
    "        hashes.append(hsh)\n",
    "    return hashes\n",
    "        "
   ]
  },
  {
   "cell_type": "code",
   "execution_count": 15,
   "metadata": {},
   "outputs": [],
   "source": [
    "text = \"My friend holds a B.Tech in Computer Science. His name is Dr. Arun\"\n",
    "sentences = nltk.sent_tokenize(text)\n",
    "sentence = sentences[0]"
   ]
  },
  {
   "cell_type": "code",
   "execution_count": 3,
   "metadata": {},
   "outputs": [],
   "source": [
    "def winnow(text, k=5, w=6):\n",
    "    fingerprints = set([])\n",
    "    sentences = nltk.sent_tokenize(text)\n",
    "    dic = {}\n",
    "    for index, sentence in enumerate(sentences):\n",
    "        #if sentence\n",
    "        sentence_hashes = kgrams_hash(sentence, k)\n",
    "#         print (sentence_hashes)\n",
    "        if len(sentence_hashes) and len(sentence_hashes) < w:\n",
    "#             print (\"small\")\n",
    "            fingerprints.add(min(sentence_hashes))\n",
    "            dic[min(sentence_hashes)] = index\n",
    "        else:\n",
    "            for i in range(0, len(sentence_hashes) - w + 1):\n",
    "                window = sentence_hashes[i:i+w]\n",
    "                fingerprints.add(min(window))\n",
    "                dic[min(window)] = index\n",
    "#                 print (window)\n",
    "    return sentences, dic, fingerprints"
   ]
  },
  {
   "cell_type": "code",
   "execution_count": 86,
   "metadata": {},
   "outputs": [],
   "source": [
    "fp1, dic1 = winnow(text)"
   ]
  },
  {
   "cell_type": "code",
   "execution_count": 85,
   "metadata": {},
   "outputs": [],
   "source": [
    "fp2, dic2 = winnow(\"my name is paramansh singh. My friend holds a B.Tech in Computer Science.\")"
   ]
  },
  {
   "cell_type": "code",
   "execution_count": 87,
   "metadata": {},
   "outputs": [
    {
     "data": {
      "text/plain": [
       "{'7edf8d1e1e1e3ed92e34c52033697db8': 0, '94359258d4ae4e3b402f91efd5121e36': 1}"
      ]
     },
     "execution_count": 87,
     "metadata": {},
     "output_type": "execute_result"
    }
   ],
   "source": [
    "dic1"
   ]
  },
  {
   "cell_type": "code",
   "execution_count": 74,
   "metadata": {},
   "outputs": [
    {
     "data": {
      "text/plain": [
       "{('685955ca67b2e989d7956821d05d860e', 0),\n",
       " ('7edf8d1e1e1e3ed92e34c52033697db8', 1)}"
      ]
     },
     "execution_count": 74,
     "metadata": {},
     "output_type": "execute_result"
    }
   ],
   "source": [
    "fp2"
   ]
  },
  {
   "cell_type": "code",
   "execution_count": 94,
   "metadata": {},
   "outputs": [
    {
     "name": "stdout",
     "output_type": "stream",
     "text": [
      "My friend holds a B.Tech in Computer Science.\n"
     ]
    }
   ],
   "source": [
    "for hashes in fp1 & fp2:\n",
    "    print (sentences[dic1[hashes]])"
   ]
  },
  {
   "cell_type": "code",
   "execution_count": 4,
   "metadata": {},
   "outputs": [],
   "source": [
    "def compare(text1, text2):\n",
    "    st1, dic1, fp1 = winnow(text1)\n",
    "    st2, dic2, fp2 = winnow(text2)\n",
    "    common = fp1 & fp2\n",
    "    for h in common:\n",
    "        print (\"Common Sentences: \")\n",
    "        print (\"First text: \", st1[dic1[h]])\n",
    "        print (\"Second text: \", st2[dic2[h]])\n",
    "    print (\"Fingerprints in text1: \", len(fp1))\n",
    "    print (\"Fingerprints in text2: \", len(fp2))\n",
    "    print (\"Common Fingerprints: \", len(common))\n",
    "    return len(common) / min((len(fp1),len(fp2)))"
   ]
  },
  {
   "cell_type": "code",
   "execution_count": 29,
   "metadata": {},
   "outputs": [],
   "source": [
    "different = fp1 - fp2"
   ]
  },
  {
   "cell_type": "code",
   "execution_count": 31,
   "metadata": {
    "scrolled": true
   },
   "outputs": [
    {
     "data": {
      "text/plain": [
       "{'039ea3c8e3e715696eae533c4f15c764',\n",
       " '07acb365b5ad621c5903a6ce1a0500a1',\n",
       " '0d8617e690809ba21d551794608822b3',\n",
       " '0e92bc7a49a431c40b56db61e86937cc',\n",
       " '12838259d31f0aa3c0485389837cd929',\n",
       " '13ea1252d322a0cbab87f5d16d39b20d',\n",
       " '1999bb7a4eb791d54adb30039d8076a9',\n",
       " '210ae4ce9ce6a4041a8774666c36bdee',\n",
       " '22c5039f5e880cf32a7701d2a2dc7a75',\n",
       " '2868eb53500b38b9068038cf38503d7d',\n",
       " '3251ba9ce1d3d0fb14fc08b158fb1150',\n",
       " '38c59eb568edd7789c80b7c8ee5e2e23',\n",
       " '596a2d10c29df4ab8e839e7bf50a8e52'}"
      ]
     },
     "execution_count": 31,
     "metadata": {},
     "output_type": "execute_result"
    }
   ],
   "source": [
    "fp1 & fp2"
   ]
  },
  {
   "cell_type": "code",
   "execution_count": 105,
   "metadata": {},
   "outputs": [],
   "source": [
    "text2 = \"my name is paramansh singh. My friend holds a B.Tech in Computer Science.\""
   ]
  },
  {
   "cell_type": "code",
   "execution_count": 106,
   "metadata": {},
   "outputs": [
    {
     "name": "stdout",
     "output_type": "stream",
     "text": [
      "Common Sentences: \n",
      "First text:  My friend holds a B.Tech in Computer Science.\n",
      "Second text:  My friend holds a B.Tech in Computer Science.\n",
      "Fingerprints in text1:  2\n",
      "Fingerprints in text2:  2\n",
      "Common Fingerprints:  1\n"
     ]
    },
    {
     "data": {
      "text/plain": [
       "0.25"
      ]
     },
     "execution_count": 106,
     "metadata": {},
     "output_type": "execute_result"
    }
   ],
   "source": [
    "compare(text, text2)"
   ]
  },
  {
   "cell_type": "code",
   "execution_count": 8,
   "metadata": {},
   "outputs": [],
   "source": [
    "f1 = open('../temp1.json', 'r')\n",
    "f2 = open('../temp2.json', 'r')\n",
    "text1 = f1.read()\n",
    "text2 = f2.read()"
   ]
  },
  {
   "cell_type": "code",
   "execution_count": 9,
   "metadata": {
    "scrolled": true
   },
   "outputs": [
    {
     "data": {
      "text/plain": [
       "\"I checked out the audio version of the book to listen to on a long drive.  Chabon describes his characters and setting with incomparable wit and originality.  Unfortunately for every line of dialog, there seemed to be 100 lines of beautifully written description of things I didn't need to know and characters who were purely incidental to the plot.  Some editor should have told him that in a mystery, something has to happen. The plot has to move.  We got the murder right up front but two discs and two hours of listening later, all we know is that the victim was a chess player and heroin addict named Frank.  I couldn't stand it.  Stopped listening after disc two. Mystery lovers don't have the patience.\\n\""
      ]
     },
     "execution_count": 9,
     "metadata": {},
     "output_type": "execute_result"
    }
   ],
   "source": [
    "text1"
   ]
  },
  {
   "cell_type": "code",
   "execution_count": 10,
   "metadata": {},
   "outputs": [
    {
     "data": {
      "text/plain": [
       "'You can go to Peter Gay\\'s two volumes on \\'The Enlightenment\\' for a more exhaustive study, or you can try Norman Hampson\\'s slimmer though comprehensive volume (also, simply, \\'The Enlightenment\\'), and while both shine brightly from sheer size and scope, neither sparkle as much as Gaines\\' little gem, \\'Evening in the Palace of Reason.\\' Little need be added to the more extensive reviews by others who have posted them here, but perhaps one overlooked point bears mentioning.To whit, Gaines\\' excellent demonstration of the contradiction, by way of juxtaposition, of the standard views of the \\\\\"traditionalist\\\\\" J.S. Bach and the \\\\\"progressive\\\\\" Frederick the Great. Of course, classic interpretations of both men (the conservative composer vs. the first-ever \\'enlightened\\' ruler) break down under the demonstrable complexity of their respective characters, and in the end Gaines clearly and cleverly reveals the counterpoints apparent in each: the avant garde, even radically political elements in Bach\\'s music and the traditional, tried-and-true despotism employed by Frederick. Bach and Frederick, in other words, each contained aspects of traditional and the modern, as well as \\'ratio\\' and \\'sensus\\' (reason and faith, for Gaines)--but in differing proportions according to their station and their art. They were each of them perfect examples, and living contradictions, of the age they helped to define, and has since defined them.To hinge, if only for a few hundred pages, essential elements of the Enlightenment on one musical composition (Bach\\'s Musical Offering), is to reveal a jewel hidden in the historically messy pile that is the \\\\\"age of reason.\\\\\" Bravo.\\n'"
      ]
     },
     "execution_count": 10,
     "metadata": {},
     "output_type": "execute_result"
    }
   ],
   "source": [
    "text2"
   ]
  },
  {
   "cell_type": "code",
   "execution_count": 11,
   "metadata": {},
   "outputs": [
    {
     "name": "stdout",
     "output_type": "stream",
     "text": [
      "Fingerprints in text1:  29\n",
      "Fingerprints in text2:  75\n",
      "Common Fingerprints:  0\n"
     ]
    },
    {
     "data": {
      "text/plain": [
       "0.0"
      ]
     },
     "execution_count": 11,
     "metadata": {},
     "output_type": "execute_result"
    }
   ],
   "source": [
    "compare(text1, text2)"
   ]
  },
  {
   "cell_type": "code",
   "execution_count": null,
   "metadata": {},
   "outputs": [],
   "source": []
  }
 ],
 "metadata": {
  "kernelspec": {
   "display_name": "Python 3",
   "language": "python",
   "name": "python3"
  },
  "language_info": {
   "codemirror_mode": {
    "name": "ipython",
    "version": 3
   },
   "file_extension": ".py",
   "mimetype": "text/x-python",
   "name": "python",
   "nbconvert_exporter": "python",
   "pygments_lexer": "ipython3",
   "version": "3.5.2"
  }
 },
 "nbformat": 4,
 "nbformat_minor": 2
}
