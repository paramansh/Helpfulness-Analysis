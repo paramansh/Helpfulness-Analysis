{
 "cells": [
  {
   "cell_type": "code",
   "execution_count": 7,
   "metadata": {},
   "outputs": [],
   "source": [
    "import nltk"
   ]
  },
  {
   "cell_type": "code",
   "execution_count": 126,
   "metadata": {},
   "outputs": [],
   "source": [
    "text = \"My friend holds a B.Tech in Computer Science and he is very good in machine laearning. His name is Dr. Arun. He is good\""
   ]
  },
  {
   "cell_type": "code",
   "execution_count": 24,
   "metadata": {},
   "outputs": [
    {
     "name": "stdout",
     "output_type": "stream",
     "text": [
      "['My friend holds a B.Tech in Computer Science.', 'His name is Dr. Arun']\n"
     ]
    }
   ],
   "source": [
    "print (nltk.sent_tokenize(text))"
   ]
  },
  {
   "cell_type": "code",
   "execution_count": 96,
   "metadata": {},
   "outputs": [],
   "source": [
    "def kgrams_hash(sentence, k=5):\n",
    "    hashes = []\n",
    "    words = nltk.word_tokenize(sentence)\n",
    "    for i in range(0, len(words) - k + 1):\n",
    "        mystring = ' '.join(words[i:i+k])\n",
    "        hash_object = hashlib.md5(mystring.encode())\n",
    "        hsh = hash_object.hexdigest()\n",
    "        hashes.append(hsh)\n",
    "#     print (hashes)\n",
    "    return hashes\n",
    "        "
   ]
  },
  {
   "cell_type": "code",
   "execution_count": 56,
   "metadata": {},
   "outputs": [
    {
     "name": "stdout",
     "output_type": "stream",
     "text": [
      "['a1d8c0abc2227fa3d13c68c3e52b22a6', 'a1d8c0abc2227fa3d13c68c3e52b22a6', 'a1d8c0abc2227fa3d13c68c3e52b22a6', 'a1d8c0abc2227fa3d13c68c3e52b22a6', 'a1d8c0abc2227fa3d13c68c3e52b22a6']\n"
     ]
    },
    {
     "data": {
      "text/plain": [
       "['a1d8c0abc2227fa3d13c68c3e52b22a6',\n",
       " 'a1d8c0abc2227fa3d13c68c3e52b22a6',\n",
       " 'a1d8c0abc2227fa3d13c68c3e52b22a6',\n",
       " 'a1d8c0abc2227fa3d13c68c3e52b22a6',\n",
       " 'a1d8c0abc2227fa3d13c68c3e52b22a6']"
      ]
     },
     "execution_count": 56,
     "metadata": {},
     "output_type": "execute_result"
    }
   ],
   "source": [
    "kgrams(sentence)"
   ]
  },
  {
   "cell_type": "code",
   "execution_count": 26,
   "metadata": {},
   "outputs": [],
   "source": [
    "sentences = nltk.sent_tokenize(text)"
   ]
  },
  {
   "cell_type": "code",
   "execution_count": 29,
   "metadata": {},
   "outputs": [],
   "source": [
    "sentence = sentences[0]"
   ]
  },
  {
   "cell_type": "code",
   "execution_count": 31,
   "metadata": {},
   "outputs": [],
   "source": [
    "words = nltk.word_tokenize(sentence)"
   ]
  },
  {
   "cell_type": "code",
   "execution_count": 32,
   "metadata": {},
   "outputs": [
    {
     "name": "stdout",
     "output_type": "stream",
     "text": [
      "My\n",
      "friend\n",
      "holds\n",
      "a\n",
      "B.Tech\n",
      "in\n",
      "Computer\n",
      "Science\n",
      ".\n"
     ]
    }
   ],
   "source": [
    "ans = []\n",
    "for word in words:\n",
    "    print (word)"
   ]
  },
  {
   "cell_type": "code",
   "execution_count": 50,
   "metadata": {},
   "outputs": [
    {
     "data": {
      "text/plain": [
       "'My friend'"
      ]
     },
     "execution_count": 50,
     "metadata": {},
     "output_type": "execute_result"
    }
   ],
   "source": [
    "' '.join(words[0:2])"
   ]
  },
  {
   "cell_type": "code",
   "execution_count": 52,
   "metadata": {},
   "outputs": [
    {
     "data": {
      "text/plain": [
       "['My', 'friend', 'holds', 'a', 'B.Tech', 'in', 'Computer', 'Science', '.']"
      ]
     },
     "execution_count": 52,
     "metadata": {},
     "output_type": "execute_result"
    }
   ],
   "source": [
    "len(words)\n",
    "words"
   ]
  },
  {
   "cell_type": "code",
   "execution_count": 124,
   "metadata": {},
   "outputs": [],
   "source": [
    "def winnow(text, k=5, w=6):\n",
    "    fingerprints = set([])\n",
    "    sentences = nltk.sent_tokenize(text)\n",
    "    for sentence in sentences:\n",
    "        #if sentence\n",
    "        sentence_hashes = kgrams_hash(sentence, k)\n",
    "#         print (sentence_hashes)\n",
    "        if len(sentence_hashes) and len(sentence_hashes) < w:\n",
    "#             print (\"small\")\n",
    "            fingerprints.add(min(sentence_hashes)))            \n",
    "        else:\n",
    "            for i in range(0, len(sentence_hashes) - w + 1):\n",
    "                window = sentence_hashes[i:i+w]\n",
    "                fingerprints.add(min(window))\n",
    "#                 print (window)\n",
    "    return fingerprints"
   ]
  },
  {
   "cell_type": "code",
   "execution_count": 127,
   "metadata": {},
   "outputs": [
    {
     "name": "stdout",
     "output_type": "stream",
     "text": [
      "small\n"
     ]
    },
    {
     "data": {
      "text/plain": [
       "{'05f9512a3b9dd329a21de13e6d23efad',\n",
       " '12007a53919863314fd6762b3d06db10',\n",
       " '139a6a3e71d20363503af8d8a494fbe1'}"
      ]
     },
     "execution_count": 127,
     "metadata": {},
     "output_type": "execute_result"
    }
   ],
   "source": [
    "winnow(text)"
   ]
  },
  {
   "cell_type": "code",
   "execution_count": 101,
   "metadata": {},
   "outputs": [],
   "source": [
    "sentence_hashes = kgrams_hash(sentence)\n"
   ]
  },
  {
   "cell_type": "code",
   "execution_count": 103,
   "metadata": {},
   "outputs": [
    {
     "data": {
      "text/plain": [
       "'7edf8d1e1e1e3ed92e34c52033697db8'"
      ]
     },
     "execution_count": 103,
     "metadata": {},
     "output_type": "execute_result"
    }
   ],
   "source": [
    "min(sentence_hashes)\n"
   ]
  },
  {
   "cell_type": "code",
   "execution_count": 109,
   "metadata": {},
   "outputs": [
    {
     "data": {
      "text/plain": [
       "[]"
      ]
     },
     "execution_count": 109,
     "metadata": {},
     "output_type": "execute_result"
    }
   ],
   "source": [
    "sentence = \"he is good\"\n",
    "kgrams_hash(sentence)"
   ]
  },
  {
   "cell_type": "raw",
   "metadata": {},
   "source": [
    "text"
   ]
  },
  {
   "cell_type": "code",
   "execution_count": 133,
   "metadata": {},
   "outputs": [
    {
     "name": "stdout",
     "output_type": "stream",
     "text": [
      "0 My friend holds a B.Tech in Computer Science.\n",
      "1 His name is Dr. Arun\n"
     ]
    }
   ],
   "source": [
    "for index, sentence in enumerate(sentences):\n",
    "    print (index, sentence)"
   ]
  },
  {
   "cell_type": "code",
   "execution_count": null,
   "metadata": {},
   "outputs": [],
   "source": []
  }
 ],
 "metadata": {
  "kernelspec": {
   "display_name": "Python 3",
   "language": "python",
   "name": "python3"
  },
  "language_info": {
   "codemirror_mode": {
    "name": "ipython",
    "version": 3
   },
   "file_extension": ".py",
   "mimetype": "text/x-python",
   "name": "python",
   "nbconvert_exporter": "python",
   "pygments_lexer": "ipython3",
   "version": "3.5.2"
  }
 },
 "nbformat": 4,
 "nbformat_minor": 2
}
